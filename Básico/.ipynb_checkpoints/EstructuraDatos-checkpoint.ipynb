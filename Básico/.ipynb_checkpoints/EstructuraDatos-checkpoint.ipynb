{
 "cells": [
  {
   "cell_type": "markdown",
   "id": "d5af3bee-fe0a-4437-8f42-3c96b0be4a32",
   "metadata": {},
   "source": [
    "# ¿Qué es una matriz?\n",
    "Desde un punto de vista matemático, una matriz es un conjunto bidimensional de números. Cada uno de los números que conforman la matriz se denomina elemento, y estos se distinguen entre sí por la posición que ocupan, es decir, la fila y la columna a la que pertenecen.\\\n",
    "**Fuente:** [Resumen de Matrices | Superprof](https://www.superprof.es/apuntes/escolar/matematicas/algebralineal/matrices/matrices-12.html#tema_concepto-de-matriz)\n",
    "\n",
    "Las matrices en __Python__ se crean anidando listas y pueden servir para guardar valores como si fuera una tabla. Esto se consigue enlazando cada fila con un conjunto de datos (por ejemplo, una persona) y cada columna con un tipo de dato (por ejemplo, nombre, edad, dirección, etc.)"
   ]
  },
  {
   "cell_type": "markdown",
   "id": "d708859b-84db-4c8d-ae28-049898cb18ce",
   "metadata": {},
   "source": [
    "# ¿Qué es un grafo?\n",
    "\n",
    "Un grafo es un conjunto de objetos llamados vértices o nodos unidos por enlaces llamados aristas o arcos, que permiten representar relaciones binarias entre elementos de un conjunto. Son objeto de estudio de la teoría de grafos.\n",
    "\n",
    "Típicamente, un grafo se representa gráficamente como un conjunto de puntos (vértices o nodos) unidos por líneas (aristas o arcos), como se puede ver en la siguiente imagen.\n",
    "\n",
    "<div class=\"figure\" align = \"center\">\n",
    "  <img width=\"200\" style=\"background-color: white\" src=\"https://upload.wikimedia.org/wikipedia/commons/5/5b/6n-graf.svg\">\n",
    "  <p>Representación gráfica de un grafo</p>\n",
    "</div>\n",
    "\n",
    "Los grafos sirven para estudiar las interrelaciones entre unidades que interactúan unas con otras. Por ejemplo, las relaciones personales en un grupo de personas.\n",
    "\n",
    "Los bordes pueden ser dirigidos o no dirigidos. Esto significa que la relación puede ser recíproca (como darse la mano, en cuyo caso el borde no es dirigido) o no (como deber dinero, en cuyo caso el borde es dirigido).\\\n",
    "**Fuente:** [Grafo -  Wikipedia, la enciclopedia libre](https://es.wikipedia.org/wiki/Grafo)"
   ]
  },
  {
   "cell_type": "markdown",
   "id": "d225c6fa-c6ec-4372-8a95-b109ed2c9b29",
   "metadata": {},
   "source": [
    "# ¿Qué es un árbol?\n",
    "\n",
    "Los árboles corresponden a la subclase de grafos no dirigidos. Sirven para organizar y relacionar datos en una base de datos, por ejemplo. Esto permite realizar operaciones de manera eficiente. Por ejemplo, un árbol de definición jerárquica se utiliza para configurar una base de datos para los registros de libros existentes en diversas bibliotecas.\n",
    "\n",
    "<div class=\"figure\" align = \"center\">\n",
    "  <img width=\"200\" style=\"background-color: white\" src=\"https://upload.wikimedia.org/wikipedia/commons/2/24/Tree_graph.svg\">\n",
    "  <p>Representación gráfica de un árbol</p>\n",
    "</div>\n",
    "\n",
    "Los árboles cumplen cualquiera de las condiciones alternativas:\n",
    "- Cualquier par de vértices del grafo está conectado por exactamente un camino.\n",
    "- El grafo es conexo (todos sus vértices están conectados por un semicamino) y no tiene ciclos (no consiste en un camino simple cerrado).\n",
    "- El grafo no tiene ciclos y, si se añade alguna arista se forma un ciclo.\n",
    "- El grafo es conexo y si se le quita alguna arista deja de ser conexo.\n",
    "- El grafo es conexo y el grafo completo (grafo simple donde cada par de vértices está conectado por una arista) de 3 vértices no es un menor (un grafo se denomina menor que otro si se puede formar el primero a partir del segundo eliminando aristas y vértices y mediante la contracción de aristas) del mismo.\n",
    "\n",
    "Las condiciones anteriores son todas equivalentes, es decir, si se cumple una de ellas otras también se cumplen. Para árboles finitos además se cumple que: Si un árbol tiene un número finito de vértices, n, entonces tiene n − 1 aristas.\\\n",
    "**Fuente:** [Árbol (teoría de grafos) -  Wikipedia, la enciclopedia libre](https://es.wikipedia.org/wiki/%C3%81rbol_(teor%C3%ADa_de_grafos))"
   ]
  },
  {
   "cell_type": "markdown",
   "id": "80a9a55b-6cf0-4ee1-a2f8-b3b0aeaa644b",
   "metadata": {
    "tags": []
   },
   "source": [
    "## Ejercicio 1\n",
    "\n",
    "**Crea un grafo que represente la amistad entre un grupo de personas. Cada persona puede ser representada por un nodo y las amistades entre las personas pueden ser representadas por aristas. Por ejemplo, si A es amiga de B y de C, el grafo podría tener tres nodos (A, B y C) y tres aristas (A-B, A-C y B-C).**"
   ]
  },
  {
   "cell_type": "code",
   "execution_count": 12,
   "id": "e5bef304-1044-4443-80cc-0430ca2525e6",
   "metadata": {
    "tags": []
   },
   "outputs": [
    {
     "name": "stdout",
     "output_type": "stream",
     "text": [
      "Matriz vacía: \n",
      "[0, 0, 0]\n",
      "[0, 0, 0]\n",
      "[0, 0, 0]\n",
      "Matriz con datos: \n",
      "[0, 1, 1]\n",
      "[1, 0, 0]\n",
      "[1, 0, 0]\n"
     ]
    }
   ],
   "source": [
    "amigos = 3\n",
    "\n",
    "def matriz_cuadrada(lado):\n",
    "    matriz = list()\n",
    "    for i in range(0, lado):\n",
    "        fila = list()\n",
    "        for j in range(0, lado):\n",
    "            fila.append(0)\n",
    "        matriz.append(fila.copy())\n",
    "    return matriz\n",
    "\n",
    "matriz_amigos = matriz_cuadrada(amigos)\n",
    "\n",
    "def show_matriz(matriz):\n",
    "    for i in matriz:\n",
    "        print(i)\n",
    "\n",
    "print(\"Matriz vacía: \")\n",
    "show_matriz(matriz_amigos)\n",
    "\n",
    "def add_relaciones(matriz, fila, columna):\n",
    "    matriz[fila-1][columna-1] = 1\n",
    "\n",
    "add_relaciones(matriz_amigos, 1, 2)\n",
    "add_relaciones(matriz_amigos, 1, 3)\n",
    "add_relaciones(matriz_amigos, 2, 1)\n",
    "add_relaciones(matriz_amigos, 3, 1)\n",
    "\n",
    "print(\"Matriz con datos: \")\n",
    "show_matriz(matriz_amigos)"
   ]
  },
  {
   "cell_type": "markdown",
   "id": "eed81cc8-3446-4374-b036-9fad3772716a",
   "metadata": {},
   "source": [
    "## Ejercicio 2\n",
    "\n",
    "__Crea una matriz que represente la relación entre diferentes departamentos de una empresa. Cada departamento puede ser representado por una fila y una columna de la matriz. La entrada en la fila i y la columna j puede ser el número de empleados que trabajan en ambos departamentos. Por ejemplo, si el departamento de ventas tiene 10 empleados y el departamento de marketing tiene 5 empleados, la entrada en la fila de ventas y la columna de marketing sería 5.__"
   ]
  },
  {
   "cell_type": "markdown",
   "id": "409dd587-69ab-4e2b-93f4-c70d8ea87305",
   "metadata": {},
   "source": [
    "## Ejercicio 3\n",
    "\n",
    "**Crea un árbol que represente la jerarquía de una empresa. La raíz del árbol puede ser el CEO y los hijos de la raíz pueden ser los vicepresidentes. Los hijos de los vicepresidentes pueden ser los directores y así sucesivamente.**"
   ]
  },
  {
   "cell_type": "markdown",
   "id": "ff7716a7-bde1-4f32-89dd-ead06e72bba3",
   "metadata": {},
   "source": [
    "## Ejercicio 4\n",
    "\n",
    "__Investiga e implementa la forma de representar esta información haciendo uso de Python. Pon el ejemplo.__"
   ]
  },
  {
   "cell_type": "code",
   "execution_count": null,
   "id": "65a4785a-046d-4145-9cb1-bb8baafa9c26",
   "metadata": {},
   "outputs": [],
   "source": []
  }
 ],
 "metadata": {
  "kernelspec": {
   "display_name": "Python 3 (ipykernel)",
   "language": "python",
   "name": "python3"
  },
  "language_info": {
   "codemirror_mode": {
    "name": "ipython",
    "version": 3
   },
   "file_extension": ".py",
   "mimetype": "text/x-python",
   "name": "python",
   "nbconvert_exporter": "python",
   "pygments_lexer": "ipython3",
   "version": "3.11.3"
  }
 },
 "nbformat": 4,
 "nbformat_minor": 5
}
