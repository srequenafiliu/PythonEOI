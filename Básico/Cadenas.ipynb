{
 "cells": [
  {
   "cell_type": "code",
   "execution_count": 1,
   "id": "cfd97349-efa3-442a-b050-0c6bf966f0d1",
   "metadata": {
    "tags": []
   },
   "outputs": [
    {
     "name": "stdout",
     "output_type": "stream",
     "text": [
      "P\n",
      "1\n",
      "¡Hola mundo!\n",
      "12\n"
     ]
    }
   ],
   "source": [
    "letter = 'P'\n",
    "print(letter)\n",
    "print(len(letter))\n",
    "greeting = '¡Hola mundo!'\n",
    "print(greeting)\n",
    "print(len(greeting))"
   ]
  },
  {
   "cell_type": "code",
   "execution_count": 2,
   "id": "4d775d71-e0ba-412d-b632-b3a2be21fafb",
   "metadata": {
    "tags": []
   },
   "outputs": [
    {
     "name": "stdout",
     "output_type": "stream",
     "text": [
      "Me llamo Sandra Requena.\n",
      "Estoy aprendiendo Python.\n",
      "Estas son mis prácticas.\n",
      "Me llamo Sandra Requena.\n",
      "Estoy aprendiendo Python.\n",
      "Estas son mis prácticas.\n"
     ]
    }
   ],
   "source": [
    "# Para respetar los saltos de línea...\n",
    "multiline_string = '''Me llamo Sandra Requena.\n",
    "Estoy aprendiendo Python.\n",
    "Estas son mis prácticas.'''\n",
    "print(multiline_string)\n",
    "multiline_string = \"\"\"Me llamo Sandra Requena.\n",
    "Estoy aprendiendo Python.\n",
    "Estas son mis prácticas.\"\"\"\n",
    "print(multiline_string)"
   ]
  },
  {
   "cell_type": "code",
   "execution_count": 3,
   "id": "2aef5e3c-0db3-416c-9556-fe1a47fa812e",
   "metadata": {
    "tags": []
   },
   "outputs": [
    {
     "name": "stdout",
     "output_type": "stream",
     "text": [
      "Sandra Requena\n",
      "6\n",
      "7\n",
      "14\n"
     ]
    }
   ],
   "source": [
    "# Concatenar cadenas\n",
    "first_name = 'Sandra'\n",
    "last_name = 'Requena'\n",
    "full_name = first_name  +  ' ' + last_name\n",
    "print(full_name)\n",
    "print(len(first_name))\n",
    "print(len(last_name))\n",
    "print(len(full_name))"
   ]
  },
  {
   "cell_type": "code",
   "execution_count": 4,
   "id": "e603e618-5054-4bb3-a807-fc383452f2ed",
   "metadata": {
    "tags": []
   },
   "outputs": [
    {
     "name": "stdout",
     "output_type": "stream",
     "text": [
      "P\n",
      "y\n",
      "t\n",
      "h\n",
      "o\n",
      "n\n"
     ]
    }
   ],
   "source": [
    "#### Separar cadenas en caracteres\n",
    "language = 'Python'\n",
    "a,b,c,d,e,f = language\n",
    "print(a)\n",
    "print(b)\n",
    "print(c)\n",
    "print(d)\n",
    "print(e)\n",
    "print(f)"
   ]
  },
  {
   "cell_type": "code",
   "execution_count": 5,
   "id": "db7b1b33-14f6-4e7d-b1df-54bb5f3da6bd",
   "metadata": {
    "tags": []
   },
   "outputs": [
    {
     "name": "stdout",
     "output_type": "stream",
     "text": [
      "P\n",
      "y\n",
      "n\n",
      "n\n",
      "o\n"
     ]
    }
   ],
   "source": [
    "# Accediendo a los caracteres mediante su índice en la cadena\n",
    "language = 'Python'\n",
    "first_letter = language[0]\n",
    "print(first_letter)\n",
    "second_letter = language[1]\n",
    "print(second_letter)\n",
    "last_index = len(language) - 1\n",
    "last_letter = language[last_index]\n",
    "print(last_letter)\n",
    "last_letter = language[-1] # Si queremos leer la cadena de derecha a izquierda, se usan índices negativos\n",
    "print(last_letter)\n",
    "second_last = language[-2]\n",
    "print(second_last)"
   ]
  },
  {
   "cell_type": "code",
   "execution_count": 6,
   "id": "293844e9-a54b-4b3b-b4d7-8c660def5cd9",
   "metadata": {
    "tags": []
   },
   "outputs": [
    {
     "name": "stdout",
     "output_type": "stream",
     "text": [
      "Pyt\n",
      "hon\n",
      "hon\n",
      "hon\n"
     ]
    }
   ],
   "source": [
    "# Partir cadenas\n",
    "language = 'Python'\n",
    "first_three = language[0:3] # Parte desde la letra con índice 0 hasta la letra con índice 3 (no incluida)\n",
    "last_three = language[3:6]\n",
    "print(first_three)\n",
    "print(last_three)\n",
    "last_three = language[-3:] # Otra forma de partir\n",
    "print(last_three)\n",
    "last_three = language[3:] # Parte desde la posición 3 hasta el final\n",
    "print(last_three)"
   ]
  },
  {
   "cell_type": "code",
   "execution_count": 7,
   "id": "74a41a0c-c361-4835-93c7-15901325e277",
   "metadata": {
    "tags": []
   },
   "outputs": [
    {
     "name": "stdout",
     "output_type": "stream",
     "text": [
      "Pto\n",
      "nhy\n"
     ]
    }
   ],
   "source": [
    "# Skipping character while splitting Python strings\n",
    "language = 'Python'\n",
    "pto = language[0:6:2] # El tercer número se refiere al incremento del índice. En este caso, la cadena constará de los caracteres conposición 0,2 y 4.\n",
    "print(pto)\n",
    "nhy = language[-1:-7:-2]\n",
    "print(nhy)"
   ]
  },
  {
   "cell_type": "code",
   "execution_count": 8,
   "id": "7858b903-42e5-43f6-8c8d-4091f42bd0f8",
   "metadata": {},
   "outputs": [
    {
     "name": "stdout",
     "output_type": "stream",
     "text": [
      "Voy a probar el salto de línea\n",
      "¿Ha funcionado?\n",
      "Frase\ttabulada\tpara\tprobar\n",
      "Para escribir caracteres especiales se utiliza la barra \\\n",
      "Ejemplos: ' y \"\n"
     ]
    }
   ],
   "source": [
    "print('Voy a probar el salto de línea\\n¿Ha funcionado?')\n",
    "print('Frase\\ttabulada\\tpara\\tprobar')\n",
    "print('Para escribir caracteres especiales se utiliza la barra \\\\')\n",
    "print('Ejemplos: \\' y \\\"')"
   ]
  },
  {
   "cell_type": "code",
   "execution_count": 9,
   "id": "8a8b5766-85a5-47f7-9d45-309bb7a544d0",
   "metadata": {
    "tags": []
   },
   "outputs": [
    {
     "name": "stdout",
     "output_type": "stream",
     "text": [
      "Sandra\n",
      "1\n",
      "0\n",
      "True\n",
      "False\n",
      "True\n",
      "False\n",
      "Frase   tabulada        con     \\t\n",
      "Frase     tabulada  con       \\t\n",
      "4\n",
      "-1\n",
      "Soy Sandra Requena y vivo en Alicante.\n",
      "El área del círculo con radio 10 es 314.0\n",
      "Soy Sandra Requena y vivo en Alicante.\n",
      "2\n",
      "4\n",
      "True\n",
      "False\n",
      "True\n",
      "False\n",
      "False\n",
      "True\n",
      "True\n",
      "True\n",
      "True\n",
      "False\n",
      "True\n",
      "False\n",
      "True\n",
      "False\n",
      "False\n",
      "True\n",
      "HTML#, CSS#, JavaScript#, React\n",
      "Eliminar las X que rodean la cadena\n",
      "Adiós mundo\n",
      "['hola', 'mundo']\n",
      "Hola Mundo\n",
      "TODO EN MINÚSCULAS\n",
      "aLgUNaS SON mAyÚSCulAS\n"
     ]
    }
   ],
   "source": [
    "## Métodos para cadenas\n",
    "nombre = 'sandra' # capitalize(): Pone en mayúsculas la primera letra de la cadena\n",
    "print(nombre.capitalize())\n",
    "\n",
    "frase = 'Probando los métodos para cadenas'\n",
    "print(frase.count('de')) # count(): Devuelve el número de coincidencias. count(substring, start, end)\n",
    "print(frase.count('a', 7, 14))\n",
    "\n",
    "print(frase.startswith('Pro'))\n",
    "print(frase.startswith('Hola'))\n",
    "\n",
    "print(frase.endswith('as'))\n",
    "print(frase.endswith('dias'))\n",
    "\n",
    "tabulado = 'Frase\\ttabulada\\tcon\\t\\\\t'\n",
    "print(tabulado.expandtabs()) # expandtabs(): Sustituye la tabulación '\\t' con 8 espacios si no se especifica número\n",
    "print(tabulado.expandtabs(10))\n",
    "\n",
    "print(frase.find('a')) # find(): Devuelve el índice de la primera coincidencia\n",
    "print(frase.find('y'))\n",
    "   \n",
    "nombre, apellido, ciudad = 'Sandra', 'Requena', 'Alicante'\n",
    "formatted = 'Soy {} {} y vivo en {}.'.format(nombre, apellido, ciudad) # format(): Da formato a una cadena\n",
    "print(formatted)\n",
    "radio, pi = 10, 3.14\n",
    "area = pi * radio ** 2\n",
    "resultado = 'El área del círculo con radio {} es {}'.format(str(radio), str(area))\n",
    "print(resultado)\n",
    "formatted = 'Soy %s %s y vivo en %s.' % (nombre, apellido, ciudad) # Método parecido a Java\n",
    "print(formatted)\n",
    "\n",
    "print(frase.index('o'))  # index(): Parecido a find, pero da error si no encuentra la subcadena\n",
    "print(frase.index('a'))\n",
    "\n",
    "alnum1, alnum2 = 'Prueba1sinespacios', 'Prueba 2 con espacios'\n",
    "print(alnum1.isalnum()) # isalnum(): Comprueba si el valor de la variable es alfanumérico\n",
    "print(alnum2.isalnum())\n",
    "\n",
    "alfadigit1, alfadigit2 = 'Cadena', '123'\n",
    "print(alfadigit1.isalpha()) # isalpha(): Comprueba si todos los caracteres son letras\n",
    "print(alfadigit2.isalpha())\n",
    "\n",
    "print(alfadigit1.isdigit()) # isdigit(): Comprueba si todos los caracteres son números\n",
    "print(alfadigit2.isdigit())\n",
    "\n",
    "print(alfadigit2.isnumeric()) # isnumeric(): Alternativa a isdigit()\n",
    "print(alfadigit2.isnumeric())\n",
    "\n",
    "num1, num2 = '10', '10.5'\n",
    "print(num1.isdecimal()) # isdecimal(): Comprueba si hay números decimales\n",
    "print(num2.isdecimal())\n",
    "\n",
    "var1, var2 = 'variable1', '2variable'\n",
    "print(var1.isidentifier()) # isidentifier(): Comprueba si el valor de la variable puede ser un nombre de variable válido\n",
    "print(var2.isidentifier())\n",
    "\n",
    "frase1, frase2 = 'minúsculas', 'MAYÚSCULAS'\n",
    "print(frase1.islower()) # islower(): Comprueba si todas las letras son minúsculas\n",
    "print(frase2.islower())\n",
    "\n",
    "print(frase1.isupper()) # isupper(): Comprueba si todas las letras son Mayúsculas\n",
    "print(frase2.isupper())\n",
    "\n",
    "array = ['HTML', 'CSS', 'JavaScript', 'React']\n",
    "resultado = '#, '.join(array) # join(): Concatena un array para convertirlo en un string\n",
    "print(resultado)\n",
    "\n",
    "frase = ' XXEliminar las X que rodean la cadenaXX '\n",
    "print(frase.strip(' X')) # strip(): Elimina tanto los caracteres iniciales como los finales. Si no se indican caracteres, elimina los espacios.\n",
    "\n",
    "frase = 'hola mundo'\n",
    "print(frase.replace('hola', 'Adiós')) # replace(): Sustituye una subcadena por otra Replaces substring inside\n",
    "\n",
    "print(frase.split()) # split(): Crea un array dividiendo por los caracteres especificados. Si no se especifican, se divide por espacios.\n",
    "\n",
    "print(frase.title()) # title(): Pone en mayúsculas la primera letra de cada palabra de la cadena\n",
    "\n",
    "\n",
    "  \n",
    "frase1, frase2 = 'todo en minúsculas', 'AlGunAs son MaYúscULas'\n",
    "print(frase1.swapcase()) # swapcase(): Convierte las minúsculas a mayúsculas y viceversa\n",
    "print(frase2.swapcase())"
   ]
  }
 ],
 "metadata": {
  "kernelspec": {
   "display_name": "Python 3 (ipykernel)",
   "language": "python",
   "name": "python3"
  },
  "language_info": {
   "codemirror_mode": {
    "name": "ipython",
    "version": 3
   },
   "file_extension": ".py",
   "mimetype": "text/x-python",
   "name": "python",
   "nbconvert_exporter": "python",
   "pygments_lexer": "ipython3",
   "version": "3.11.3"
  }
 },
 "nbformat": 4,
 "nbformat_minor": 5
}
