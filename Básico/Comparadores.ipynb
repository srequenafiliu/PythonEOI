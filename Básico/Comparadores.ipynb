{
 "cells": [
  {
   "cell_type": "code",
   "execution_count": 4,
   "id": "a14f4e34-8b18-4217-ad09-55cab3b12ef6",
   "metadata": {
    "tags": []
   },
   "outputs": [
    {
     "name": "stdout",
     "output_type": "stream",
     "text": [
      "True\n",
      "True\n",
      "False\n",
      "True\n",
      "True\n",
      "False\n",
      "True\n"
     ]
    }
   ],
   "source": [
    "print(3 > 2)     # Mayor que\n",
    "print(3 >= 2)    # Mayor o igual que\n",
    "print(3 < 2)     # Menor que\n",
    "print(2 < 3)\n",
    "print(2 <= 3)    # Menor o igual que\n",
    "print(3 == 2)    # Igual a\n",
    "print(3 != 2)    # Diferente de"
   ]
  },
  {
   "cell_type": "code",
   "execution_count": 9,
   "id": "87c74a24-404d-42d6-86e1-23eda967c8c0",
   "metadata": {},
   "outputs": [
    {
     "name": "stdout",
     "output_type": "stream",
     "text": [
      "False\n",
      "True\n",
      "True\n",
      "False\n",
      "True\n",
      "True\n",
      "False\n"
     ]
    }
   ],
   "source": [
    "# Comparaciones de longitud de cadenas\n",
    "print(len('limón') == len('aguacate'))\n",
    "print(len('limón') != len('aguacate'))\n",
    "print(len('limón') < len('aguacate'))\n",
    "print(len('leche') != len('carne'))\n",
    "print(len('leche') == len('carne'))\n",
    "print(len('tomate') == len('patata'))\n",
    "print(len('python') > len('dragon'))"
   ]
  },
  {
   "cell_type": "code",
   "execution_count": 11,
   "id": "d77925b5-84a2-435b-9057-0f9146cfcb9f",
   "metadata": {
    "tags": []
   },
   "outputs": [
    {
     "name": "stdout",
     "output_type": "stream",
     "text": [
      "1 is 1 True\n",
      "1 is not 2 True\n",
      "S in Sandra True\n",
      "R in Sandra False\n",
      "True\n",
      "a in an: True\n",
      "4 is 2 ** 2: True\n"
     ]
    },
    {
     "name": "stderr",
     "output_type": "stream",
     "text": [
      "<>:2: SyntaxWarning: \"is\" with a literal. Did you mean \"==\"?\n",
      "<>:3: SyntaxWarning: \"is not\" with a literal. Did you mean \"!=\"?\n",
      "<>:8: SyntaxWarning: \"is\" with a literal. Did you mean \"==\"?\n",
      "<>:2: SyntaxWarning: \"is\" with a literal. Did you mean \"==\"?\n",
      "<>:3: SyntaxWarning: \"is not\" with a literal. Did you mean \"!=\"?\n",
      "<>:8: SyntaxWarning: \"is\" with a literal. Did you mean \"==\"?\n",
      "C:\\Users\\Sandra\\AppData\\Local\\Temp\\ipykernel_13156\\3605839972.py:2: SyntaxWarning: \"is\" with a literal. Did you mean \"==\"?\n",
      "  print('1 is 1', 1 is 1)                   # Equivalente a ==\n",
      "C:\\Users\\Sandra\\AppData\\Local\\Temp\\ipykernel_13156\\3605839972.py:3: SyntaxWarning: \"is not\" with a literal. Did you mean \"!=\"?\n",
      "  print('1 is not 2', 1 is not 2)           # Equivalente a !=\n",
      "C:\\Users\\Sandra\\AppData\\Local\\Temp\\ipykernel_13156\\3605839972.py:8: SyntaxWarning: \"is\" with a literal. Did you mean \"==\"?\n",
      "  print('4 is 2 ** 2:', 4 is 2 ** 2)\n"
     ]
    }
   ],
   "source": [
    "# Otra forma de comparar\n",
    "print('1 is 1', 1 is 1)                   # Equivalente a ==\n",
    "print('1 is not 2', 1 is not 2)           # Equivalente a !=\n",
    "print('S in Sandra', 'S' in 'Sandra')\n",
    "print('R in Sandra', 'R' in 'Sandra')\n",
    "print('mundo' in 'Hola mundo')\n",
    "print('a in an:', 'a' in 'an')\n",
    "print('4 is 2 ** 2:', 4 is 2 ** 2)"
   ]
  },
  {
   "cell_type": "code",
   "execution_count": 7,
   "id": "8032386b-739b-4b84-8586-03402fef5026",
   "metadata": {
    "tags": []
   },
   "outputs": [
    {
     "name": "stdout",
     "output_type": "stream",
     "text": [
      "True\n",
      "False\n",
      "False\n",
      "True\n",
      "True\n",
      "False\n"
     ]
    }
   ],
   "source": [
    "print(3 > 2 and 4 > 3) # True porque las dos partes son ciertas\n",
    "print(3 > 2 and 4 < 3) # False porque una de las partes es falsa\n",
    "print(3 < 2 and 4 < 3) # False porque las dos partes son falsas\n",
    "\n",
    "print(3 > 2 or 4 > 3)  # True porque las dos partes son ciertas\n",
    "print(3 > 2 or 4 < 3)  # True porque al menos una de las partes es cierta\n",
    "print(3 < 2 or 4 < 3)  # False porque las dos partes son falsas"
   ]
  },
  {
   "cell_type": "code",
   "execution_count": 8,
   "id": "05a5fa8c-4878-497e-8ac2-6e0cb80c75de",
   "metadata": {
    "tags": []
   },
   "outputs": [
    {
     "name": "stdout",
     "output_type": "stream",
     "text": [
      "False\n",
      "False\n",
      "True\n",
      "True\n",
      "False\n"
     ]
    }
   ],
   "source": [
    "print(not 3 > 2)     # not devuelve el valor contrario\n",
    "print(not True)\n",
    "print(not False)\n",
    "print(not not True)\n",
    "print(not not False)"
   ]
  },
  {
   "cell_type": "code",
   "execution_count": null,
   "id": "96265bbf-0da8-4b24-814b-f1efd469529b",
   "metadata": {},
   "outputs": [],
   "source": []
  }
 ],
 "metadata": {
  "kernelspec": {
   "display_name": "Python 3 (ipykernel)",
   "language": "python",
   "name": "python3"
  },
  "language_info": {
   "codemirror_mode": {
    "name": "ipython",
    "version": 3
   },
   "file_extension": ".py",
   "mimetype": "text/x-python",
   "name": "python",
   "nbconvert_exporter": "python",
   "pygments_lexer": "ipython3",
   "version": "3.11.3"
  }
 },
 "nbformat": 4,
 "nbformat_minor": 5
}
