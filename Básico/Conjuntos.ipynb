{
 "cells": [
  {
   "cell_type": "code",
   "execution_count": 1,
   "metadata": {},
   "outputs": [
    {
     "name": "stdout",
     "output_type": "stream",
     "text": [
      "0\n",
      "{'elemento3', 'elemento1', 'elemento2'}\n",
      "3\n",
      "('plátano', 'naranja', 'pera', 'limón')\n",
      "4\n"
     ]
    }
   ],
   "source": [
    "#Los conjuntos (sets) son listas en las cuales no se pueden repetir elementos\n",
    "empty_set = set()\n",
    "\n",
    "print(len(empty_set))\n",
    "\n",
    "conjunto = {'elemento1', 'elemento2', 'elemento3'}\n",
    "frutas = {'plátano', 'naranja', 'pera', 'limón'}\n",
    "\n",
    "print(conjunto)\n",
    "print(len(conjunto))\n",
    "print(frutas)\n",
    "print(len(frutas))"
   ]
  },
  {
   "cell_type": "code",
   "execution_count": 2,
   "metadata": {},
   "outputs": [
    {
     "name": "stdout",
     "output_type": "stream",
     "text": [
      "True\n",
      "False\n"
     ]
    }
   ],
   "source": [
    "# Comprobar elementos\n",
    "frutas = {'plátano', 'naranja', 'pera', 'limón'}\n",
    "print('naranja' in frutas)\n",
    "print('lima' in frutas)"
   ]
  },
  {
   "cell_type": "code",
   "execution_count": 8,
   "metadata": {},
   "outputs": [
    {
     "name": "stdout",
     "output_type": "stream",
     "text": [
      "{'naranja', 'limón', 'plátano', 'fresa', 'pera'}\n",
      "{'naranja', 'frambuesaarándano', 'limón', 'plátano', 'fresa', 'pera', 'mora'}\n",
      "{'naranja', 'frambuesaarándano', 'limón', 'plátano', 'fresa', 'pera'}\n",
      "naranja\n",
      "set()\n"
     ]
    }
   ],
   "source": [
    "# Modificar conjuntos\n",
    "frutas = {'plátano', 'naranja', 'pera', 'limón'}\n",
    "frutas.add('fresa') # Sirve para añadir un elemento\n",
    "print(frutas)\n",
    "frutas.update(['mora', 'frambuesa' 'arándano']) # Sirve para añadir una lista de elementos\n",
    "print(frutas)\n",
    "\n",
    "frutas.remove('mora')\n",
    "print(frutas)\n",
    "\n",
    "# pop(): Extrae un elemento del conjunto\n",
    "print(frutas.pop())\n",
    "\n",
    "frutas.clear()\n",
    "print(frutas)\n",
    "\n",
    "del frutas # Borra la variable"
   ]
  },
  {
   "cell_type": "code",
   "execution_count": 10,
   "metadata": {},
   "outputs": [
    {
     "name": "stdout",
     "output_type": "stream",
     "text": [
      "['plátano', 'naranja', 'pera', 'limón', 'naranja']\n",
      "{'plátano', 'naranja', 'pera', 'limón'}\n"
     ]
    }
   ],
   "source": [
    "# Los conjuntos se pueden convertir en listas y viceversa.\n",
    "# Si se convierte una lista a conjunto, se eliminan los duplicados\n",
    "frutas = {'plátano', 'naranja', 'pera', 'limón'}\n",
    "frutas_lista = list(frutas)\n",
    "frutas_lista.append('naranja')\n",
    "print(frutas_lista)\n",
    "frutas_set = set(frutas_lista)\n",
    "print(frutas_set)"
   ]
  },
  {
   "cell_type": "code",
   "execution_count": 16,
   "metadata": {},
   "outputs": [
    {
     "name": "stdout",
     "output_type": "stream",
     "text": [
      "{'naranja', 'limón', 'lechuga', 'plátano', 'cebolla', 'zanahoria', 'pera'}\n",
      "{'plátano', 'naranja', 'pera', 'limón'}\n",
      "{'naranja', 'limón', 'lechuga', 'plátano', 'cebolla', 'zanahoria', 'pera'}\n"
     ]
    }
   ],
   "source": [
    "# Unir conjuntos\n",
    "frutas = {'plátano', 'naranja', 'pera', 'limón'}\n",
    "verduras = ['lechuga', 'cebolla','zanahoria']\n",
    "print(frutas.union(verduras)) # No modifica la lista principal\n",
    "print(frutas)\n",
    "frutas.update(verduras) # Modifica la lista principal\n",
    "print(frutas)"
   ]
  },
  {
   "cell_type": "code",
   "execution_count": 27,
   "metadata": {},
   "outputs": [
    {
     "name": "stdout",
     "output_type": "stream",
     "text": [
      "{0, 2, 4, 6, 8, 10}\n",
      "{1, 3, 5, 7, 9, 12, 14, 16, 18, 20}\n",
      "{1, 3, 5, 7, 9}\n",
      "{12, 14, 16, 18, 20}\n",
      "False\n",
      "True\n",
      "True\n",
      "False\n",
      "False\n",
      "True\n"
     ]
    }
   ],
   "source": [
    "# Métodos para conjuntos\n",
    "numeros = {0, 1, 2, 3, 4, 5, 6, 7, 8, 9, 10}\n",
    "pares = {0, 2, 4, 6, 8, 10, 12, 14, 16, 18, 20}\n",
    "print(numeros.intersection(pares)) # intersection(): Devuelve los elementos coincidentes en dos conjuntos\n",
    "\n",
    "print(numeros.symmetric_difference(pares)) # symmetric_difference(): Devuelve los elementos no coincidentes en dos conjuntos\n",
    "\n",
    "print(numeros.difference(pares)) # difference(): Devuelve los elementos de un conjunto que no se encuentran en otro\n",
    "print(pares.difference(numeros))\n",
    "\n",
    "numeros = {0, 1, 2, 3, 4, 5, 6, 7, 8, 9, 10}\n",
    "pares = {0, 2, 4, 6, 8, 10}\n",
    "\n",
    "print(numeros.issubset(pares)) # issubset(): Comprueba si el conjunto es un \"hijo\" de otro conjunto\n",
    "print(pares.issubset(numeros))\n",
    "\n",
    "print(numeros.issuperset(pares)) # issuperset(): Comprueba si el conjunto es el \"padre\" de otro conjunto\n",
    "print(pares.issuperset(numeros))\n",
    "\n",
    "print(numeros.isdisjoint(pares)) # isdisjoint(): Comprueba si no hay elementos comunes entre dos listas\n",
    "numeros = {1, 3, 5, 7, 9}\n",
    "print(numeros.isdisjoint(pares))"
   ]
  }
 ],
 "metadata": {
  "kernelspec": {
   "display_name": "base",
   "language": "python",
   "name": "python3"
  },
  "language_info": {
   "codemirror_mode": {
    "name": "ipython",
    "version": 3
   },
   "file_extension": ".py",
   "mimetype": "text/x-python",
   "name": "python",
   "nbconvert_exporter": "python",
   "pygments_lexer": "ipython3",
   "version": "3.11.3"
  },
  "orig_nbformat": 4
 },
 "nbformat": 4,
 "nbformat_minor": 2
}
