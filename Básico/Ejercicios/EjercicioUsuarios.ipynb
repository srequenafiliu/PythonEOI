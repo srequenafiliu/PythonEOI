{
 "cells": [
  {
   "cell_type": "code",
   "execution_count": 1,
   "metadata": {
    "tags": []
   },
   "outputs": [],
   "source": [
    "usuarios = {}"
   ]
  },
  {
   "cell_type": "code",
   "execution_count": 2,
   "metadata": {
    "tags": []
   },
   "outputs": [
    {
     "name": "stdout",
     "output_type": "stream",
     "text": [
      "El nombre de usuario 'trafasan' ya existe\n",
      "El correo electrónico 'alterWolf@gmail.com' ya está registrado\n",
      "{1: {'nombre': 'Sandra', 'apellido': 'Requena', 'telefono': '987654321', 'correo': 'sandrarequena@gmail.com', 'usuario': 'trafasan', 'password': 'Trafa013'}, 2: {'nombre': 'Jorge', 'correo': 'alterWolf@gmail.com', 'usuario': 'alterWolf', 'password': 'Wolf0701'}}\n"
     ]
    }
   ],
   "source": [
    "def registro(diccionario, nombre, apellido, telefono, correo, usuario, password):\n",
    "    id_max = max(diccionario.keys())+1 if len(diccionario) else 1\n",
    "    for i in range(1, id_max):\n",
    "        if diccionario[i]['usuario'] == usuario:\n",
    "            print(f'El nombre de usuario \\'{usuario}\\' ya existe')\n",
    "            return False\n",
    "        elif diccionario[i]['correo'] == correo:\n",
    "            print(f'El correo electrónico \\'{correo}\\' ya está registrado')\n",
    "            return False\n",
    "    diccionario[id_max] = {\n",
    "        \"nombre\": nombre,\n",
    "        \"apellido\": apellido,\n",
    "        \"telefono\": telefono,\n",
    "        \"correo\": correo,\n",
    "        \"usuario\": usuario,\n",
    "        \"password\": password\n",
    "    }\n",
    "    if not len(apellido):\n",
    "        del diccionario[id_max]['apellido']\n",
    "    if not len(telefono):\n",
    "        del diccionario[id_max]['telefono']\n",
    "\n",
    "registro(usuarios, \"Sandra\", \"Requena\", \"987654321\", \"sandrarequena@gmail.com\", \"trafasan\", \"Trafa013\")\n",
    "registro(usuarios, \"Jorge\", \"\", \"\", \"alterWolf@gmail.com\", \"alterWolf\", \"Wolf0701\")\n",
    "registro(usuarios, \"Helena\", \"\", \"684953742\", \"helenlumen@gmail.com\", \"trafasan\", \"Fontana8\")\n",
    "registro(usuarios, \"Alejandro\", \"\", \"\", \"alterWolf@gmail.com\", \"elysium25\", \"Wolf0701\")\n",
    "print(usuarios)"
   ]
  },
  {
   "cell_type": "code",
   "execution_count": 3,
   "metadata": {
    "tags": []
   },
   "outputs": [
    {
     "name": "stdout",
     "output_type": "stream",
     "text": [
      "El nombre de usuario 'trafasan' corresponde al usuario con ID 1\n",
      "No se ha encontrado el nombre de usuario 'elysium25'\n"
     ]
    }
   ],
   "source": [
    "def check(diccionario, usuario):\n",
    "    id_max = max(diccionario.keys())+1 if len(diccionario) else 1\n",
    "    for i in range(1, id_max):\n",
    "        if diccionario[i]['usuario'] == usuario:\n",
    "            return True, f\"El nombre de usuario \\'{usuario}\\' corresponde al usuario con ID {i}\", i\n",
    "    return False, f\"No se ha encontrado el nombre de usuario \\'{usuario}\\'\", 0\n",
    "\n",
    "print(check(usuarios, \"trafasan\")[1])\n",
    "print(check(usuarios, \"elysium25\")[1])"
   ]
  },
  {
   "cell_type": "code",
   "execution_count": 4,
   "metadata": {
    "tags": []
   },
   "outputs": [
    {
     "name": "stdout",
     "output_type": "stream",
     "text": [
      "Se ha dado de baja a 'alterWolf'\n",
      "No se ha podido dar de baja a 'elysium25' ya que no está registrado\n",
      "{1: {'nombre': 'Sandra', 'apellido': 'Requena', 'telefono': '987654321', 'correo': 'sandrarequena@gmail.com', 'usuario': 'trafasan', 'password': 'Trafa013'}}\n"
     ]
    }
   ],
   "source": [
    "def borrar_usuario(diccionario, usuario):\n",
    "    comprobacion = check(diccionario, usuario)\n",
    "    if comprobacion[0]:\n",
    "        del diccionario[comprobacion[2]]\n",
    "        print(f\"Se ha dado de baja a \\'{usuario}\\'\")\n",
    "    else:\n",
    "        print(f\"No se ha podido dar de baja a \\'{usuario}\\' ya que no está registrado\")\n",
    "\n",
    "borrar_usuario(usuarios, \"alterWolf\")\n",
    "borrar_usuario(usuarios, \"elysium25\")\n",
    "print(usuarios)"
   ]
  },
  {
   "cell_type": "code",
   "execution_count": 5,
   "metadata": {
    "tags": []
   },
   "outputs": [
    {
     "name": "stdout",
     "output_type": "stream",
     "text": [
      "Usuario y/o contraseña incorrectos\n",
      "Bienvenid@ Sandra\n"
     ]
    }
   ],
   "source": [
    "def login(diccionario, usuario, password):\n",
    "    id_max = max(diccionario.keys())+1 if len(diccionario) else 1\n",
    "    for i in range(1, id_max):\n",
    "        if diccionario[i]['usuario'] == usuario and diccionario[i]['password'] == password:\n",
    "            return f\"Bienvenid@ {diccionario[i]['nombre']}\"\n",
    "    return f'Usuario y/o contraseña incorrectos'\n",
    "\n",
    "print(login(usuarios, \"trafasan\", \"password\"))\n",
    "print(login(usuarios, \"trafasan\", \"Trafa013\"))"
   ]
  }
 ],
 "metadata": {
  "kernelspec": {
   "display_name": "Python 3 (ipykernel)",
   "language": "python",
   "name": "python3"
  },
  "language_info": {
   "codemirror_mode": {
    "name": "ipython",
    "version": 3
   },
   "file_extension": ".py",
   "mimetype": "text/x-python",
   "name": "python",
   "nbconvert_exporter": "python",
   "pygments_lexer": "ipython3",
   "version": "3.11.3"
  }
 },
 "nbformat": 4,
 "nbformat_minor": 4
}
