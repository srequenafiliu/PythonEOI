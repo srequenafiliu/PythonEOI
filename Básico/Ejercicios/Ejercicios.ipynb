{
 "cells": [
  {
   "cell_type": "code",
   "execution_count": 30,
   "id": "d49f1373-e6e1-4395-8b22-f10e432ebb20",
   "metadata": {
    "tags": []
   },
   "outputs": [
    {
     "name": "stdout",
     "output_type": "stream",
     "text": [
      "<class 'int'>\n",
      "<class 'float'>\n",
      "<class 'str'>\n",
      "<class 'bool'>\n"
     ]
    }
   ],
   "source": [
    "#Definir qué tipos existen en Python y buscar al menos 3 ejemplos de variables para cada uno de ellos.\n",
    "#int\n",
    "edad, birth_year, mes = 23, 1999, 8\n",
    "#float\n",
    "peso, altura, grados = 65.4, 1.64, 37.8\n",
    "#str (string)\n",
    "nombre, inicial_apellido, usuario = 'Sandra', 'R', 'trafasan'\n",
    "#bool (boolean)\n",
    "es_chica, mayor_edad, es_casado = True, True, False\n",
    "\n",
    "print(type(edad))\n",
    "print(type(altura))\n",
    "print(type(usuario))\n",
    "print(type(es_chica))"
   ]
  },
  {
   "cell_type": "code",
   "execution_count": 31,
   "id": "5195402d-9d89-460a-a02d-f0b422e9724a",
   "metadata": {
    "tags": []
   },
   "outputs": [
    {
     "name": "stdout",
     "output_type": "stream",
     "text": [
      "Usando el bucle FOR...\n",
      "· Ane en posición 0\n",
      "· Mikel en posición 1\n",
      "· Unai en posición 2\n",
      "· Lorea en posición 3\n",
      "\n",
      "Usando el bucle WHILE...\n",
      "· Ane en posición 0\n",
      "· Mikel en posición 1\n",
      "· Unai en posición 2\n",
      "· Lorea en posición 3\n"
     ]
    }
   ],
   "source": [
    "#Transformar el siguiente código usando WHILE\n",
    "alumnos = [\"Ane\", \"Mikel\", \"Unai\", \"Lorea\"]\n",
    "print(\"Usando el bucle FOR...\")\n",
    "for i in range(len(alumnos)):\n",
    "  print( f\"· {alumnos[i]} en posición {i}\")\n",
    "\n",
    "print(\"\\nUsando el bucle WHILE...\")\n",
    "i = 0\n",
    "while i < len(alumnos):\n",
    "    print(f\"· {alumnos[i]} en posición {i}\")\n",
    "    i += 1"
   ]
  },
  {
   "cell_type": "code",
   "execution_count": 32,
   "id": "c6147868-1cd0-4d73-85b2-91fdded4cdcc",
   "metadata": {
    "tags": []
   },
   "outputs": [
    {
     "name": "stdout",
     "output_type": "stream",
     "text": [
      "El número 3 es impar\n"
     ]
    }
   ],
   "source": [
    "# Hacer un código que me diga si un número es par o impar\n",
    "n = 3\n",
    "if n%2==0:\n",
    "    print(f\"El número {n} es par\")\n",
    "else:\n",
    "    print(f\"El número {n} es impar\")"
   ]
  },
  {
   "cell_type": "code",
   "execution_count": 33,
   "id": "8d693b94-c948-4e47-b000-36fdce7f8dcb",
   "metadata": {
    "tags": []
   },
   "outputs": [
    {
     "name": "stdout",
     "output_type": "stream",
     "text": [
      "Números pares del 1 al 20\n",
      "2\n",
      "4\n",
      "6\n",
      "8\n",
      "10\n",
      "12\n",
      "14\n",
      "16\n",
      "18\n",
      "20\n"
     ]
    }
   ],
   "source": [
    "# Modificar el ejercicio anterior para que muestre los números pares del 1 al 20\n",
    "print(\"Números pares del 1 al 20\")\n",
    "for i in range(1,  21):\n",
    "    if i%2==0:\n",
    "        print(i)"
   ]
  },
  {
   "cell_type": "code",
   "execution_count": 34,
   "id": "5369dd19-a164-482a-9bc5-7a6a05e300ce",
   "metadata": {
    "tags": []
   },
   "outputs": [
    {
     "name": "stdout",
     "output_type": "stream",
     "text": [
      "Números impares del 1 al 20\n",
      "1\n",
      "3\n",
      "5\n",
      "7\n",
      "9\n",
      "11\n",
      "13\n",
      "15\n",
      "17\n",
      "19\n"
     ]
    }
   ],
   "source": [
    "# Modificar el ejercicio anterior para que, en base a una variable numérica, muestre pares o impares\n",
    "n=1 # Pares = 0; Impares = 1\n",
    "print(\"Números pares del 1 al 20\" if n==0 else \"Números impares del 1 al 20\")\n",
    "for i in range(1,  21):\n",
    "    if (n==0 and i%2==0):\n",
    "        print(i)\n",
    "    elif (n==1 and i%2!=0):\n",
    "        print(i)"
   ]
  },
  {
   "cell_type": "code",
   "execution_count": 35,
   "id": "d3b06b05-e595-49a4-8ef3-a3021c609bab",
   "metadata": {
    "tags": []
   },
   "outputs": [
    {
     "name": "stdout",
     "output_type": "stream",
     "text": [
      "[8, 6, 7]\n"
     ]
    }
   ],
   "source": [
    "#Dada una lista de nombres de usuarios, me devuelva una lista con las longitudes, por ejemplo dada la lista con\n",
    "#David y Toky me deberá devolver una lista con 5 y 4.\n",
    "usuarios = ['trafasan','wolf92','lumen13']\n",
    "longitud = list()\n",
    "for usuario in usuarios:\n",
    "    longitud.append(len(usuario))\n",
    "print(longitud)"
   ]
  },
  {
   "cell_type": "code",
   "execution_count": 36,
   "id": "be108625-f7bd-4745-a711-678e347050b8",
   "metadata": {
    "tags": []
   },
   "outputs": [
    {
     "name": "stdout",
     "output_type": "stream",
     "text": [
      "odnum aloH\n"
     ]
    }
   ],
   "source": [
    "# Dada una cadena de texto, me tiene que invertir la cadena\n",
    "cadena = \"Hola mundo\"\n",
    "print(cadena[::-1])"
   ]
  },
  {
   "cell_type": "code",
   "execution_count": 37,
   "id": "4923b074-1aa8-4a00-9243-c5d72dad9e3f",
   "metadata": {
    "tags": []
   },
   "outputs": [
    {
     "name": "stdout",
     "output_type": "stream",
     "text": [
      "De los números 1, 19 y 2, el número mayor es 19\n"
     ]
    }
   ],
   "source": [
    "# Hacer una función que me diga cuál es el máximo de 3 números.\n",
    "# Por ejemplo max(1,19,2) me deberá devolver 19.\n",
    "def num_max(n1, n2, n3):\n",
    "    if n1>=n2 and n1>=n3:\n",
    "        return n1\n",
    "    elif n2>=n1 and n2>=n3:\n",
    "        return n2\n",
    "    else:\n",
    "        return n3\n",
    "n1, n2, n3 = 1, 19, 2\n",
    "print(f\"De los números {n1}, {n2} y {n3}, el número mayor es {num_max(n1,n2,n3)}\")"
   ]
  },
  {
   "cell_type": "code",
   "execution_count": 40,
   "id": "36a5293f",
   "metadata": {},
   "outputs": [
    {
     "name": "stdout",
     "output_type": "stream",
     "text": [
      "{'hola': 3, 'mundo': 2}\n"
     ]
    }
   ],
   "source": [
    "# Escribe una función que cuente palabras. Si yo pongo \"Hola Mundo hola hola\", me deberá devolver un diccionario en el que aparezca:\n",
    "# {'hola':3, 'mundo':1}\n",
    "def contar_palabras(cadena):\n",
    "    lista = cadena.lower().replace(\",\",\" \").replace(\";\",\" \").replace(\".\",\" \").split()\n",
    "    diccionario = {}\n",
    "    for i in lista:\n",
    "        diccionario[i] = diccionario[i] + 1 if i in diccionario else 1\n",
    "    return diccionario\n",
    "\n",
    "cadena = \"Hola.Mundo;hola,hola mundo\"\n",
    "print(contar_palabras(cadena))"
   ]
  },
  {
   "cell_type": "code",
   "execution_count": 13,
   "metadata": {},
   "outputs": [
    {
     "name": "stdout",
     "output_type": "stream",
     "text": [
      "54\n",
      "62\n",
      "Frase 1: mundo adiós diversión programar Python hola actualizar\n"
     ]
    }
   ],
   "source": [
    "# Dada una generación de cadenas aleatoriam haced que, dadas dos cadenas, me devuelva la menor.\n",
    "import random\n",
    "\n",
    "sizes = range(5,15)\n",
    "texto = \"hola mundo diversión actualizar Python risa programar adiós\"\n",
    "palabras = texto.split()\n",
    "\n",
    "def cadenas_random(n_cadenas, palabras):\n",
    "    resultado = list()\n",
    "    for i in range(0, n_cadenas):\n",
    "        frase = list()\n",
    "        s = random.choice(sizes)\n",
    "        for j in range(0, s):\n",
    "            frase.append(random.choice(palabras))\n",
    "        resultado.append(\" \".join(frase))\n",
    "    return resultado\n",
    "\n",
    "def frase_menor(frase1, frase2):\n",
    "    if len(frase1) < len(frase2):\n",
    "        return \"Frase 1: \"+frase1\n",
    "    elif len(frase1) > len(frase2):\n",
    "        return \"Frase 2: \"+frase2\n",
    "    else:\n",
    "        return \"Las dos frases tienen la misma longitud\"\n",
    "\n",
    "cadenas = cadenas_random(2, palabras)\n",
    "print(len(cadenas[0]))\n",
    "print(len(cadenas[1]))\n",
    "print(frase_menor(cadenas[0], cadenas[1]))"
   ]
  }
 ],
 "metadata": {
  "kernelspec": {
   "display_name": "Python 3 (ipykernel)",
   "language": "python",
   "name": "python3"
  },
  "language_info": {
   "codemirror_mode": {
    "name": "ipython",
    "version": 3
   },
   "file_extension": ".py",
   "mimetype": "text/x-python",
   "name": "python",
   "nbconvert_exporter": "python",
   "pygments_lexer": "ipython3",
   "version": "3.11.3"
  }
 },
 "nbformat": 4,
 "nbformat_minor": 5
}
