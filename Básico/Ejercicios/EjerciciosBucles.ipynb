{
 "cells": [
  {
   "cell_type": "markdown",
   "id": "7f3d8c37-c4a5-4d3d-a24e-d813ba1a53ad",
   "metadata": {},
   "source": [
    "![Ejercicio1](./images/ejercicio1.png)"
   ]
  },
  {
   "cell_type": "code",
   "execution_count": 60,
   "id": "ce283517",
   "metadata": {},
   "outputs": [
    {
     "name": "stdout",
     "output_type": "stream",
     "text": [
      "* * * * * * * * * * * * \n",
      "* * * * * * * * * * * * \n",
      "* * * * * * * * * * * * \n",
      "* * * * * * * * * * * * \n",
      "* * * * * * * * * * * * \n",
      "* * * * * * * * * * * * \n",
      "* * * * * * * * * * * * \n",
      "* * * * * * * * * * * * \n",
      "\n",
      "* * * * * * * * * * * * \n",
      "*                     * \n",
      "*                     * \n",
      "*                     * \n",
      "*                     * \n",
      "*                     * \n",
      "*                     * \n",
      "* * * * * * * * * * * * \n"
     ]
    }
   ],
   "source": [
    "def draw_rec(base, altura, vacio):\n",
    "    for i in range(0, altura):\n",
    "        for j in range(0, base):\n",
    "            if not vacio:\n",
    "                print('*', end=' ')\n",
    "            else:\n",
    "                print('*' if i==0 or i==altura-1 or j==0 or j==base-1 else ' ', end=' ')\n",
    "        print()\n",
    "\n",
    "draw_rec(12, 8, False)\n",
    "print()\n",
    "draw_rec(12, 8, True)"
   ]
  },
  {
   "cell_type": "markdown",
   "id": "8ad5ccd3-b82a-4ea5-b941-020ef7b1f789",
   "metadata": {},
   "source": [
    "![Ejercicio2](./images/ejercicio2.png)"
   ]
  },
  {
   "cell_type": "code",
   "execution_count": 61,
   "id": "b16df7c7",
   "metadata": {},
   "outputs": [
    {
     "name": "stdout",
     "output_type": "stream",
     "text": [
      "* \n",
      "* * \n",
      "* * * \n",
      "* * * * \n",
      "* * * * * \n",
      "* * * * * * \n",
      "* * * * * * * \n",
      "* * * * * * * * \n",
      "* * * * * * * * * \n",
      "* * * * * * * * * * \n",
      "\n",
      "* \n",
      "* * \n",
      "*   * \n",
      "*     * \n",
      "*       * \n",
      "*         * \n",
      "*           * \n",
      "*             * \n",
      "*               * \n",
      "* * * * * * * * * * \n"
     ]
    }
   ],
   "source": [
    "def draw_eq(lado, vacio):\n",
    "    for i in range(1, lado+1):\n",
    "        for j in range(0, i):\n",
    "            if not vacio:\n",
    "                print('*', end=' ')\n",
    "            else:\n",
    "                print('*' if i==lado or j==0 or j==i-1 else ' ', end=' ')\n",
    "        print()\n",
    "\n",
    "draw_eq(10, False)\n",
    "print()\n",
    "draw_eq(10, True)"
   ]
  },
  {
   "cell_type": "code",
   "execution_count": 62,
   "id": "2871d1e1",
   "metadata": {},
   "outputs": [
    {
     "name": "stdout",
     "output_type": "stream",
     "text": [
      "* \n",
      "* * \n",
      "* * * \n",
      "* * * * \n",
      "* * * * * \n",
      "* * * * * * \n",
      "* * * * * * * \n",
      "* * * * * * * * \n",
      "* * * * * * * * * \n",
      "* * * * * * * * * * \n",
      "\n",
      "* \n",
      "* * \n",
      "*   * \n",
      "*     * \n",
      "*       * \n",
      "*         * \n",
      "*           * \n",
      "*             * \n",
      "*               * \n",
      "* * * * * * * * * * \n"
     ]
    }
   ],
   "source": [
    "def draw_eq2(lado, vacio):\n",
    "    for i in range(1, lado+1):\n",
    "        if not vacio:\n",
    "            print('* '*i)\n",
    "        else:\n",
    "            print('* '*i if i==1 or i==lado else'* '+'  '*(i-2)+'* ')\n",
    "\n",
    "draw_eq2(10, False)\n",
    "print()\n",
    "draw_eq2(10, True)"
   ]
  },
  {
   "cell_type": "markdown",
   "id": "6cdb5097-fd41-4402-8ef0-72ec9897181c",
   "metadata": {},
   "source": [
    "![Ejercicio3](./images/ejercicio3.png)"
   ]
  },
  {
   "cell_type": "code",
   "execution_count": 63,
   "id": "c132265b",
   "metadata": {},
   "outputs": [
    {
     "name": "stdout",
     "output_type": "stream",
     "text": [
      "                  * \n",
      "                * * \n",
      "              * * * \n",
      "            * * * * \n",
      "          * * * * * \n",
      "        * * * * * * \n",
      "      * * * * * * * \n",
      "    * * * * * * * * \n",
      "  * * * * * * * * * \n",
      "* * * * * * * * * * \n",
      "\n",
      "                  * \n",
      "                * * \n",
      "              *   * \n",
      "            *     * \n",
      "          *       * \n",
      "        *         * \n",
      "      *           * \n",
      "    *             * \n",
      "  *               * \n",
      "* * * * * * * * * * \n"
     ]
    }
   ],
   "source": [
    "def draw_eq_giro(lado, vacio):\n",
    "    for i in range(1, lado+1):\n",
    "        for j in range(0, lado-i):\n",
    "            print(' ', end=' ')\n",
    "        for j in range(0, i):\n",
    "            if not vacio:\n",
    "                print('*', end=' ')\n",
    "            else:\n",
    "                print('*' if i==lado or j==0 or j==i-1 else ' ', end=' ')\n",
    "        print()\n",
    "\n",
    "draw_eq_giro(10, False)\n",
    "print()\n",
    "draw_eq_giro(10, True)"
   ]
  },
  {
   "cell_type": "markdown",
   "id": "9a612926-3d37-4c90-ae02-2126e279818b",
   "metadata": {},
   "source": [
    "![Ejercicio4](./images/ejercicio4.png)"
   ]
  },
  {
   "cell_type": "code",
   "execution_count": 64,
   "id": "71d66109-178c-41b5-88af-f6ec36953912",
   "metadata": {},
   "outputs": [
    {
     "name": "stdout",
     "output_type": "stream",
     "text": [
      "* * * * * * * * * * \n",
      "* * * * * * * * * \n",
      "* * * * * * * * \n",
      "* * * * * * * \n",
      "* * * * * * \n",
      "* * * * * \n",
      "* * * * \n",
      "* * * \n",
      "* * \n",
      "* \n",
      "\n",
      "* * * * * * * * * * \n",
      "*               * \n",
      "*             * \n",
      "*           * \n",
      "*         * \n",
      "*       * \n",
      "*     * \n",
      "*   * \n",
      "* * \n",
      "* \n"
     ]
    }
   ],
   "source": [
    "def draw_eq_inv(lado, vacio):\n",
    "    for i in range(lado, 0, -1):\n",
    "        for j in range(0, i):\n",
    "            if not vacio:\n",
    "                print('*', end=' ')\n",
    "            else:\n",
    "                print('*' if i==lado or j==0 or j==i-1 else ' ', end=' ')\n",
    "        print()\n",
    "\n",
    "draw_eq_inv(10, False)\n",
    "print()\n",
    "draw_eq_inv(10, True)"
   ]
  }
 ],
 "metadata": {
  "kernelspec": {
   "display_name": "Python 3 (ipykernel)",
   "language": "python",
   "name": "python3"
  },
  "language_info": {
   "codemirror_mode": {
    "name": "ipython",
    "version": 3
   },
   "file_extension": ".py",
   "mimetype": "text/x-python",
   "name": "python",
   "nbconvert_exporter": "python",
   "pygments_lexer": "ipython3",
   "version": "3.11.3"
  }
 },
 "nbformat": 4,
 "nbformat_minor": 5
}
