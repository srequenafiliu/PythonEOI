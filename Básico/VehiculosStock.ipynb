{
 "cells": [
  {
   "cell_type": "code",
   "execution_count": 1,
   "metadata": {},
   "outputs": [
    {
     "name": "stdout",
     "output_type": "stream",
     "text": [
      "True\n",
      "False\n",
      "False\n",
      "Ford Ranger vendido\n",
      "Mercedes Clase C vendido\n",
      "No se puede vender el Opel Corsa ya que no está en stock\n",
      "{'Ford': {'Mustang': 2, 'Ranger': 3, 'Scorpion': 1}, 'Mercedes': {'Clase B': 4}}\n",
      "{'Ford': {'Ranger': 1}, 'Mercedes': {'Clase C': 1}}\n",
      "{'Ford': {'Mustang': 2, 'Ranger': 3, 'Scorpion': 2, 'Ka': 1}, 'Mercedes': {'Clase B': 4}, 'Opel': {'Corsa': 1}}\n"
     ]
    }
   ],
   "source": [
    "coches = {\n",
    "    \"Ford\": {\n",
    "        \"Mustang\": 2,\n",
    "        \"Ranger\": 4,\n",
    "        \"Scorpion\": 1\n",
    "    },\n",
    "    \"Mercedes\": {\n",
    "        \"Clase C\": 1,\n",
    "        \"Clase B\": 4\n",
    "    }\n",
    "}\n",
    "vendidos = {}\n",
    "\n",
    "def check(marca, modelo):\n",
    "    return marca in coches and modelo in coches[marca]\n",
    "    \n",
    "def venta(marca, modelo):\n",
    "    if check(marca, modelo):\n",
    "        if coches[marca][modelo] != 1:\n",
    "            coches[marca][modelo] -=1\n",
    "        else:\n",
    "            del coches[marca][modelo]\n",
    "        print(f\"{marca} {modelo} vendido\")\n",
    "        registra(vendidos, marca, modelo)\n",
    "    else:\n",
    "        print(f\"No se puede vender el {marca} {modelo} ya que no está en stock\")\n",
    "\n",
    "def registra(diccionario, marca, modelo):\n",
    "    if marca in diccionario:\n",
    "        diccionario[marca][modelo] = diccionario[marca][modelo] + 1 if modelo in diccionario[marca] else 1\n",
    "    else:\n",
    "        diccionario[marca] = {modelo: 1}\n",
    "\n",
    "\n",
    "print(check(\"Ford\", \"Scorpion\"))\n",
    "print(check(\"Ford\", \"Ka\"))\n",
    "print(check(\"Opel\", \"Corsa\"))\n",
    "\n",
    "venta(\"Ford\", \"Ranger\")\n",
    "venta(\"Mercedes\", \"Clase C\")\n",
    "venta(\"Opel\", \"Corsa\")\n",
    "print(coches)\n",
    "print(vendidos)\n",
    "\n",
    "registra(coches, \"Ford\", \"Scorpion\")\n",
    "registra(coches, \"Ford\", \"Ka\")\n",
    "registra(coches, \"Opel\", \"Corsa\")\n",
    "print(coches)"
   ]
  }
 ],
 "metadata": {
  "kernelspec": {
   "display_name": "base",
   "language": "python",
   "name": "python3"
  },
  "language_info": {
   "codemirror_mode": {
    "name": "ipython",
    "version": 3
   },
   "file_extension": ".py",
   "mimetype": "text/x-python",
   "name": "python",
   "nbconvert_exporter": "python",
   "pygments_lexer": "ipython3",
   "version": "3.11.3"
  },
  "orig_nbformat": 4
 },
 "nbformat": 4,
 "nbformat_minor": 2
}
