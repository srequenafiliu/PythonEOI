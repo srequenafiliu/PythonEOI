{
 "cells": [
  {
   "cell_type": "code",
   "execution_count": 1,
   "metadata": {},
   "outputs": [
    {
     "name": "stdout",
     "output_type": "stream",
     "text": [
      "4\n",
      "7\n"
     ]
    }
   ],
   "source": [
    "dic_vacio1 = {}\n",
    "dic_vacio2 = dict()\n",
    "\n",
    "diccionario = {'clave1':'valor1', 'clave2':'valor2', 'clave3':'valor3', 'clave4':'valor4'}\n",
    "print(len(diccionario))\n",
    "persona = {\n",
    "    'nombre':'Sandra',\n",
    "    'apellido':'Requena',\n",
    "    'edad':23,\n",
    "    'pais':'España',\n",
    "    'es_casado':False,\n",
    "    'habilidades':['Java', 'Spring', 'JavaScript', 'TypeScript', 'Python'],\n",
    "    'direccion':{\n",
    "        'calle':'Cualquier calle',\n",
    "        'codigo_postal':'03012'\n",
    "    }\n",
    "}\n",
    "print(len(persona))"
   ]
  },
  {
   "cell_type": "code",
   "execution_count": 3,
   "metadata": {},
   "outputs": [
    {
     "name": "stdout",
     "output_type": "stream",
     "text": [
      "Sandra\n",
      "España\n",
      "['Java', 'Spring', 'JavaScript', 'TypeScript', 'Python']\n",
      "Java\n",
      "Cualquier calle\n",
      "Sandra\n",
      "España\n",
      "['Java', 'Spring', 'JavaScript', 'TypeScript', 'Python']\n",
      "None\n"
     ]
    }
   ],
   "source": [
    "# Acceder a los elementos de un diccionario\n",
    "persona = {\n",
    "    'nombre':'Sandra',\n",
    "    'apellido':'Requena',\n",
    "    'edad':23,\n",
    "    'pais':'España',\n",
    "    'es_casado':False,\n",
    "    'habilidades':['Java', 'Spring', 'JavaScript', 'TypeScript', 'Python'],\n",
    "    'direccion':{\n",
    "        'calle':'Cualquier calle',\n",
    "        'codigo_postal':'03012'\n",
    "    }\n",
    "}\n",
    "print(persona['nombre'])\n",
    "print(persona['pais'])\n",
    "print(persona['habilidades'])\n",
    "print(persona['habilidades'][0])\n",
    "print(persona['direccion']['calle'])\n",
    "# Si se intenta acceder a un elemento que no existe en el diccionario, da error\n",
    "\n",
    "print(persona.get('nombre'))\n",
    "print(persona.get('pais'))\n",
    "print(persona.get('habilidades'))\n",
    "print(persona.get('ciudad')) # En este caso, no da error pero devuelve \"None\""
   ]
  },
  {
   "cell_type": "code",
   "execution_count": 9,
   "metadata": {},
   "outputs": [
    {
     "name": "stdout",
     "output_type": "stream",
     "text": [
      "{'nombre': 'Sandra', 'apellido': 'Requena', 'edad': 23, 'pais': 'España', 'es_casado': False, 'habilidades': ['Java', 'Spring', 'JavaScript', 'TypeScript', 'Python', 'PostgreSQL'], 'direccion': {'calle': 'Cualquier calle', 'codigo_postal': '03012'}, 'ciudad': 'Alicante'}\n",
      "{'nombre': 'Sandra', 'apellido': 'Requena Filiu', 'edad': 23, 'pais': 'España', 'es_casado': False, 'habilidades': ['Java', 'Spring', 'Angular', 'TypeScript', 'Python', 'PostgreSQL'], 'direccion': {'calle': 'Cualquier calle', 'codigo_postal': '03012'}, 'ciudad': 'Alicante'}\n",
      "{'nombre': 'Sandra', 'apellido': 'Requena Filiu', 'pais': 'España', 'habilidades': ['Java', 'Spring', 'Angular', 'TypeScript', 'Python', 'PostgreSQL'], 'direccion': {'calle': 'Cualquier calle', 'codigo_postal': '03012'}}\n"
     ]
    }
   ],
   "source": [
    "# Modificar un diccionario\n",
    "persona = {\n",
    "    'nombre':'Sandra',\n",
    "    'apellido':'Requena',\n",
    "    'edad':23,\n",
    "    'pais':'España',\n",
    "    'es_casado':False,\n",
    "    'habilidades':['Java', 'Spring', 'JavaScript', 'TypeScript', 'Python'],\n",
    "    'direccion':{\n",
    "        'calle':'Cualquier calle',\n",
    "        'codigo_postal':'03012'\n",
    "    }\n",
    "}\n",
    "persona['ciudad'] = 'Alicante'\n",
    "persona['habilidades'].append('PostgreSQL')\n",
    "print(persona)\n",
    "\n",
    "persona['apellido'] = 'Requena Filiu'\n",
    "persona['habilidades'][2] = 'Angular'\n",
    "print(persona)\n",
    "\n",
    "persona.pop('edad')\n",
    "persona.popitem()\n",
    "del persona['es_casado']\n",
    "print(persona)"
   ]
  },
  {
   "cell_type": "code",
   "execution_count": 8,
   "metadata": {},
   "outputs": [
    {
     "name": "stdout",
     "output_type": "stream",
     "text": [
      "True\n",
      "False\n"
     ]
    }
   ],
   "source": [
    "# Comprobar elementos\n",
    "persona = {\n",
    "    'nombre':'Sandra',\n",
    "    'apellido':'Requena',\n",
    "    'edad':23,\n",
    "    'pais':'España',\n",
    "    'es_casado':False,\n",
    "    'habilidades':['Java', 'Spring', 'JavaScript', 'TypeScript', 'Python'],\n",
    "    'direccion':{\n",
    "        'calle':'Cualquier calle',\n",
    "        'codigo_postal':'03012'\n",
    "    }\n",
    "}\n",
    "print('nombre' in persona)\n",
    "print('ciudad' in persona)"
   ]
  },
  {
   "cell_type": "code",
   "execution_count": 15,
   "metadata": {},
   "outputs": [
    {
     "name": "stdout",
     "output_type": "stream",
     "text": [
      "dict_items([('clave1', 'valor1'), ('clave2', 'valor2'), ('clave3', 'valor3'), ('clave4', 'valor4')])\n",
      "None\n",
      "{'clave1': 'valor1', 'clave2': 'valor2', 'clave3': 'valor3', 'clave4': 'valor4'}\n",
      "dict_keys(['clave1', 'clave2', 'clave3', 'clave4'])\n",
      "dict_values(['valor1', 'valor2', 'valor3', 'valor4'])\n"
     ]
    }
   ],
   "source": [
    "# Métodos para diccionarios\n",
    "diccionario = {'clave1':'valor1', 'clave2':'valor2', 'clave3':'valor3', 'clave4':'valor4'}\n",
    "print(diccionario.items()) # items(): Convierte el diccionario a una lista de tuplas\n",
    "\n",
    "print(diccionario.clear()) # clear(): Borra todos los elementos del diccionario\n",
    "\n",
    "del diccionario # Borra todo el diccionario\n",
    "\n",
    "diccionario = {'clave1':'valor1', 'clave2':'valor2', 'clave3':'valor3', 'clave4':'valor4'}\n",
    "copia_dic = diccionario.copy() # copy(): Crea una copia del diccionario. El original no muta si se modifica la copia\n",
    "print(copia_dic)\n",
    "\n",
    "claves = diccionario.keys() # keys(): Devuelve una lista de todas las claves del diccionario\n",
    "print(claves)\n",
    "\n",
    "valores = diccionario.values() # values(): Devuelve una lista de todos los valores del diccionario\n",
    "print(valores)"
   ]
  }
 ],
 "metadata": {
  "kernelspec": {
   "display_name": "base",
   "language": "python",
   "name": "python3"
  },
  "language_info": {
   "codemirror_mode": {
    "name": "ipython",
    "version": 3
   },
   "file_extension": ".py",
   "mimetype": "text/x-python",
   "name": "python",
   "nbconvert_exporter": "python",
   "pygments_lexer": "ipython3",
   "version": "3.11.3"
  },
  "orig_nbformat": 4
 },
 "nbformat": 4,
 "nbformat_minor": 2
}
