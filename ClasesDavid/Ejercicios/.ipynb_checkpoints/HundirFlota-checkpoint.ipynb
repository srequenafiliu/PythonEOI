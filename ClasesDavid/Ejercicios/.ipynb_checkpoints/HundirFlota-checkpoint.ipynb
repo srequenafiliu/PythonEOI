{
 "cells": [
  {
   "cell_type": "markdown",
   "metadata": {},
   "source": [
    "1. Creación de los tableros para ambos jugadores"
   ]
  },
  {
   "cell_type": "code",
   "execution_count": 29,
   "metadata": {
    "tags": []
   },
   "outputs": [
    {
     "name": "stdout",
     "output_type": "stream",
     "text": [
      "Tablero 1: \n",
      "['Agua', 'Agua', 'Agua', 'Agua', 'Agua', 'Agua', 'Agua', 'Agua', 'Agua', 'Agua', 'Agua', 'Agua']\n",
      "['Agua', 'Agua', 'Agua', 'Agua', 'Agua', 'Agua', 'Agua', 'Agua', 'Agua', 'Agua', 'Agua', 'Agua']\n",
      "['Agua', 'Agua', 'Agua', 'Agua', 'Agua', 'Agua', 'Agua', 'Agua', 'Agua', 'Agua', 'Agua', 'Agua']\n",
      "['Agua', 'Agua', 'Agua', 'Agua', 'Agua', 'Agua', 'Agua', 'Agua', 'Agua', 'Agua', 'Agua', 'Agua']\n",
      "['Agua', 'Agua', 'Agua', 'Agua', 'Agua', 'Agua', 'Agua', 'Agua', 'Agua', 'Agua', 'Agua', 'Agua']\n",
      "['Agua', 'Agua', 'Agua', 'Agua', 'Agua', 'Agua', 'Agua', 'Agua', 'Agua', 'Agua', 'Agua', 'Agua']\n",
      "['Agua', 'Agua', 'Agua', 'Agua', 'Agua', 'Agua', 'Agua', 'Agua', 'Agua', 'Agua', 'Agua', 'Agua']\n",
      "['Agua', 'Agua', 'Agua', 'Agua', 'Agua', 'Agua', 'Agua', 'Agua', 'Agua', 'Agua', 'Agua', 'Agua']\n",
      "['Agua', 'Agua', 'Agua', 'Agua', 'Agua', 'Agua', 'Agua', 'Agua', 'Agua', 'Agua', 'Agua', 'Agua']\n",
      "['Agua', 'Agua', 'Agua', 'Agua', 'Agua', 'Agua', 'Agua', 'Agua', 'Agua', 'Agua', 'Agua', 'Agua']\n",
      "['Agua', 'Agua', 'Agua', 'Agua', 'Agua', 'Agua', 'Agua', 'Agua', 'Agua', 'Agua', 'Agua', 'Agua']\n",
      "['Agua', 'Agua', 'Agua', 'Agua', 'Agua', 'Agua', 'Agua', 'Agua', 'Agua', 'Agua', 'Agua', 'Agua']\n",
      "\n",
      "Tablero 2: \n",
      "['Agua', 'Agua', 'Agua', 'Agua', 'Agua', 'Agua', 'Agua', 'Agua', 'Agua', 'Agua', 'Agua', 'Agua']\n",
      "['Agua', 'Agua', 'Agua', 'Agua', 'Agua', 'Agua', 'Agua', 'Agua', 'Agua', 'Agua', 'Agua', 'Agua']\n",
      "['Agua', 'Agua', 'Agua', 'Agua', 'Agua', 'Agua', 'Agua', 'Agua', 'Agua', 'Agua', 'Agua', 'Agua']\n",
      "['Agua', 'Agua', 'Agua', 'Agua', 'Agua', 'Agua', 'Agua', 'Agua', 'Agua', 'Agua', 'Agua', 'Agua']\n",
      "['Agua', 'Agua', 'Agua', 'Agua', 'Agua', 'Agua', 'Agua', 'Agua', 'Agua', 'Agua', 'Agua', 'Agua']\n",
      "['Agua', 'Agua', 'Agua', 'Agua', 'Agua', 'Agua', 'Agua', 'Agua', 'Agua', 'Agua', 'Agua', 'Agua']\n",
      "['Agua', 'Agua', 'Agua', 'Agua', 'Agua', 'Agua', 'Agua', 'Agua', 'Agua', 'Agua', 'Agua', 'Agua']\n",
      "['Agua', 'Agua', 'Agua', 'Agua', 'Agua', 'Agua', 'Agua', 'Agua', 'Agua', 'Agua', 'Agua', 'Agua']\n",
      "['Agua', 'Agua', 'Agua', 'Agua', 'Agua', 'Agua', 'Agua', 'Agua', 'Agua', 'Agua', 'Agua', 'Agua']\n",
      "['Agua', 'Agua', 'Agua', 'Agua', 'Agua', 'Agua', 'Agua', 'Agua', 'Agua', 'Agua', 'Agua', 'Agua']\n",
      "['Agua', 'Agua', 'Agua', 'Agua', 'Agua', 'Agua', 'Agua', 'Agua', 'Agua', 'Agua', 'Agua', 'Agua']\n",
      "['Agua', 'Agua', 'Agua', 'Agua', 'Agua', 'Agua', 'Agua', 'Agua', 'Agua', 'Agua', 'Agua', 'Agua']\n"
     ]
    }
   ],
   "source": [
    "ancho, alto = 12, 12\n",
    "\n",
    "def crear_tablero(alto, ancho):\n",
    "    tablero = list()\n",
    "    for i in range(0, alto):\n",
    "        tablero.append((\"Agua \"*ancho).split())\n",
    "    return tablero\n",
    "\n",
    "tablero_1, tablero_2 = crear_tablero(alto, ancho), crear_tablero(alto, ancho)\n",
    "\n",
    "def print_tablero(tablero):\n",
    "    for i in tablero:\n",
    "        print(i)\n",
    "        \n",
    "print(\"Tablero 1: \")\n",
    "print_tablero(tablero_1)\n",
    "print(\"\\nTablero 2: \")\n",
    "print_tablero(tablero_2)"
   ]
  },
  {
   "cell_type": "markdown",
   "metadata": {},
   "source": [
    "2. Adición de los barcos en los tableros"
   ]
  },
  {
   "cell_type": "code",
   "execution_count": 30,
   "metadata": {},
   "outputs": [
    {
     "name": "stdout",
     "output_type": "stream",
     "text": [
      "Tablero 1: \n",
      "['Agua', 'Agua', 'Agua', 'Agua', 'Agua', 'Agua', 'Agua', 'Agua', 'Agua', 'Agua', 'Agua', 'Agua']\n",
      "['Agua', 'Agua', 'Barco 1', 'Barco 1', 'Agua', 'Agua', 'Agua', 'Agua', 'Agua', 'Agua', 'Agua', 'Agua']\n",
      "['Agua', 'Agua', 'Barco 1', 'Barco 1', 'Agua', 'Agua', 'Agua', 'Agua', 'Agua', 'Agua', 'Agua', 'Agua']\n",
      "['Agua', 'Agua', 'Barco 1', 'Barco 1', 'Agua', 'Agua', 'Agua', 'Agua', 'Agua', 'Agua', 'Agua', 'Agua']\n",
      "['Agua', 'Agua', 'Agua', 'Agua', 'Agua', 'Agua', 'Agua', 'Agua', 'Agua', 'Agua', 'Agua', 'Agua']\n",
      "['Agua', 'Agua', 'Agua', 'Agua', 'Agua', 'Agua', 'Agua', 'Agua', 'Agua', 'Agua', 'Agua', 'Agua']\n",
      "['Agua', 'Agua', 'Agua', 'Agua', 'Agua', 'Agua', 'Agua', 'Agua', 'Agua', 'Agua', 'Agua', 'Agua']\n",
      "['Agua', 'Agua', 'Agua', 'Agua', 'Agua', 'Barco 2', 'Barco 2', 'Agua', 'Agua', 'Agua', 'Agua', 'Agua']\n",
      "['Agua', 'Agua', 'Agua', 'Agua', 'Agua', 'Agua', 'Agua', 'Agua', 'Agua', 'Agua', 'Agua', 'Agua']\n",
      "['Agua', 'Agua', 'Agua', 'Agua', 'Agua', 'Agua', 'Agua', 'Agua', 'Agua', 'Agua', 'Agua', 'Agua']\n",
      "['Agua', 'Agua', 'Agua', 'Agua', 'Agua', 'Agua', 'Agua', 'Agua', 'Agua', 'Agua', 'Agua', 'Agua']\n",
      "['Agua', 'Agua', 'Agua', 'Agua', 'Agua', 'Agua', 'Agua', 'Agua', 'Agua', 'Agua', 'Agua', 'Agua']\n",
      "\n",
      "Tablero 2: \n",
      "['Agua', 'Agua', 'Agua', 'Agua', 'Agua', 'Agua', 'Agua', 'Agua', 'Agua', 'Agua', 'Agua', 'Barco 2']\n",
      "['Agua', 'Agua', 'Agua', 'Agua', 'Agua', 'Agua', 'Agua', 'Agua', 'Agua', 'Agua', 'Agua', 'Barco 2']\n",
      "['Agua', 'Agua', 'Agua', 'Agua', 'Agua', 'Agua', 'Agua', 'Agua', 'Agua', 'Agua', 'Agua', 'Agua']\n",
      "['Agua', 'Agua', 'Agua', 'Agua', 'Agua', 'Agua', 'Agua', 'Agua', 'Agua', 'Agua', 'Agua', 'Agua']\n",
      "['Agua', 'Agua', 'Agua', 'Agua', 'Agua', 'Agua', 'Agua', 'Agua', 'Agua', 'Agua', 'Agua', 'Agua']\n",
      "['Agua', 'Agua', 'Agua', 'Agua', 'Agua', 'Agua', 'Agua', 'Agua', 'Agua', 'Agua', 'Agua', 'Agua']\n",
      "['Agua', 'Agua', 'Agua', 'Agua', 'Agua', 'Agua', 'Agua', 'Agua', 'Agua', 'Agua', 'Agua', 'Agua']\n",
      "['Agua', 'Agua', 'Agua', 'Agua', 'Agua', 'Agua', 'Agua', 'Agua', 'Agua', 'Agua', 'Agua', 'Agua']\n",
      "['Agua', 'Agua', 'Agua', 'Agua', 'Agua', 'Agua', 'Agua', 'Agua', 'Agua', 'Agua', 'Agua', 'Agua']\n",
      "['Barco 1', 'Barco 1', 'Barco 1', 'Agua', 'Agua', 'Agua', 'Agua', 'Agua', 'Agua', 'Agua', 'Agua', 'Agua']\n",
      "['Barco 1', 'Barco 1', 'Barco 1', 'Agua', 'Agua', 'Agua', 'Agua', 'Agua', 'Agua', 'Agua', 'Agua', 'Agua']\n",
      "['Agua', 'Agua', 'Agua', 'Agua', 'Agua', 'Agua', 'Agua', 'Agua', 'Agua', 'Agua', 'Agua', 'Agua']\n"
     ]
    }
   ],
   "source": [
    "def add_barco(tablero, nombre_barco, columna, fila,  alto_barco, ancho_barco, horizontal):\n",
    "    for i in range(columna, alto_barco+columna if horizontal else ancho_barco+columna):\n",
    "        for j in range(fila, ancho_barco+fila if horizontal else alto_barco+fila):\n",
    "            tablero[j-1][i-1] = nombre_barco\n",
    "\n",
    "add_barco(tablero_1, \"Barco 1\", 3, 2, 3, 2, False)\n",
    "add_barco(tablero_1, \"Barco 2\", 6, 8, 2, 1, True)\n",
    "add_barco(tablero_2, \"Barco 1\", 1, 10, 3, 2, True)\n",
    "add_barco(tablero_2, \"Barco 2\", 12, 1, 2, 1, False)\n",
    "\n",
    "print(\"Tablero 1: \")\n",
    "print_tablero(tablero_1)\n",
    "print(\"\\nTablero 2: \")\n",
    "print_tablero(tablero_2)"
   ]
  },
  {
   "cell_type": "markdown",
   "metadata": {},
   "source": [
    "3. Función de disparo"
   ]
  },
  {
   "cell_type": "code",
   "execution_count": 31,
   "metadata": {},
   "outputs": [],
   "source": [
    "def disparo(tablero, fila, columna):\n",
    "    if tablero[fila-1][columna-1] == 'Agua':\n",
    "        return '¡Agua!'\n",
    "    else:\n",
    "        return \"¡Hundido!\" if is_sunked(tablero, fila-1, columna-1) else \"¡Tocado!\"\n",
    "\n",
    "def is_sunked(tablero, y, x):\n",
    "    nombre_barco = tablero[y][x]\n",
    "    tablero[y][x] += '(tocado)'\n",
    "    for i in tablero:\n",
    "        for j in i:\n",
    "            if j == nombre_barco:\n",
    "                return False\n",
    "    return True"
   ]
  },
  {
   "cell_type": "markdown",
   "metadata": {},
   "source": [
    "4. Función del juego"
   ]
  },
  {
   "cell_type": "code",
   "execution_count": 32,
   "metadata": {},
   "outputs": [],
   "source": [
    "def hundir_flota(turnos, coor_1, coor_2):\n",
    "    for i in range (turnos, 0, -1):\n",
    "        print(\"Turno del jugador 1:\")\n",
    "        turno(tablero_2, coor_1)\n",
    "        if check_win(tablero_2):\n",
    "            print('Enhorabuena, has ganado')\n",
    "            break\n",
    "        print(\"Turno del jugador 2:\")\n",
    "        turno(tablero_1, coor_2)\n",
    "        if check_win(tablero_1):\n",
    "            print('Enhorabuena, has ganado')\n",
    "            break\n",
    "        else:\n",
    "            print(f'Disparos restantes: {i-1}' if i-1 != 0 else 'No quedan más disparos')\n",
    "\n",
    "def check_win(tablero):\n",
    "    for i in tablero:\n",
    "        for j in i:\n",
    "            if j != 'Agua' and j.find('tocado') == -1:\n",
    "                return False\n",
    "    return True\n",
    "\n",
    "def turno(tablero, lista_coordenadas):\n",
    "    n_columna = input('Introduzca el número de columna: ')\n",
    "    n_fila = input('Introduzca el número de fila: ')\n",
    "    coordenada = (n_columna, n_fila)\n",
    "    if coordenada in lista_coordenadas:\n",
    "        print(\"Estas coordenadas ya fueron utilizadas\")\n",
    "    else:\n",
    "        print(f'Coordenadas introducidas: {\", \".join(coordenada)}')\n",
    "        lista_coordenadas.append(coordenada)\n",
    "        print(disparo(tablero, int(n_fila), int(n_columna)))"
   ]
  },
  {
   "cell_type": "markdown",
   "metadata": {},
   "source": [
    "5. Prueba del juego"
   ]
  },
  {
   "cell_type": "code",
   "execution_count": 33,
   "metadata": {},
   "outputs": [
    {
     "name": "stdout",
     "output_type": "stream",
     "text": [
      "Turno del jugador 1:\n",
      "Coordenadas introducidas: , \n"
     ]
    },
    {
     "ename": "ValueError",
     "evalue": "invalid literal for int() with base 10: ''",
     "output_type": "error",
     "traceback": [
      "\u001b[1;31m---------------------------------------------------------------------------\u001b[0m",
      "\u001b[1;31mValueError\u001b[0m                                Traceback (most recent call last)",
      "Cell \u001b[1;32mIn[33], line 4\u001b[0m\n\u001b[0;32m      1\u001b[0m disparos \u001b[39m=\u001b[39m \u001b[39m10\u001b[39m\n\u001b[0;32m      2\u001b[0m coordenadas_utilizadas_1, coordenadas_utilizadas_2 \u001b[39m=\u001b[39m \u001b[39mlist\u001b[39m(), \u001b[39mlist\u001b[39m()\n\u001b[1;32m----> 4\u001b[0m hundir_flota(disparos, coordenadas_utilizadas_1, coordenadas_utilizadas_2)\n",
      "Cell \u001b[1;32mIn[32], line 4\u001b[0m, in \u001b[0;36mhundir_flota\u001b[1;34m(turnos, coor_1, coor_2)\u001b[0m\n\u001b[0;32m      2\u001b[0m \u001b[39mfor\u001b[39;00m i \u001b[39min\u001b[39;00m \u001b[39mrange\u001b[39m (turnos, \u001b[39m0\u001b[39m, \u001b[39m-\u001b[39m\u001b[39m1\u001b[39m):\n\u001b[0;32m      3\u001b[0m     \u001b[39mprint\u001b[39m(\u001b[39m\"\u001b[39m\u001b[39mTurno del jugador 1:\u001b[39m\u001b[39m\"\u001b[39m)\n\u001b[1;32m----> 4\u001b[0m     turno(tablero_2, coor_1)\n\u001b[0;32m      5\u001b[0m     \u001b[39mif\u001b[39;00m check_win(tablero_2):\n\u001b[0;32m      6\u001b[0m         \u001b[39mprint\u001b[39m(\u001b[39m'\u001b[39m\u001b[39mEnhorabuena, has ganado\u001b[39m\u001b[39m'\u001b[39m)\n",
      "Cell \u001b[1;32mIn[32], line 32\u001b[0m, in \u001b[0;36mturno\u001b[1;34m(tablero, lista_coordenadas)\u001b[0m\n\u001b[0;32m     30\u001b[0m \u001b[39mprint\u001b[39m(\u001b[39mf\u001b[39m\u001b[39m'\u001b[39m\u001b[39mCoordenadas introducidas: \u001b[39m\u001b[39m{\u001b[39;00m\u001b[39m\"\u001b[39m\u001b[39m, \u001b[39m\u001b[39m\"\u001b[39m\u001b[39m.\u001b[39mjoin(coordenada)\u001b[39m}\u001b[39;00m\u001b[39m'\u001b[39m)\n\u001b[0;32m     31\u001b[0m lista_coordenadas\u001b[39m.\u001b[39mappend(coordenada)\n\u001b[1;32m---> 32\u001b[0m \u001b[39mprint\u001b[39m(disparo(tablero, \u001b[39mint\u001b[39m(n_fila), \u001b[39mint\u001b[39m(n_columna)))\n",
      "\u001b[1;31mValueError\u001b[0m: invalid literal for int() with base 10: ''"
     ]
    }
   ],
   "source": [
    "disparos = 10\n",
    "coordenadas_utilizadas_1, coordenadas_utilizadas_2 = list(), list()\n",
    "\n",
    "hundir_flota(disparos, coordenadas_utilizadas_1, coordenadas_utilizadas_2)"
   ]
  }
 ],
 "metadata": {
  "kernelspec": {
   "display_name": "Python 3 (ipykernel)",
   "language": "python",
   "name": "python3"
  },
  "language_info": {
   "codemirror_mode": {
    "name": "ipython",
    "version": 3
   },
   "file_extension": ".py",
   "mimetype": "text/x-python",
   "name": "python",
   "nbconvert_exporter": "python",
   "pygments_lexer": "ipython3",
   "version": "3.11.3"
  }
 },
 "nbformat": 4,
 "nbformat_minor": 4
}
