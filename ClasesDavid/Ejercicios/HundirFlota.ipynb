{
 "cells": [
  {
   "cell_type": "markdown",
   "metadata": {},
   "source": [
    "1. Creación de los tableros para ambos jugadores"
   ]
  },
  {
   "cell_type": "code",
   "execution_count": 14,
   "metadata": {
    "tags": []
   },
   "outputs": [
    {
     "name": "stdout",
     "output_type": "stream",
     "text": [
      "Tablero 1: \n",
      "['~', '~', '~', '~', '~', '~', '~', '~', '~', '~', '~', '~']\n",
      "['~', '~', '~', '~', '~', '~', '~', '~', '~', '~', '~', '~']\n",
      "['~', '~', '~', '~', '~', '~', '~', '~', '~', '~', '~', '~']\n",
      "['~', '~', '~', '~', '~', '~', '~', '~', '~', '~', '~', '~']\n",
      "['~', '~', '~', '~', '~', '~', '~', '~', '~', '~', '~', '~']\n",
      "['~', '~', '~', '~', '~', '~', '~', '~', '~', '~', '~', '~']\n",
      "['~', '~', '~', '~', '~', '~', '~', '~', '~', '~', '~', '~']\n",
      "['~', '~', '~', '~', '~', '~', '~', '~', '~', '~', '~', '~']\n",
      "['~', '~', '~', '~', '~', '~', '~', '~', '~', '~', '~', '~']\n",
      "['~', '~', '~', '~', '~', '~', '~', '~', '~', '~', '~', '~']\n",
      "['~', '~', '~', '~', '~', '~', '~', '~', '~', '~', '~', '~']\n",
      "['~', '~', '~', '~', '~', '~', '~', '~', '~', '~', '~', '~']\n",
      "\n",
      "Tablero 2: \n",
      "['~', '~', '~', '~', '~', '~', '~', '~', '~', '~', '~', '~']\n",
      "['~', '~', '~', '~', '~', '~', '~', '~', '~', '~', '~', '~']\n",
      "['~', '~', '~', '~', '~', '~', '~', '~', '~', '~', '~', '~']\n",
      "['~', '~', '~', '~', '~', '~', '~', '~', '~', '~', '~', '~']\n",
      "['~', '~', '~', '~', '~', '~', '~', '~', '~', '~', '~', '~']\n",
      "['~', '~', '~', '~', '~', '~', '~', '~', '~', '~', '~', '~']\n",
      "['~', '~', '~', '~', '~', '~', '~', '~', '~', '~', '~', '~']\n",
      "['~', '~', '~', '~', '~', '~', '~', '~', '~', '~', '~', '~']\n",
      "['~', '~', '~', '~', '~', '~', '~', '~', '~', '~', '~', '~']\n",
      "['~', '~', '~', '~', '~', '~', '~', '~', '~', '~', '~', '~']\n",
      "['~', '~', '~', '~', '~', '~', '~', '~', '~', '~', '~', '~']\n",
      "['~', '~', '~', '~', '~', '~', '~', '~', '~', '~', '~', '~']\n"
     ]
    }
   ],
   "source": [
    "ancho, alto = 12, 12\n",
    "\n",
    "def crear_tablero(alto, ancho):\n",
    "    tablero = list()\n",
    "    for i in range(0, alto):\n",
    "        tablero.append((\"~ \"*ancho).split())\n",
    "    return tablero\n",
    "\n",
    "tablero_1, tablero_2 = crear_tablero(alto, ancho), crear_tablero(alto, ancho)\n",
    "\n",
    "def print_tablero(tablero):\n",
    "    for i in tablero:\n",
    "        print(i)\n",
    "\n",
    "print(\"Tablero 1: \")\n",
    "print_tablero(tablero_1)\n",
    "print(\"\\nTablero 2: \")\n",
    "print_tablero(tablero_2)"
   ]
  },
  {
   "cell_type": "markdown",
   "metadata": {},
   "source": [
    "2. Adición de los barcos en los tableros"
   ]
  },
  {
   "cell_type": "code",
   "execution_count": 15,
   "metadata": {},
   "outputs": [
    {
     "name": "stdout",
     "output_type": "stream",
     "text": [
      "Tablero 1: \n",
      "['~', '~', '~', '~', '~', '~', '~', '~', '~', '~', '~', '~']\n",
      "['~', '~', 'Barco 1', 'Barco 1', '~', '~', '~', '~', '~', '~', '~', '~']\n",
      "['~', '~', 'Barco 1', 'Barco 1', '~', '~', '~', '~', '~', '~', '~', '~']\n",
      "['~', '~', 'Barco 1', 'Barco 1', '~', '~', '~', '~', '~', '~', '~', '~']\n",
      "['~', '~', '~', '~', '~', '~', '~', '~', '~', '~', '~', '~']\n",
      "['~', '~', '~', '~', '~', '~', '~', '~', '~', '~', '~', '~']\n",
      "['~', '~', '~', '~', '~', '~', '~', '~', '~', '~', '~', '~']\n",
      "['~', '~', '~', '~', '~', 'Barco 2', 'Barco 2', '~', '~', '~', '~', '~']\n",
      "['~', '~', '~', '~', '~', '~', '~', '~', '~', '~', '~', '~']\n",
      "['~', '~', '~', '~', '~', '~', '~', '~', '~', '~', '~', '~']\n",
      "['~', '~', '~', '~', '~', '~', '~', '~', '~', '~', '~', '~']\n",
      "['~', '~', '~', '~', '~', '~', '~', '~', '~', '~', '~', '~']\n",
      "\n",
      "Tablero 2: \n",
      "['~', '~', '~', '~', '~', '~', '~', '~', '~', '~', '~', 'Barco 2']\n",
      "['~', '~', '~', '~', '~', '~', '~', '~', '~', '~', '~', 'Barco 2']\n",
      "['~', '~', '~', '~', '~', '~', '~', '~', '~', '~', '~', '~']\n",
      "['~', '~', '~', '~', '~', '~', '~', '~', '~', '~', '~', '~']\n",
      "['~', '~', '~', '~', '~', '~', '~', '~', '~', '~', '~', '~']\n",
      "['~', '~', '~', '~', '~', '~', '~', '~', '~', '~', '~', '~']\n",
      "['~', '~', '~', '~', '~', '~', '~', '~', '~', '~', '~', '~']\n",
      "['~', '~', '~', '~', '~', '~', '~', '~', '~', '~', '~', '~']\n",
      "['~', '~', '~', '~', '~', '~', '~', '~', '~', '~', '~', '~']\n",
      "['Barco 1', 'Barco 1', 'Barco 1', '~', '~', '~', '~', '~', '~', '~', '~', '~']\n",
      "['Barco 1', 'Barco 1', 'Barco 1', '~', '~', '~', '~', '~', '~', '~', '~', '~']\n",
      "['~', '~', '~', '~', '~', '~', '~', '~', '~', '~', '~', '~']\n"
     ]
    }
   ],
   "source": [
    "def add_barco(tablero, nombre_barco, columna, fila,  alto_barco, ancho_barco, horizontal):\n",
    "    for i in range(columna, alto_barco+columna if horizontal else ancho_barco+columna):\n",
    "        for j in range(fila, ancho_barco+fila if horizontal else alto_barco+fila):\n",
    "            tablero[j-1][i-1] = nombre_barco\n",
    "\n",
    "add_barco(tablero_1, \"Barco 1\", 3, 2, 3, 2, False)\n",
    "add_barco(tablero_1, \"Barco 2\", 6, 8, 2, 1, True)\n",
    "add_barco(tablero_2, \"Barco 1\", 1, 10, 3, 2, True)\n",
    "add_barco(tablero_2, \"Barco 2\", 12, 1, 2, 1, False)\n",
    "\n",
    "print(\"Tablero 1: \")\n",
    "print_tablero(tablero_1)\n",
    "print(\"\\nTablero 2: \")\n",
    "print_tablero(tablero_2)"
   ]
  },
  {
   "cell_type": "markdown",
   "metadata": {},
   "source": [
    "3. Función de disparo"
   ]
  },
  {
   "cell_type": "code",
   "execution_count": 16,
   "metadata": {},
   "outputs": [],
   "source": [
    "def disparo(tablero, fila, columna):\n",
    "    if tablero[fila-1][columna-1] == '~':\n",
    "        return '¡Agua!'\n",
    "    else:\n",
    "        return \"¡Hundido!\" if is_sunked(tablero, fila-1, columna-1) else \"¡Tocado!\"\n",
    "\n",
    "def is_sunked(tablero, y, x):\n",
    "    nombre_barco = tablero[y][x]\n",
    "    tablero[y][x] += '(tocado)'\n",
    "    for i in tablero:\n",
    "        for j in i:\n",
    "            if j == nombre_barco:\n",
    "                return False\n",
    "    return True"
   ]
  },
  {
   "cell_type": "markdown",
   "metadata": {},
   "source": [
    "4. Función del juego"
   ]
  },
  {
   "cell_type": "code",
   "execution_count": 17,
   "metadata": {},
   "outputs": [],
   "source": [
    "def hundir_flota(turnos, coor_1, coor_2):\n",
    "    for i in range (turnos, 0, -1):\n",
    "        print(\"Turno del jugador 1:\")\n",
    "        turno(tablero_2, coor_1)\n",
    "        if check_win(tablero_2):\n",
    "            print('Enhorabuena, has ganado')\n",
    "            break\n",
    "        print(\"Turno del jugador 2:\")\n",
    "        turno(tablero_1, coor_2)\n",
    "        if check_win(tablero_1):\n",
    "            print('Enhorabuena, has ganado')\n",
    "            break\n",
    "        else:\n",
    "            print(f'Disparos restantes: {i-1}' if i-1 != 0 else 'No quedan más disparos')\n",
    "\n",
    "def check_win(tablero):\n",
    "    for i in tablero:\n",
    "        for j in i:\n",
    "            if j != '~' and j.find('tocado') == -1:\n",
    "                return False\n",
    "    return True\n",
    "\n",
    "def turno(tablero, lista_coordenadas):\n",
    "    n_columna = input('Introduzca el número de columna: ')\n",
    "    n_fila = input('Introduzca el número de fila: ')\n",
    "    coordenada = (n_columna, n_fila)\n",
    "    if coordenada in lista_coordenadas:\n",
    "        print(\"Estas coordenadas ya fueron utilizadas\")\n",
    "    else:\n",
    "        print(f'Coordenadas introducidas: {\", \".join(coordenada)}')\n",
    "        lista_coordenadas.append(coordenada)\n",
    "        print(disparo(tablero, int(n_fila), int(n_columna)))"
   ]
  },
  {
   "cell_type": "markdown",
   "metadata": {},
   "source": [
    "5. Prueba del juego"
   ]
  },
  {
   "cell_type": "code",
   "execution_count": 18,
   "metadata": {},
   "outputs": [
    {
     "name": "stdout",
     "output_type": "stream",
     "text": [
      "Turno del jugador 1:\n",
      "Coordenadas introducidas: 12, 1\n",
      "¡Tocado!\n",
      "Turno del jugador 2:\n",
      "Coordenadas introducidas: 1, 2\n",
      "¡Agua!\n",
      "Disparos restantes: 9\n",
      "Turno del jugador 1:\n",
      "Coordenadas introducidas: 12, 2\n",
      "¡Hundido!\n",
      "Turno del jugador 2:\n",
      "Coordenadas introducidas: 2, 3\n",
      "¡Agua!\n",
      "Disparos restantes: 8\n",
      "Turno del jugador 1:\n",
      "Coordenadas introducidas: 1, 10\n",
      "¡Tocado!\n",
      "Turno del jugador 2:\n",
      "Coordenadas introducidas: 3, 4\n",
      "¡Tocado!\n",
      "Disparos restantes: 7\n",
      "Turno del jugador 1:\n",
      "Coordenadas introducidas: 2, 10\n",
      "¡Tocado!\n",
      "Turno del jugador 2:\n",
      "Coordenadas introducidas: 4, 5\n",
      "¡Agua!\n",
      "Disparos restantes: 6\n",
      "Turno del jugador 1:\n",
      "Coordenadas introducidas: 3, 10\n",
      "¡Tocado!\n",
      "Turno del jugador 2:\n",
      "Estas coordenadas ya fueron utilizadas\n",
      "Disparos restantes: 5\n",
      "Turno del jugador 1:\n",
      "Estas coordenadas ya fueron utilizadas\n",
      "Turno del jugador 2:\n",
      "Coordenadas introducidas: 6, 5\n",
      "¡Agua!\n",
      "Disparos restantes: 4\n",
      "Turno del jugador 1:\n",
      "Coordenadas introducidas: 1, 11\n",
      "¡Tocado!\n",
      "Turno del jugador 2:\n",
      "Coordenadas introducidas: 8, 6\n",
      "¡Agua!\n",
      "Disparos restantes: 3\n",
      "Turno del jugador 1:\n",
      "Coordenadas introducidas: 2, 11\n",
      "¡Tocado!\n",
      "Turno del jugador 2:\n",
      "Coordenadas introducidas: 4, 7\n",
      "¡Agua!\n",
      "Disparos restantes: 2\n",
      "Turno del jugador 1:\n",
      "Coordenadas introducidas: 3, 11\n",
      "¡Hundido!\n",
      "Enhorabuena, has ganado\n"
     ]
    }
   ],
   "source": [
    "disparos = 10\n",
    "coordenadas_utilizadas_1, coordenadas_utilizadas_2 = list(), list()\n",
    "\n",
    "hundir_flota(disparos, coordenadas_utilizadas_1, coordenadas_utilizadas_2)"
   ]
  }
 ],
 "metadata": {
  "kernelspec": {
   "display_name": "Python 3 (ipykernel)",
   "language": "python",
   "name": "python3"
  },
  "language_info": {
   "codemirror_mode": {
    "name": "ipython",
    "version": 3
   },
   "file_extension": ".py",
   "mimetype": "text/x-python",
   "name": "python",
   "nbconvert_exporter": "python",
   "pygments_lexer": "ipython3",
   "version": "3.11.3"
  }
 },
 "nbformat": 4,
 "nbformat_minor": 4
}
