{
 "cells": [
  {
   "cell_type": "code",
   "execution_count": 15,
   "metadata": {},
   "outputs": [],
   "source": [
    "coches = {}\n",
    "vendidos = {}"
   ]
  },
  {
   "cell_type": "code",
   "execution_count": 16,
   "metadata": {},
   "outputs": [
    {
     "name": "stdout",
     "output_type": "stream",
     "text": [
      "{'Ford': {'Mustang': 2, 'Ranger': 4, 'Scorpion': 1}, 'Mercedes': {'Clase C': 1, 'Clase B': 4}}\n"
     ]
    }
   ],
   "source": [
    "def registra(diccionario, marca, modelo):\n",
    "    if marca in diccionario:\n",
    "        diccionario[marca][modelo] = diccionario[marca][modelo] + 1 if modelo in diccionario[marca] else 1\n",
    "    else:\n",
    "        diccionario[marca] = {modelo: 1}\n",
    "\n",
    "registra(coches, \"Ford\", \"Mustang\")\n",
    "registra(coches, \"Ford\", \"Mustang\")\n",
    "registra(coches, \"Ford\", \"Ranger\")\n",
    "registra(coches, \"Ford\", \"Ranger\")\n",
    "registra(coches, \"Ford\", \"Ranger\")\n",
    "registra(coches, \"Ford\", \"Ranger\")\n",
    "registra(coches, \"Ford\", \"Scorpion\")\n",
    "registra(coches, \"Mercedes\", \"Clase C\")\n",
    "registra(coches, \"Mercedes\", \"Clase B\")\n",
    "registra(coches, \"Mercedes\", \"Clase B\")\n",
    "registra(coches, \"Mercedes\", \"Clase B\")\n",
    "registra(coches, \"Mercedes\", \"Clase B\")\n",
    "print(coches)"
   ]
  },
  {
   "cell_type": "code",
   "execution_count": 17,
   "metadata": {},
   "outputs": [
    {
     "name": "stdout",
     "output_type": "stream",
     "text": [
      "True\n",
      "False\n",
      "False\n"
     ]
    }
   ],
   "source": [
    "def check(marca, modelo):\n",
    "    return marca in coches and modelo in coches[marca]\n",
    "\n",
    "print(check(\"Ford\", \"Scorpion\"))\n",
    "print(check(\"Ford\", \"Ka\"))\n",
    "print(check(\"Opel\", \"Corsa\"))"
   ]
  },
  {
   "cell_type": "code",
   "execution_count": 18,
   "metadata": {},
   "outputs": [
    {
     "name": "stdout",
     "output_type": "stream",
     "text": [
      "Ford Ranger vendido\n",
      "Mercedes Clase C vendido\n",
      "No se puede vender el Opel Corsa ya que no está en stock\n",
      "En stock: {'Ford': {'Mustang': 2, 'Ranger': 3, 'Scorpion': 1}, 'Mercedes': {'Clase B': 4}}\n",
      "Coches vendidos: {'Ford': {'Ranger': 1}, 'Mercedes': {'Clase C': 1}}\n"
     ]
    }
   ],
   "source": [
    "def venta(marca, modelo):\n",
    "    if check(marca, modelo):\n",
    "        if coches[marca][modelo] != 1:\n",
    "            coches[marca][modelo] -=1\n",
    "        else:\n",
    "            del coches[marca][modelo]\n",
    "        print(f\"{marca} {modelo} vendido\")\n",
    "        registra(vendidos, marca, modelo)\n",
    "    else:\n",
    "        print(f\"No se puede vender el {marca} {modelo} ya que no está en stock\")\n",
    "\n",
    "venta(\"Ford\", \"Ranger\")\n",
    "venta(\"Mercedes\", \"Clase C\")\n",
    "venta(\"Opel\", \"Corsa\")\n",
    "print(f\"En stock: {coches}\")\n",
    "print(f\"Coches vendidos: {vendidos}\")"
   ]
  }
 ],
 "metadata": {
  "kernelspec": {
   "display_name": "base",
   "language": "python",
   "name": "python3"
  },
  "language_info": {
   "codemirror_mode": {
    "name": "ipython",
    "version": 3
   },
   "file_extension": ".py",
   "mimetype": "text/x-python",
   "name": "python",
   "nbconvert_exporter": "python",
   "pygments_lexer": "ipython3",
   "version": "3.11.3"
  },
  "orig_nbformat": 4
 },
 "nbformat": 4,
 "nbformat_minor": 2
}
