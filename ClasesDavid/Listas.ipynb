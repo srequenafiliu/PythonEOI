{
 "cells": [
  {
   "cell_type": "code",
   "execution_count": 1,
   "id": "5f236a5f-c4c6-44d9-8d43-303187a7aaa2",
   "metadata": {
    "tags": []
   },
   "outputs": [
    {
     "name": "stdout",
     "output_type": "stream",
     "text": [
      "0\n"
     ]
    }
   ],
   "source": [
    "lista = list() # Crea una lista vacía\n",
    "print(len(lista))"
   ]
  },
  {
   "cell_type": "code",
   "execution_count": 2,
   "id": "e5e8772f-21ac-45b8-80bd-44391e3ae365",
   "metadata": {
    "tags": []
   },
   "outputs": [
    {
     "name": "stdout",
     "output_type": "stream",
     "text": [
      "Frutas: ['plátano', 'naranja', 'pera', 'limón']\n",
      "Número de frutas: 4\n",
      "Verduras: ['Lechuga', 'Cebolla', 'Zanahoria']\n",
      "Número de verduras: 3\n",
      "Productos: ['leche', 'carne', 'mantequilla', 'huevo']\n",
      "Número de productos: 4\n",
      "Países: ['España', 'Finlandia', 'Dinamarca', 'Alemania', 'Austria']\n",
      "Número de países: 5\n"
     ]
    }
   ],
   "source": [
    "frutas = ['plátano', 'naranja', 'pera', 'limón']\n",
    "verduras = ['Lechuga', 'Cebolla','Zanahoria']\n",
    "productos = ['leche', 'carne', 'mantequilla', 'huevo']\n",
    "paises = ['España', 'Finlandia', 'Dinamarca', 'Alemania', 'Austria']\n",
    "\n",
    "print('Frutas:', frutas)\n",
    "print('Número de frutas:', len(frutas))\n",
    "print('Verduras:', verduras)\n",
    "print('Número de verduras:', len(verduras))\n",
    "print('Productos:', productos)\n",
    "print('Número de productos:', len(productos))\n",
    "print('Países:', paises)\n",
    "print('Número de países:', len(paises))"
   ]
  },
  {
   "cell_type": "code",
   "execution_count": 3,
   "id": "5a2bed20-2c25-475a-9887-60c250ce755d",
   "metadata": {
    "tags": []
   },
   "outputs": [
    {
     "name": "stdout",
     "output_type": "stream",
     "text": [
      "['manzana', 4, 'sandía', True, ['plátano', 'naranja', 'pera', 'limón']]\n"
     ]
    }
   ],
   "source": [
    "lista = ['manzana', 4, 'sandía', True, ['plátano', 'naranja', 'pera', 'limón']]\n",
    "print(lista)"
   ]
  },
  {
   "cell_type": "code",
   "execution_count": 4,
   "id": "f37bea30-f166-4517-a7f6-33b14763e8dc",
   "metadata": {
    "tags": []
   },
   "outputs": [
    {
     "name": "stdout",
     "output_type": "stream",
     "text": [
      "plátano\n",
      "plátano\n",
      "limón\n",
      "limón\n"
     ]
    }
   ],
   "source": [
    "# Acceder a los elementos de una lista\n",
    "frutas = ['plátano', 'naranja', 'pera', 'limón']\n",
    "print(frutas[0]) # Accede al primer elemento de la lista\n",
    "print(frutas[-4]) # También se puede acceder de esta manera\n",
    "last_index = len(frutas) - 1\n",
    "print(frutas[last_index]) # Accede al último elemento de la lista\n",
    "print(frutas[-1]) # También se puede acceder de esta manera"
   ]
  },
  {
   "cell_type": "code",
   "execution_count": 5,
   "id": "daa742c4-c12d-4d50-834d-f74776f79ce6",
   "metadata": {
    "tags": []
   },
   "outputs": [
    {
     "name": "stdout",
     "output_type": "stream",
     "text": [
      "['plátano', 'naranja', 'pera', 'limón']\n",
      "['plátano', 'naranja', 'pera', 'limón']\n",
      "['plátano', 'naranja', 'pera', 'limón']\n",
      "['plátano', 'naranja', 'pera', 'limón']\n",
      "['plátano', 'naranja', 'pera', 'limón']\n",
      "['naranja', 'pera']\n",
      "['naranja', 'pera']\n",
      "['naranja', 'pera', 'limón']\n",
      "['naranja', 'pera', 'limón']\n"
     ]
    }
   ],
   "source": [
    "# Partir una lista\n",
    "frutas = ['plátano', 'naranja', 'pera', 'limón']\n",
    "print(frutas[0:4]) # Devuelve toda la lista\n",
    "print(frutas[0:])\n",
    "print(frutas[:4])\n",
    "print(frutas[:])\n",
    "print(frutas[-4:])\n",
    "\n",
    "print(frutas[1:3]) # Devuelve una lista desde el elemento con posición 1 hasta el elemento con posición 3\n",
    "print(frutas[-3:-1])\n",
    "print(frutas[1:]) # Devuelve una lista desde el elemento con posición 1 hasta el elemento final\n",
    "print(frutas[-3:])"
   ]
  },
  {
   "cell_type": "code",
   "execution_count": 6,
   "id": "a882ba09-c146-4010-a882-986f948a9695",
   "metadata": {
    "tags": []
   },
   "outputs": [
    {
     "name": "stdout",
     "output_type": "stream",
     "text": [
      "True\n",
      "False\n"
     ]
    }
   ],
   "source": [
    "# Comprobar elementos\n",
    "frutas = ['plátano', 'naranja', 'pera', 'limón']\n",
    "print('naranja' in frutas)\n",
    "print('lima' in frutas)"
   ]
  },
  {
   "cell_type": "code",
   "execution_count": 7,
   "id": "607fae6a-bd37-43a3-8236-1378c192a4cb",
   "metadata": {
    "tags": []
   },
   "outputs": [
    {
     "name": "stdout",
     "output_type": "stream",
     "text": [
      "['aguacate', 'naranja', 'pera', 'limón']\n",
      "['aguacate', 'naranja', 'pera', 'lima']\n",
      "['aguacate', 'naranja', 'pera', 'lima', 'frambuesa']\n",
      "['aguacate', 'naranja', 'pera', 'fresa', 'lima', 'frambuesa']\n",
      "['aguacate', 'naranja', 'pera', 'lima', 'frambuesa', 'mango', 'piña']\n",
      "['aguacate', 'naranja', 'pera', 'frambuesa', 'mango', 'piña']\n",
      "['naranja', 'pera', 'frambuesa', 'mango', 'piña']\n",
      "[]\n"
     ]
    }
   ],
   "source": [
    "# Modificar listas\n",
    "frutas = ['plátano', 'naranja', 'pera', 'limón']\n",
    "frutas[0] = 'aguacate' \n",
    "print(frutas)\n",
    "frutas[-1] = 'lima'\n",
    "print(frutas)\n",
    "\n",
    "frutas.append('frambuesa') #append(): Introduce un elemento en la última posición\n",
    "print(frutas)\n",
    "\n",
    "frutas.insert(3, 'fresa') #insert(): Introduce un elemento en la posición especificada\n",
    "print(frutas)\n",
    "\n",
    "frutas.extend(['mango','piña'])\n",
    "\n",
    "frutas.remove('fresa')  #remove(): Elimina el elemento especificado. Si no existe, da error\n",
    "print(frutas)\n",
    "\n",
    "frutas.pop(3) #pop(): Elimina el elemento con posición especificada de la lista. Si no se especifica, se elimina el último elemento\n",
    "print(frutas)\n",
    "\n",
    "del frutas[0] # Alternativa a pop(). Se debe especificar número para que no dé error\n",
    "print(frutas)\n",
    "\n",
    "frutas.clear() #clear(): Borra todos los elementos de la lista  \n",
    "print(frutas)"
   ]
  },
  {
   "cell_type": "code",
   "execution_count": 8,
   "id": "72f78719-794a-4b39-bcbb-0e4cc2477b6a",
   "metadata": {
    "tags": []
   },
   "outputs": [
    {
     "name": "stdout",
     "output_type": "stream",
     "text": [
      "['plátano', 'naranja', 'pera', 'limón']\n",
      "['banana', 'naranja', 'pera', 'limón']\n"
     ]
    }
   ],
   "source": [
    "# Copiar una lista\n",
    "frutas = ['plátano', 'naranja', 'pera', 'limón']\n",
    "\n",
    "copia_frutas = frutas[:]\n",
    "frutas[0] = 'banana'\n",
    "print(copia_frutas) # El valor también cambia en la lista copiada\n",
    "\n",
    "copia_frutas = frutas.copy() #copy(): Crea una copia de la lista\n",
    "frutas[0] = 'banana'\n",
    "print(copia_frutas) # Esta vez el valor no cambia"
   ]
  },
  {
   "cell_type": "code",
   "execution_count": 9,
   "id": "d678026b-308b-44d1-af51-888c5f1849e0",
   "metadata": {
    "tags": []
   },
   "outputs": [
    {
     "name": "stdout",
     "output_type": "stream",
     "text": [
      "[-5, -4, -3, -2, -1, 0, 1, 2, 3, 4, 5]\n",
      "['plátano', 'naranja', 'pera', 'limón', 'Lechuga', 'Cebolla', 'Zanahoria']\n",
      "Números: [-5, -4, -3, -2, -1, 0, 1, 2, 3, 4, 5]\n",
      "Frutas y verduras: ['plátano', 'naranja', 'pera', 'limón', 'Lechuga', 'Cebolla', 'Zanahoria']\n"
     ]
    }
   ],
   "source": [
    "# Unir listas\n",
    "pos_nums = [1, 2, 3, 4, 5]\n",
    "cero = [0]\n",
    "neg_nums = [-5, -4, -3, -2, -1]\n",
    "numeros = neg_nums + cero + pos_nums\n",
    "print(numeros)\n",
    "\n",
    "frutas = ['plátano', 'naranja', 'pera', 'limón']\n",
    "verduras = ['Lechuga', 'Cebolla','Zanahoria'] \n",
    "frutas_y_verduras = frutas + verduras\n",
    "print(frutas_y_verduras)\n",
    "\n",
    "neg_nums.extend(cero) # Alternativa para unir listas\n",
    "neg_nums.extend(pos_nums)\n",
    "print('Números:', neg_nums)\n",
    "\n",
    "frutas.extend(verduras)\n",
    "print('Frutas y verduras:', frutas )"
   ]
  },
  {
   "cell_type": "code",
   "execution_count": 10,
   "id": "ae61baee-c61d-42c7-87cb-ff047eddb33f",
   "metadata": {
    "tags": []
   },
   "outputs": [
    {
     "name": "stdout",
     "output_type": "stream",
     "text": [
      "1\n",
      "3\n",
      "1\n",
      "2\n",
      "['limón', 'pera', 'naranja', 'plátano']\n",
      "[24, 25, 24, 26, 25, 24, 19, 22]\n",
      "['limón', 'naranja', 'pera', 'plátano']\n",
      "['plátano', 'pera', 'naranja', 'limón']\n",
      "[19, 22, 24, 24, 24, 25, 25, 26]\n",
      "[26, 25, 25, 24, 24, 24, 22, 19]\n",
      "[26, 25, 25, 24, 24, 24, 22, 19, 26, 25, 25, 24, 24, 24, 22, 19]\n"
     ]
    }
   ],
   "source": [
    "# Métodos para listas\n",
    "frutas, edades = ['plátano', 'naranja', 'pera', 'limón'], [22, 19, 24, 25, 26, 24, 25, 24]\n",
    "print(frutas.count('naranja')) #count(): Devuelve el número de elementos que coincidan con el especificado\n",
    "print(edades.count(24))\n",
    "\n",
    "print(frutas.index('naranja')) #index(): Devuelve el índice de la primera coincidencia\n",
    "print(edades.index(24)) \n",
    "\n",
    "frutas.reverse() #reverse(): Invierte la lista\n",
    "print(frutas)  \n",
    "edades.reverse()\n",
    "print(edades)\n",
    "\n",
    "frutas.sort() #sort(): Ordena la lista en orden alfanumérico si no se especifica orden\n",
    "print(frutas) \n",
    "frutas.sort(reverse=True) # Ordena la lista en orden alfanumérico INVERSO. No confundir con reverse()\n",
    "print(frutas)\n",
    "\n",
    "edades.sort()\n",
    "print(edades) \n",
    "edades.sort(reverse=True)\n",
    "print(edades)\n",
    "\n",
    "print(edades*2) # Multiplica la lista de manera que los valores se repiten las veces que hayamos especificado"
   ]
  }
 ],
 "metadata": {
  "kernelspec": {
   "display_name": "Python 3 (ipykernel)",
   "language": "python",
   "name": "python3"
  },
  "language_info": {
   "codemirror_mode": {
    "name": "ipython",
    "version": 3
   },
   "file_extension": ".py",
   "mimetype": "text/x-python",
   "name": "python",
   "nbconvert_exporter": "python",
   "pygments_lexer": "ipython3",
   "version": "3.11.3"
  }
 },
 "nbformat": 4,
 "nbformat_minor": 5
}
