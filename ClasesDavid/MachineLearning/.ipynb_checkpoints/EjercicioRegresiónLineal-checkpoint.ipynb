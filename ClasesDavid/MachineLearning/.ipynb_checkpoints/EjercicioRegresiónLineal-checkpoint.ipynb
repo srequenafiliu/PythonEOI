{
 "cells": [
  {
   "cell_type": "markdown",
   "id": "91b00013-c58f-46bd-a490-98a7fda87354",
   "metadata": {},
   "source": [
    "### Dada la siguiente tabla, calcular por regresión lineal el volumen en determinadas alturas que no tenemos:  \n",
    "Altura (m)\tVolumen (L)  \n",
    "0\t     0  \n",
    "5\t     15708  \n",
    "10\t     31416  \n",
    "15\t     47124  \n",
    "20\t     62832  \n",
    "25\t     78540  \n",
    "30\t     94248  "
   ]
  },
  {
   "cell_type": "code",
   "execution_count": 18,
   "id": "dbb0335e-9a76-4c22-91de-79ed66d04b52",
   "metadata": {
    "tags": []
   },
   "outputs": [
    {
     "data": {
      "text/html": [
       "<div>\n",
       "<style scoped>\n",
       "    .dataframe tbody tr th:only-of-type {\n",
       "        vertical-align: middle;\n",
       "    }\n",
       "\n",
       "    .dataframe tbody tr th {\n",
       "        vertical-align: top;\n",
       "    }\n",
       "\n",
       "    .dataframe thead th {\n",
       "        text-align: right;\n",
       "    }\n",
       "</style>\n",
       "<table border=\"1\" class=\"dataframe\">\n",
       "  <thead>\n",
       "    <tr style=\"text-align: right;\">\n",
       "      <th></th>\n",
       "      <th>x</th>\n",
       "      <th>y</th>\n",
       "    </tr>\n",
       "  </thead>\n",
       "  <tbody>\n",
       "    <tr>\n",
       "      <th>0</th>\n",
       "      <td>0</td>\n",
       "      <td>0</td>\n",
       "    </tr>\n",
       "    <tr>\n",
       "      <th>1</th>\n",
       "      <td>5</td>\n",
       "      <td>15708</td>\n",
       "    </tr>\n",
       "    <tr>\n",
       "      <th>2</th>\n",
       "      <td>10</td>\n",
       "      <td>31416</td>\n",
       "    </tr>\n",
       "    <tr>\n",
       "      <th>3</th>\n",
       "      <td>15</td>\n",
       "      <td>47124</td>\n",
       "    </tr>\n",
       "    <tr>\n",
       "      <th>4</th>\n",
       "      <td>20</td>\n",
       "      <td>62832</td>\n",
       "    </tr>\n",
       "    <tr>\n",
       "      <th>5</th>\n",
       "      <td>25</td>\n",
       "      <td>78540</td>\n",
       "    </tr>\n",
       "    <tr>\n",
       "      <th>6</th>\n",
       "      <td>30</td>\n",
       "      <td>94248</td>\n",
       "    </tr>\n",
       "  </tbody>\n",
       "</table>\n",
       "</div>"
      ],
      "text/plain": [
       "    x      y\n",
       "0   0      0\n",
       "1   5  15708\n",
       "2  10  31416\n",
       "3  15  47124\n",
       "4  20  62832\n",
       "5  25  78540\n",
       "6  30  94248"
      ]
     },
     "execution_count": 18,
     "metadata": {},
     "output_type": "execute_result"
    }
   ],
   "source": [
    "import pandas as pd\n",
    "x = np.array([0, 5, 10, 15, 20, 25, 30])\n",
    "y = np.array([0, 15708, 31416, 47124, 62832, 78540, 94248])\n",
    "data = {'x': x.flatten(), 'y': y.flatten()}\n",
    "df = pd.DataFrame(data)\n",
    "df"
   ]
  },
  {
   "cell_type": "code",
   "execution_count": 19,
   "id": "d9a6cf7b-9038-4181-90e1-353810d86e9f",
   "metadata": {
    "tags": []
   },
   "outputs": [
    {
     "data": {
      "text/html": [
       "<style>#sk-container-id-2 {color: black;}#sk-container-id-2 pre{padding: 0;}#sk-container-id-2 div.sk-toggleable {background-color: white;}#sk-container-id-2 label.sk-toggleable__label {cursor: pointer;display: block;width: 100%;margin-bottom: 0;padding: 0.3em;box-sizing: border-box;text-align: center;}#sk-container-id-2 label.sk-toggleable__label-arrow:before {content: \"▸\";float: left;margin-right: 0.25em;color: #696969;}#sk-container-id-2 label.sk-toggleable__label-arrow:hover:before {color: black;}#sk-container-id-2 div.sk-estimator:hover label.sk-toggleable__label-arrow:before {color: black;}#sk-container-id-2 div.sk-toggleable__content {max-height: 0;max-width: 0;overflow: hidden;text-align: left;background-color: #f0f8ff;}#sk-container-id-2 div.sk-toggleable__content pre {margin: 0.2em;color: black;border-radius: 0.25em;background-color: #f0f8ff;}#sk-container-id-2 input.sk-toggleable__control:checked~div.sk-toggleable__content {max-height: 200px;max-width: 100%;overflow: auto;}#sk-container-id-2 input.sk-toggleable__control:checked~label.sk-toggleable__label-arrow:before {content: \"▾\";}#sk-container-id-2 div.sk-estimator input.sk-toggleable__control:checked~label.sk-toggleable__label {background-color: #d4ebff;}#sk-container-id-2 div.sk-label input.sk-toggleable__control:checked~label.sk-toggleable__label {background-color: #d4ebff;}#sk-container-id-2 input.sk-hidden--visually {border: 0;clip: rect(1px 1px 1px 1px);clip: rect(1px, 1px, 1px, 1px);height: 1px;margin: -1px;overflow: hidden;padding: 0;position: absolute;width: 1px;}#sk-container-id-2 div.sk-estimator {font-family: monospace;background-color: #f0f8ff;border: 1px dotted black;border-radius: 0.25em;box-sizing: border-box;margin-bottom: 0.5em;}#sk-container-id-2 div.sk-estimator:hover {background-color: #d4ebff;}#sk-container-id-2 div.sk-parallel-item::after {content: \"\";width: 100%;border-bottom: 1px solid gray;flex-grow: 1;}#sk-container-id-2 div.sk-label:hover label.sk-toggleable__label {background-color: #d4ebff;}#sk-container-id-2 div.sk-serial::before {content: \"\";position: absolute;border-left: 1px solid gray;box-sizing: border-box;top: 0;bottom: 0;left: 50%;z-index: 0;}#sk-container-id-2 div.sk-serial {display: flex;flex-direction: column;align-items: center;background-color: white;padding-right: 0.2em;padding-left: 0.2em;position: relative;}#sk-container-id-2 div.sk-item {position: relative;z-index: 1;}#sk-container-id-2 div.sk-parallel {display: flex;align-items: stretch;justify-content: center;background-color: white;position: relative;}#sk-container-id-2 div.sk-item::before, #sk-container-id-2 div.sk-parallel-item::before {content: \"\";position: absolute;border-left: 1px solid gray;box-sizing: border-box;top: 0;bottom: 0;left: 50%;z-index: -1;}#sk-container-id-2 div.sk-parallel-item {display: flex;flex-direction: column;z-index: 1;position: relative;background-color: white;}#sk-container-id-2 div.sk-parallel-item:first-child::after {align-self: flex-end;width: 50%;}#sk-container-id-2 div.sk-parallel-item:last-child::after {align-self: flex-start;width: 50%;}#sk-container-id-2 div.sk-parallel-item:only-child::after {width: 0;}#sk-container-id-2 div.sk-dashed-wrapped {border: 1px dashed gray;margin: 0 0.4em 0.5em 0.4em;box-sizing: border-box;padding-bottom: 0.4em;background-color: white;}#sk-container-id-2 div.sk-label label {font-family: monospace;font-weight: bold;display: inline-block;line-height: 1.2em;}#sk-container-id-2 div.sk-label-container {text-align: center;}#sk-container-id-2 div.sk-container {/* jupyter's `normalize.less` sets `[hidden] { display: none; }` but bootstrap.min.css set `[hidden] { display: none !important; }` so we also need the `!important` here to be able to override the default hidden behavior on the sphinx rendered scikit-learn.org. See: https://github.com/scikit-learn/scikit-learn/issues/21755 */display: inline-block !important;position: relative;}#sk-container-id-2 div.sk-text-repr-fallback {display: none;}</style><div id=\"sk-container-id-2\" class=\"sk-top-container\"><div class=\"sk-text-repr-fallback\"><pre>LinearRegression()</pre><b>In a Jupyter environment, please rerun this cell to show the HTML representation or trust the notebook. <br />On GitHub, the HTML representation is unable to render, please try loading this page with nbviewer.org.</b></div><div class=\"sk-container\" hidden><div class=\"sk-item\"><div class=\"sk-estimator sk-toggleable\"><input class=\"sk-toggleable__control sk-hidden--visually\" id=\"sk-estimator-id-2\" type=\"checkbox\" checked><label for=\"sk-estimator-id-2\" class=\"sk-toggleable__label sk-toggleable__label-arrow\">LinearRegression</label><div class=\"sk-toggleable__content\"><pre>LinearRegression()</pre></div></div></div></div></div>"
      ],
      "text/plain": [
       "LinearRegression()"
      ]
     },
     "execution_count": 19,
     "metadata": {},
     "output_type": "execute_result"
    }
   ],
   "source": [
    "from sklearn.linear_model import LinearRegression\n",
    "lin_reg = LinearRegression()\n",
    "lin_reg.fit(df['x'].values.reshape(-1, 1), df['y'].values)"
   ]
  },
  {
   "cell_type": "code",
   "execution_count": 20,
   "id": "967b88c4-cc1b-43ac-bcf0-50b4f31f8e39",
   "metadata": {
    "tags": []
   },
   "outputs": [
    {
     "data": {
      "image/png": "[encoded data removed]",
      "text/plain": [
       "<Figure size 640x480 with 1 Axes>"
      ]
     },
     "metadata": {},
     "output_type": "display_data"
    }
   ],
   "source": [
    "import matplotlib.pyplot as plt\n",
    "x_min_max = np.array([[df[\"x\"].min()], [df[\"x\"].max()]])\n",
    "y_train_pred = lin_reg.predict(x_min_max)\n",
    "plt.plot(x_min_max, y_train_pred, \"g-\")\n",
    "plt.plot(df['x'], df['y'], \"b.\")\n",
    "plt.xlabel(\"Altura (m)\")\n",
    "plt.ylabel(\"Volumen (L)\")\n",
    "plt.show()"
   ]
  },
  {
   "cell_type": "code",
   "execution_count": 29,
   "id": "b66b5b34-4279-491f-afbb-7b3682524085",
   "metadata": {
    "tags": []
   },
   "outputs": [
    {
     "name": "stdout",
     "output_type": "stream",
     "text": [
      "El valor del volumen para 2,5m es de 7854L\n"
     ]
    }
   ],
   "source": [
    "x_new = np.array([[2.5]])\n",
    "y_new = lin_reg.predict(x_new) \n",
    "print(f\"El valor del volumen para 2,5m es de {y_new[0]:.0f}L\")"
   ]
  },
  {
   "cell_type": "markdown",
   "id": "29f1d809-841d-40e6-a71b-0cd108c84748",
   "metadata": {},
   "source": [
    "from sklearn import metrics  \n",
    "rmse = np.sqrt(metrics.mean_squared_error(y,pred))  \n",
    "print(\"RMSE Value: \",rmse)  \n",
    "print(\"MSE Value: \", metrics.mean_squared_error(y,pred))  \n",
    "print(\"Accuracy Value: \", 1 - metrics.mean_absolute_error(y,pred)/np.mean(y))  \n",
    "\n",
    "\n",
    "**RMSE** (Root Mean Squared Error): Es la raíz cuadrada del promedio de los cuadrados de las diferencias entre los valores reales y predichos. Mide la desviación estándar de los errores de predicción. Un valor bajo de RMSE indica que el modelo se ajusta bien a los datos. \n",
    "\n",
    "**MSE** (Mean Squared Error): Es el promedio de los cuadrados de las diferencias entre los valores reales y predichos. Es una medida del error cuadrático medio del modelo. Un valor bajo de MSE indica que el modelo tiene un bajo error cuadrático medio.\n",
    "\n",
    "\n",
    "**Accuracy** (Precisión): Es la proporción de las predicciones correctas sobre el total de las predicciones. Mide la capacidad del modelo para predecir correctamente los valores reales. Un valor alto de precisión indica que el modelo tiene un alto porcentaje de acierto\n",
    "\n"
   ]
  },
  {
   "cell_type": "code",
   "execution_count": 35,
   "id": "785d9e43-63e5-411b-a2ce-aa5139c7a21b",
   "metadata": {
    "tags": []
   },
   "outputs": [
    {
     "name": "stdout",
     "output_type": "stream",
     "text": [
      "RMSE Value:  9.223959802277204e-12\n",
      "MSE Value:  8.508143443402571e-23\n",
      "Accuracy Value:  0.9999999999999999\n"
     ]
    }
   ],
   "source": [
    "from sklearn import metrics\n",
    "import numpy as np\n",
    "\n",
    "pred = lin_reg.predict(df['x'].values.reshape(-1, 1))\n",
    "rmse = np.sqrt(metrics.mean_squared_error(y, pred))\n",
    "print(\"RMSE Value: \", rmse)\n",
    "print(\"MSE Value: \", metrics.mean_squared_error(y, pred))\n",
    "print(\"Accuracy Value: \", 1 - metrics.mean_absolute_error(y, pred)/np.mean(y))"
   ]
  },
  {
   "cell_type": "code",
   "execution_count": null,
   "id": "331e44b9-a5e8-477e-8354-14cf3f7cf255",
   "metadata": {},
   "outputs": [],
   "source": []
  }
 ],
 "metadata": {
  "kernelspec": {
   "display_name": "Python 3 (ipykernel)",
   "language": "python",
   "name": "python3"
  },
  "language_info": {
   "codemirror_mode": {
    "name": "ipython",
    "version": 3
   },
   "file_extension": ".py",
   "mimetype": "text/x-python",
   "name": "python",
   "nbconvert_exporter": "python",
   "pygments_lexer": "ipython3",
   "version": "3.11.5"
  }
 },
 "nbformat": 4,
 "nbformat_minor": 5
}
