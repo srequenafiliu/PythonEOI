{
 "cells": [
  {
   "cell_type": "markdown",
   "id": "fd55504f-d714-49db-987a-b368b74b54f9",
   "metadata": {},
   "source": [
    "## Haced un programa en Pytorch que sea capaz de decirme el resultado de las compuertas lógicas más importantes: AND, OR y XOR"
   ]
  },
  {
   "cell_type": "code",
   "execution_count": 1,
   "id": "db2ee604-57fd-4558-a24e-f309b247cf89",
   "metadata": {
    "tags": []
   },
   "outputs": [],
   "source": [
    "from typing import Union\n",
    "import torch\n",
    "import torch.nn as nn"
   ]
  },
  {
   "cell_type": "code",
   "execution_count": 2,
   "id": "7eecd35e-f8d7-48dc-a307-cd1a0032dcb8",
   "metadata": {
    "tags": []
   },
   "outputs": [],
   "source": [
    "col_A = torch.tensor([0, 0, 1, 1], dtype=torch.int8)\n",
    "col_B = torch.tensor([0, 1, 0, 1], dtype=torch.int8)"
   ]
  },
  {
   "cell_type": "code",
   "execution_count": 3,
   "id": "1b83a79c-831b-4da6-a537-d20cecc6249e",
   "metadata": {
    "tags": []
   },
   "outputs": [],
   "source": [
    "class LogisticRegression(nn.Module):\n",
    "    def __init__(self, input_shape: int, hidden_units: int, output_shape: int): \n",
    "        super().__init__()\n",
    "        self.lin1 = nn.Linear(input_shape, hidden_units)\n",
    "        self.lin2 = nn.Linear(hidden_units, output_shape)\n",
    "    \n",
    "    def forward(self, x: torch.Tensor) -> torch.Tensor:\n",
    "        output = torch.sigmoid(self.lin1(x))\n",
    "        output = torch.sigmoid(self.lin2(output))\n",
    "        return output"
   ]
  },
  {
   "cell_type": "code",
   "execution_count": 4,
   "id": "3cfe7c58-ac1f-412a-b8f8-145b777e61f2",
   "metadata": {
    "tags": []
   },
   "outputs": [],
   "source": [
    "def train(model: Union[nn.Module, nn.Sequential], loss_fn: Union[nn.MSELoss, nn.BCELoss],\n",
    "          optimizer: Union[torch.optim.SGD, torch.optim.Adam],\n",
    "          X: torch.Tensor, y: torch.Tensor, epochs: int) -> None:\n",
    "    epochs_size = len(str(epochs))\n",
    "    \n",
    "    for epoch in range(epochs):\n",
    "        y_pred = model(X)\n",
    "        loss = loss_fn(y_pred, y)\n",
    "        loss.backward()\n",
    "        optimizer.step()\n",
    "        optimizer.zero_grad()\n",
    "        \n",
    "        if (epoch+1) % 2000 == 0:\n",
    "            print(f\"Epoch: {epoch} | Loss: {loss:.3f}\")"
   ]
  },
  {
   "cell_type": "code",
   "execution_count": 5,
   "id": "120c49cc-a190-48d9-9981-052cecb3e28d",
   "metadata": {
    "tags": []
   },
   "outputs": [],
   "source": [
    "epochs = 40000\n",
    "input_shape = 2\n",
    "hidden_units = 3\n",
    "output_shape = 1\n",
    "learning_rate = 0.01"
   ]
  },
  {
   "cell_type": "code",
   "execution_count": 6,
   "id": "47e23c71-a702-41fd-af3f-315b1ad988cc",
   "metadata": {
    "tags": []
   },
   "outputs": [
    {
     "name": "stdout",
     "output_type": "stream",
     "text": [
      "Epoch: 1999 | Loss: 0.181\n",
      "Epoch: 3999 | Loss: 0.175\n",
      "Epoch: 5999 | Loss: 0.167\n",
      "Epoch: 7999 | Loss: 0.156\n",
      "Epoch: 9999 | Loss: 0.142\n",
      "Epoch: 11999 | Loss: 0.127\n",
      "Epoch: 13999 | Loss: 0.111\n",
      "Epoch: 15999 | Loss: 0.094\n",
      "Epoch: 17999 | Loss: 0.078\n",
      "Epoch: 19999 | Loss: 0.064\n",
      "Epoch: 21999 | Loss: 0.053\n",
      "Epoch: 23999 | Loss: 0.043\n",
      "Epoch: 25999 | Loss: 0.035\n",
      "Epoch: 27999 | Loss: 0.029\n",
      "Epoch: 29999 | Loss: 0.024\n",
      "Epoch: 31999 | Loss: 0.021\n",
      "Epoch: 33999 | Loss: 0.018\n",
      "Epoch: 35999 | Loss: 0.015\n",
      "Epoch: 37999 | Loss: 0.013\n",
      "Epoch: 39999 | Loss: 0.012\n",
      "Resultado obtenido: tensor([0., 0., 0., 1.], grad_fn=<SqueezeBackward0>)\n",
      "Resultado esperado: tensor([0., 0., 0., 1.])\n"
     ]
    }
   ],
   "source": [
    "# Para la compuerta lógica AND\n",
    "model_logical_and = LogisticRegression(input_shape, hidden_units, output_shape)\n",
    "loss_fn = nn.MSELoss()\n",
    "optimizer = torch.optim.SGD(model_logical_and.parameters(), lr=learning_rate)\n",
    "\n",
    "X = torch.tensor([[0, 0], [0, 1], [1, 0], [1, 1]], dtype=torch.float32)\n",
    "y = torch.tensor([[0], [0], [0], [1]], dtype=torch.float32)\n",
    "\n",
    "train(model_logical_and, loss_fn, optimizer, X, y, epochs)\n",
    "\n",
    "print(f'Resultado obtenido: {model_logical_and(X).round().squeeze()}')\n",
    "print(f'Resultado esperado: {torch.logical_and(col_A, col_B, out=torch.empty(4, dtype=torch.float32))}')"
   ]
  },
  {
   "cell_type": "code",
   "execution_count": 7,
   "id": "7b59cdaf-a6ad-4d65-8aa9-074875136437",
   "metadata": {
    "tags": []
   },
   "outputs": [
    {
     "name": "stdout",
     "output_type": "stream",
     "text": [
      "Epoch: 1999 | Loss: 0.190\n",
      "Epoch: 3999 | Loss: 0.185\n",
      "Epoch: 5999 | Loss: 0.179\n",
      "Epoch: 7999 | Loss: 0.170\n",
      "Epoch: 9999 | Loss: 0.157\n",
      "Epoch: 11999 | Loss: 0.139\n",
      "Epoch: 13999 | Loss: 0.116\n",
      "Epoch: 15999 | Loss: 0.093\n",
      "Epoch: 17999 | Loss: 0.072\n",
      "Epoch: 19999 | Loss: 0.055\n",
      "Epoch: 21999 | Loss: 0.043\n",
      "Epoch: 23999 | Loss: 0.034\n",
      "Epoch: 25999 | Loss: 0.027\n",
      "Epoch: 27999 | Loss: 0.023\n",
      "Epoch: 29999 | Loss: 0.019\n",
      "Epoch: 31999 | Loss: 0.016\n",
      "Epoch: 33999 | Loss: 0.014\n",
      "Epoch: 35999 | Loss: 0.013\n",
      "Epoch: 37999 | Loss: 0.011\n",
      "Epoch: 39999 | Loss: 0.010\n",
      "Resultado obtenido: tensor([0., 1., 1., 1.], grad_fn=<SqueezeBackward0>)\n",
      "Resultado esperado: tensor([0., 1., 1., 1.])\n"
     ]
    }
   ],
   "source": [
    "# Para la compuerta lógica OR\n",
    "model_logical_or = LogisticRegression(input_shape, hidden_units, output_shape)\n",
    "loss_fn = nn.MSELoss()\n",
    "optimizer = torch.optim.SGD(model_logical_or.parameters(), lr=learning_rate)\n",
    "\n",
    "X = torch.tensor([[0, 0], [0, 1], [1, 0], [1, 1]], dtype=torch.float32)\n",
    "y = torch.tensor([[0], [1], [1], [1]], dtype=torch.float32)\n",
    "\n",
    "train(model_logical_or, loss_fn, optimizer, X, y, epochs)\n",
    "\n",
    "print(f'Resultado obtenido: {model_logical_or(X).round().squeeze()}')\n",
    "print(f'Resultado esperado: {torch.logical_or(col_A, col_B, out=torch.empty(4, dtype=torch.float32))}')"
   ]
  },
  {
   "cell_type": "code",
   "execution_count": 8,
   "id": "ec8fb134-d3d2-41f8-bfd6-ecb091e1edcf",
   "metadata": {
    "tags": []
   },
   "outputs": [],
   "source": [
    "# Para la compuerta lógica XOR\n",
    "model_logical_xor = LogisticRegression(input_shape, hidden_units, output_shape)\n",
    "loss_fn = nn.MSELoss()\n",
    "optimizer = torch.optim.SGD(model_logical_xor.parameters(), lr=learning_rate)\n",
    "\n",
    "X = torch.tensor([[0, 0], [0, 1], [1, 0], [1, 1]], dtype=torch.float32)\n",
    "y = torch.tensor([[0], [1], [1], [0]], dtype=torch.float32)"
   ]
  },
  {
   "cell_type": "code",
   "execution_count": 12,
   "id": "1db926be-827f-40a5-9417-6e4cfd4bb88f",
   "metadata": {
    "tags": []
   },
   "outputs": [
    {
     "name": "stdout",
     "output_type": "stream",
     "text": [
      "Epoch: 1999 | Loss: 0.051\n",
      "Epoch: 3999 | Loss: 0.044\n",
      "Epoch: 5999 | Loss: 0.037\n",
      "Epoch: 7999 | Loss: 0.032\n",
      "Epoch: 9999 | Loss: 0.028\n",
      "Epoch: 11999 | Loss: 0.025\n",
      "Epoch: 13999 | Loss: 0.022\n",
      "Epoch: 15999 | Loss: 0.020\n",
      "Epoch: 17999 | Loss: 0.018\n",
      "Epoch: 19999 | Loss: 0.016\n",
      "Epoch: 21999 | Loss: 0.015\n",
      "Epoch: 23999 | Loss: 0.014\n",
      "Epoch: 25999 | Loss: 0.013\n",
      "Epoch: 27999 | Loss: 0.012\n",
      "Epoch: 29999 | Loss: 0.011\n",
      "Epoch: 31999 | Loss: 0.010\n",
      "Epoch: 33999 | Loss: 0.010\n",
      "Epoch: 35999 | Loss: 0.009\n",
      "Epoch: 37999 | Loss: 0.009\n",
      "Epoch: 39999 | Loss: 0.008\n"
     ]
    }
   ],
   "source": [
    "train(model_logical_xor, loss_fn, optimizer, X, y, epochs)"
   ]
  },
  {
   "cell_type": "code",
   "execution_count": 13,
   "id": "e5bdcd9b-9029-4fb9-a7e4-4917a77038ae",
   "metadata": {
    "tags": []
   },
   "outputs": [
    {
     "name": "stdout",
     "output_type": "stream",
     "text": [
      "Resultado obtenido: tensor([0., 1., 1., 0.], grad_fn=<SqueezeBackward0>)\n",
      "Resultado esperado: tensor([0., 1., 1., 0.])\n"
     ]
    }
   ],
   "source": [
    "print(f'Resultado obtenido: {model_logical_xor(X).round().squeeze()}')\n",
    "print(f'Resultado esperado: {torch.logical_xor(col_A, col_B, out=torch.empty(4, dtype=torch.float32))}')"
   ]
  },
  {
   "cell_type": "code",
   "execution_count": null,
   "id": "b9da6f4c-833d-4a95-9dbf-9fd8d145de67",
   "metadata": {},
   "outputs": [],
   "source": []
  }
 ],
 "metadata": {
  "kernelspec": {
   "display_name": "Python 3 (ipykernel)",
   "language": "python",
   "name": "python3"
  },
  "language_info": {
   "codemirror_mode": {
    "name": "ipython",
    "version": 3
   },
   "file_extension": ".py",
   "mimetype": "text/x-python",
   "name": "python",
   "nbconvert_exporter": "python",
   "pygments_lexer": "ipython3",
   "version": "3.11.5"
  }
 },
 "nbformat": 4,
 "nbformat_minor": 5
}
