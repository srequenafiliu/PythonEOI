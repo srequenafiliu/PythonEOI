{
 "cells": [
  {
   "cell_type": "markdown",
   "id": "0db20d9e-e64d-485a-af6f-dca161c4331e",
   "metadata": {},
   "source": [
    "## Creación del conjunto de datos."
   ]
  },
  {
   "cell_type": "code",
   "execution_count": 1,
   "id": "6d58b7d8-486e-4618-91dd-21a329e13cc1",
   "metadata": {
    "tags": []
   },
   "outputs": [],
   "source": [
    "## El conjunto de entrenamiento debe de cumplir: \n",
    "# and,0,0,0\n",
    "# and,0,1,0\n",
    "# and,1,0,0\n",
    "# and,1,1,1\n",
    "# or,0,0,0\n",
    "# or,0,1,1\n",
    "# or,1,0,1\n",
    "# or,1,1,1\n",
    "# xor,0,0,0\n",
    "# xor,0,1,1\n",
    "# xor,1,0,1\n",
    "# xor,1,1,0"
   ]
  },
  {
   "cell_type": "code",
   "execution_count": 2,
   "id": "83518d1d-8f2a-416d-9f21-81d79821cfde",
   "metadata": {
    "tags": []
   },
   "outputs": [],
   "source": [
    "import torch\n",
    "from torch import nn \n",
    "import matplotlib.pyplot as plt\n",
    "import numpy as np\n",
    "import random"
   ]
  },
  {
   "cell_type": "code",
   "execution_count": 3,
   "id": "98b7aee1-7e4a-4de2-b96c-aab35ddc8c7a",
   "metadata": {
    "tags": []
   },
   "outputs": [],
   "source": [
    "def code_and(a,b):\n",
    "    return a and b\n",
    "\n",
    "def code_or(a,b):\n",
    "    return a or b\n",
    "\n",
    "def code_xor(a,b):\n",
    "    return a ^ b\n"
   ]
  },
  {
   "cell_type": "code",
   "execution_count": 4,
   "id": "e1d71390-1330-47ec-98be-308f223617a9",
   "metadata": {
    "tags": []
   },
   "outputs": [],
   "source": [
    "def generate_data(gate, code, samples):\n",
    "    data = []\n",
    "    labels = []\n",
    "    for _ in range(samples):        \n",
    "        x1 = np.random.randint(0, 2)\n",
    "        x2 = np.random.randint(0, 2)        \n",
    "        y = code(x1, x2)        \n",
    "        x = np.array([gate, x1, x2])        \n",
    "        data.append(x)\n",
    "        labels.append(y)        \n",
    "    \n",
    "    data = np.array(data)\n",
    "    labels = np.array(labels)\n",
    "    \n",
    "    # Cambiar la forma del array de etiquetas para que tenga dos dimensiones\n",
    "    labels = np.reshape(labels, (-1, 1))\n",
    "    \n",
    "    return data, labels"
   ]
  },
  {
   "cell_type": "code",
   "execution_count": 5,
   "id": "231b7f6a-cc1f-431d-9098-cf387d535110",
   "metadata": {
    "tags": []
   },
   "outputs": [],
   "source": [
    "def create_data(gate_name, code_function, samples, data, labels):    \n",
    "    _data, _labels = generate_data(gate_name, code_function, samples)    \n",
    "    data = np.concatenate((data, _data))\n",
    "    labels = np.concatenate((labels, _labels))\n",
    "    \n",
    "    return data, labels"
   ]
  },
  {
   "cell_type": "code",
   "execution_count": 6,
   "id": "01dc9e54-b23d-46e4-8aa6-588ce2a30a18",
   "metadata": {
    "tags": []
   },
   "outputs": [],
   "source": [
    "import numpy as np\n",
    "samples = 5000\n",
    "# Crear los arrays vacíos con la misma forma que los arrays que se van a generar\n",
    "data = np.empty((0, 3))\n",
    "labels = np.empty((0, 1))\n",
    "\n",
    "# Crear los datos y las etiquetas para la compuerta AND\n",
    "data, labels = create_data(1, code_and, samples, data, labels)\n",
    "# Crear los datos y las etiquetas para la compuerta OR\n",
    "data, labels = create_data(2, code_or, samples, data, labels)\n",
    "# Crear los datos y las etiquetas para la compuerta XOR\n",
    "data, labels = create_data(3, code_xor, samples, data, labels)"
   ]
  },
  {
   "cell_type": "code",
   "execution_count": 7,
   "id": "ef468e3a-2a2e-4fa4-baea-2b23a671e6d5",
   "metadata": {
    "tags": []
   },
   "outputs": [],
   "source": [
    "X = torch.Tensor(data)\n",
    "y = torch.Tensor(labels)\n",
    "y = y.squeeze(1)\n"
   ]
  },
  {
   "cell_type": "code",
   "execution_count": 8,
   "id": "dc9d27e9-b0a6-46df-9565-a6e619c47ead",
   "metadata": {
    "tags": []
   },
   "outputs": [
    {
     "data": {
      "text/plain": [
       "tensor([1., 0., 0.])"
      ]
     },
     "execution_count": 8,
     "metadata": {},
     "output_type": "execute_result"
    }
   ],
   "source": [
    "X[0]"
   ]
  },
  {
   "cell_type": "code",
   "execution_count": 9,
   "id": "ef87fb08-cc86-4a67-8ff0-4f72628075ad",
   "metadata": {
    "tags": []
   },
   "outputs": [
    {
     "data": {
      "text/plain": [
       "tensor(0.)"
      ]
     },
     "execution_count": 9,
     "metadata": {},
     "output_type": "execute_result"
    }
   ],
   "source": [
    "y[0]"
   ]
  },
  {
   "cell_type": "markdown",
   "id": "6bfbda11-a46e-4e0d-8406-2f11381585d0",
   "metadata": {},
   "source": [
    "## Creación del conjunto de entrenamiento"
   ]
  },
  {
   "cell_type": "code",
   "execution_count": 10,
   "id": "ceef58f4-36d2-45a6-9776-c79297ba47cf",
   "metadata": {
    "tags": []
   },
   "outputs": [
    {
     "data": {
      "text/plain": [
       "(12000, 12000, 3000, 3000)"
      ]
     },
     "execution_count": 10,
     "metadata": {},
     "output_type": "execute_result"
    }
   ],
   "source": [
    "# Create train/test split\n",
    "train_split = int(0.8 * len(data)) # 80% of data used for training set, 20% for testing \n",
    "X_train, y_train = X[:train_split], y[:train_split]\n",
    "X_test, y_test = X[train_split:], y[train_split:]\n",
    "\n",
    "len(X_train), len(y_train), len(X_test), len(y_test)"
   ]
  },
  {
   "cell_type": "markdown",
   "id": "163d914d-2e1b-4969-9081-112a2cf6171a",
   "metadata": {},
   "source": [
    "## Creación del modelo"
   ]
  },
  {
   "cell_type": "code",
   "execution_count": 11,
   "id": "2ba62a3c-cb27-47ad-845b-f9feddd8b18b",
   "metadata": {
    "tags": []
   },
   "outputs": [
    {
     "data": {
      "text/plain": [
       "'cuda'"
      ]
     },
     "execution_count": 11,
     "metadata": {},
     "output_type": "execute_result"
    }
   ],
   "source": [
    "# Standard PyTorch imports\n",
    "import torch\n",
    "from torch import nn\n",
    "\n",
    "# Make device agnostic code\n",
    "device = \"cuda\" if torch.cuda.is_available() else \"cpu\"\n",
    "device\n"
   ]
  },
  {
   "cell_type": "code",
   "execution_count": 12,
   "id": "319a6b84-a6bf-4ade-bdcd-94414d29f153",
   "metadata": {
    "tags": []
   },
   "outputs": [],
   "source": [
    "# Create a model with non-linear and linear layers\n",
    "class GatesModels(nn.Module):\n",
    "    def __init__(self, input_shape: int, hidden_units: int, output_shape: int):\n",
    "        super().__init__()\n",
    "        self.layer_stack = nn.Sequential(        \n",
    "            nn.Linear(in_features=input_shape, out_features=hidden_units),\n",
    "            #nn.ReLU(),\n",
    "            nn.Linear(in_features=hidden_units, out_features=output_shape),\n",
    "            #nn.ReLU()\n",
    "        )\n",
    "    \n",
    "    def forward(self, x: torch.Tensor):\n",
    "        return self.layer_stack(x)"
   ]
  },
  {
   "cell_type": "code",
   "execution_count": 13,
   "id": "7aa17a20-6031-490a-aee4-6bd175ee25c8",
   "metadata": {
    "tags": []
   },
   "outputs": [
    {
     "data": {
      "text/plain": [
       "GatesModels(\n",
       "  (layer_stack): Sequential(\n",
       "    (0): Linear(in_features=3, out_features=8, bias=True)\n",
       "    (1): Linear(in_features=8, out_features=1, bias=True)\n",
       "  )\n",
       ")"
      ]
     },
     "execution_count": 13,
     "metadata": {},
     "output_type": "execute_result"
    }
   ],
   "source": [
    "\n",
    "model= GatesModels(3,8,1).to(device)\n",
    "model"
   ]
  },
  {
   "cell_type": "code",
   "execution_count": 14,
   "id": "299b9386-3ad3-4d2a-b9ea-99928e52a7a0",
   "metadata": {
    "tags": []
   },
   "outputs": [],
   "source": [
    "# Create a loss function\n",
    "# loss_fn = nn.BCELoss() # BCELoss = no sigmoid built-in\n",
    "loss_fn = nn.BCEWithLogitsLoss() # BCEWithLogitsLoss = sigmoid built-in\n",
    "\n",
    "# Create an optimizer\n",
    "optimizer = torch.optim.SGD(params=model.parameters(), \n",
    "                            lr=0.5)"
   ]
  },
  {
   "cell_type": "code",
   "execution_count": 15,
   "id": "a5e36df1-fb7b-43e3-b902-eea60b01d5d3",
   "metadata": {
    "tags": []
   },
   "outputs": [],
   "source": [
    "# Calculate accuracy (a classification metric)\n",
    "def accuracy_fn(y_true, y_pred):\n",
    "    correct = torch.eq(y_true, y_pred).sum().item() # torch.eq() calculates where two tensors are equal\n",
    "    acc = (correct / len(y_pred)) * 100 \n",
    "    return acc"
   ]
  },
  {
   "cell_type": "code",
   "execution_count": 16,
   "id": "0a835238-6c21-4c8b-9f7d-6f9794cb57c6",
   "metadata": {
    "tags": []
   },
   "outputs": [],
   "source": [
    "untrained_preds = model(X_test.to(device))"
   ]
  },
  {
   "cell_type": "markdown",
   "id": "aeb80ff9-d0a8-4687-9982-63ee14ed005c",
   "metadata": {},
   "source": [
    "## Entrenamiento"
   ]
  },
  {
   "cell_type": "code",
   "execution_count": 17,
   "id": "6cc828a8-4423-4371-bec2-cc10b800c336",
   "metadata": {
    "tags": []
   },
   "outputs": [
    {
     "name": "stdout",
     "output_type": "stream",
     "text": [
      "Epoch: 0 | Loss: 0.67865, Accuracy: 49.86% | Test loss: 0.70886, Test acc: 24.57%\n",
      "Epoch: 10 | Loss: 0.59774, Accuracy: 71.13% | Test loss: 0.74003, Test acc: 48.50%\n",
      "Epoch: 20 | Loss: 0.53985, Accuracy: 75.36% | Test loss: 0.79587, Test acc: 73.50%\n",
      "Epoch: 30 | Loss: 0.49417, Accuracy: 85.30% | Test loss: 0.87354, Test acc: 73.50%\n",
      "Epoch: 40 | Loss: 0.46394, Accuracy: 95.72% | Test loss: 0.96259, Test acc: 73.50%\n",
      "Epoch: 50 | Loss: 0.44645, Accuracy: 95.72% | Test loss: 1.04942, Test acc: 73.50%\n",
      "Epoch: 60 | Loss: 0.43711, Accuracy: 95.72% | Test loss: 1.12444, Test acc: 73.50%\n",
      "Epoch: 70 | Loss: 0.43231, Accuracy: 95.72% | Test loss: 1.18445, Test acc: 73.50%\n",
      "Epoch: 80 | Loss: 0.42989, Accuracy: 95.72% | Test loss: 1.23028, Test acc: 73.50%\n",
      "Epoch: 90 | Loss: 0.42867, Accuracy: 95.72% | Test loss: 1.26437, Test acc: 73.50%\n"
     ]
    }
   ],
   "source": [
    "torch.manual_seed(42)\n",
    "\n",
    "# Set the number of epochs\n",
    "epochs = 100\n",
    "\n",
    "# Put data to target device\n",
    "X_train, y_train = X_train.to(device), y_train.to(device)\n",
    "X_test, y_test = X_test.to(device), y_test.to(device)\n",
    "\n",
    "\n",
    "# Build training and evaluation loop\n",
    "for epoch in range(epochs):\n",
    "    ### Training\n",
    "    model.train()\n",
    "\n",
    "    # 1. Forward pass (model outputs raw logits)\n",
    "    y_logits = model(X_train).squeeze() # squeeze to remove extra `1` dimensions, this won't work unless model and data are on same device \n",
    "    y_pred = torch.round(torch.sigmoid(y_logits)) # turn logits -> pred probs -> pred labls\n",
    "  \n",
    "    # 2. Calculate loss/accuracy\n",
    "    # loss = loss_fn(torch.sigmoid(y_logits), # Using nn.BCELoss you need torch.sigmoid()\n",
    "    #                y_train) \n",
    "    loss = loss_fn(y_logits, # Using nn.BCEWithLogitsLoss works with raw logits\n",
    "                   y_train) \n",
    "    acc = accuracy_fn(y_true=y_train, \n",
    "                      y_pred=y_pred) \n",
    "\n",
    "    # 3. Optimizer zero grad\n",
    "    optimizer.zero_grad()\n",
    "\n",
    "    # 4. Loss backwards\n",
    "    loss.backward()\n",
    "\n",
    "    # 5. Optimizer step\n",
    "    optimizer.step()\n",
    "\n",
    "    ### Testing\n",
    "    model.eval()\n",
    "    with torch.inference_mode():\n",
    "        # 1. Forward pass\n",
    "        test_logits = model(X_test).squeeze() \n",
    "        test_pred = torch.round(torch.sigmoid(test_logits))\n",
    "        # 2. Caculate loss/accuracy\n",
    "        test_loss = loss_fn(test_logits,\n",
    "                            y_test)\n",
    "        test_acc = accuracy_fn(y_true=y_test,\n",
    "                               y_pred=test_pred)\n",
    "\n",
    "    # Print out what's happening every 10 epochs\n",
    "    if epoch % 10 == 0:\n",
    "        print(f\"Epoch: {epoch} | Loss: {loss:.5f}, Accuracy: {acc:.2f}% | Test loss: {test_loss:.5f}, Test acc: {test_acc:.2f}%\")"
   ]
  },
  {
   "cell_type": "code",
   "execution_count": 18,
   "id": "4dbbf582-39a0-43e7-82d9-3836f128aeee",
   "metadata": {
    "tags": []
   },
   "outputs": [],
   "source": [
    "tensor_data = torch.tensor([3.0,0.0,0.0]).to(device)"
   ]
  },
  {
   "cell_type": "code",
   "execution_count": 19,
   "id": "e67c49c5-c3cd-4b64-a88d-c5e3ad4095e0",
   "metadata": {
    "tags": []
   },
   "outputs": [],
   "source": [
    "test_logits = model(tensor_data).squeeze() \n",
    "test_pred = torch.round(torch.sigmoid(test_logits))"
   ]
  },
  {
   "cell_type": "code",
   "execution_count": 20,
   "id": "dd39e770-583f-4bdb-b74b-3e6ba28ba369",
   "metadata": {
    "tags": []
   },
   "outputs": [
    {
     "data": {
      "text/plain": [
       "tensor(0., device='cuda:0', grad_fn=<RoundBackward0>)"
      ]
     },
     "execution_count": 20,
     "metadata": {},
     "output_type": "execute_result"
    }
   ],
   "source": [
    "test_pred"
   ]
  },
  {
   "cell_type": "code",
   "execution_count": null,
   "id": "abe13384-36a0-4ebc-b564-cfba1bb0a4df",
   "metadata": {},
   "outputs": [],
   "source": []
  }
 ],
 "metadata": {
  "kernelspec": {
   "display_name": "Python 3 (ipykernel)",
   "language": "python",
   "name": "python3"
  },
  "language_info": {
   "codemirror_mode": {
    "name": "ipython",
    "version": 3
   },
   "file_extension": ".py",
   "mimetype": "text/x-python",
   "name": "python",
   "nbconvert_exporter": "python",
   "pygments_lexer": "ipython3",
   "version": "3.11.5"
  }
 },
 "nbformat": 4,
 "nbformat_minor": 5
}
