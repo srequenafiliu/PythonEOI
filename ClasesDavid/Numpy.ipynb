{
 "cells": [
  {
   "cell_type": "code",
   "execution_count": 1,
   "id": "8d421df2-80cd-4838-8877-ab200a62f545",
   "metadata": {
    "tags": []
   },
   "outputs": [],
   "source": [
    "import numpy as np\n",
    "\n",
    "data = np.array([1, 2, 3, 4, 5, 6, 7, 8, 9, 10])\n",
    "\n",
    "# Calculate the variance\n",
    "variance = np.var(data)\n",
    "\n",
    "# Calculate the standard deviation\n",
    "standard_deviation = np.std(data)"
   ]
  },
  {
   "cell_type": "code",
   "execution_count": 2,
   "id": "db6c00f4-b6c6-4805-b320-a4ba6fd621e0",
   "metadata": {
    "tags": []
   },
   "outputs": [
    {
     "data": {
      "text/plain": [
       "2.8722813232690143"
      ]
     },
     "execution_count": 2,
     "metadata": {},
     "output_type": "execute_result"
    }
   ],
   "source": [
    "standard_deviation"
   ]
  },
  {
   "cell_type": "code",
   "execution_count": 4,
   "id": "13200d0e-d17d-4c01-9a57-946305a14f75",
   "metadata": {
    "tags": []
   },
   "outputs": [],
   "source": [
    "import seaborn as sb"
   ]
  },
  {
   "cell_type": "code",
   "execution_count": null,
   "id": "f862f078-a256-4f4f-9086-3479b2fa5e5e",
   "metadata": {},
   "outputs": [],
   "source": []
  }
 ],
 "metadata": {
  "kernelspec": {
   "display_name": "Python 3 (ipykernel)",
   "language": "python",
   "name": "python3"
  },
  "language_info": {
   "codemirror_mode": {
    "name": "ipython",
    "version": 3
   },
   "file_extension": ".py",
   "mimetype": "text/x-python",
   "name": "python",
   "nbconvert_exporter": "python",
   "pygments_lexer": "ipython3",
   "version": "3.11.4"
  }
 },
 "nbformat": 4,
 "nbformat_minor": 5
}
