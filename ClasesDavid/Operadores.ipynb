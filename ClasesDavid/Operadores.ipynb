{
 "cells": [
  {
   "cell_type": "code",
   "execution_count": 1,
   "id": "a14f4e34-8b18-4217-ad09-55cab3b12ef6",
   "metadata": {
    "tags": []
   },
   "outputs": [
    {
     "name": "stdout",
     "output_type": "stream",
     "text": [
      "Suma:  3\n",
      "Resta:  1\n",
      "Multiplicación:  6\n",
      "División:  2.0\n",
      "División:  3.0\n",
      "División:  3.5\n",
      "División sin decimales:  2\n",
      "División sin decimales:  3\n",
      "Resto de la división:  1\n",
      "Exponencial:  9\n"
     ]
    }
   ],
   "source": [
    "print('Suma: ', 1 + 2)\n",
    "print('Resta: ', 2 - 1)\n",
    "print('Multiplicación: ', 2 * 3)\n",
    "print ('División: ', 4 / 2) # Las divisiones siempre dan un tipo float\n",
    "print('División: ', 6 / 2)\n",
    "print('División: ', 7 / 2)\n",
    "print('División sin decimales: ', 4 // 2)\n",
    "print('División sin decimales: ', 7 // 2)\n",
    "print('Resto de la división: ', 7 % 2)\n",
    "print('Exponencial: ', 3 ** 2) # 3^2"
   ]
  },
  {
   "cell_type": "code",
   "execution_count": 2,
   "id": "87c74a24-404d-42d6-86e1-23eda967c8c0",
   "metadata": {},
   "outputs": [
    {
     "name": "stdout",
     "output_type": "stream",
     "text": [
      "Área del círculo: 314.0\n",
      "Área del rectángulo: 200\n"
     ]
    }
   ],
   "source": [
    "# Ejemplos de cálculos\n",
    "radio = 10\n",
    "area_circulo = 3.14 * radio ** 2\n",
    "print('Área del círculo:', area_circulo)\n",
    "\n",
    "altura = 10\n",
    "base = 20\n",
    "area_rectangulo = base * altura\n",
    "print('Área del rectángulo:', area_rectangulo)"
   ]
  },
  {
   "cell_type": "code",
   "execution_count": 1,
   "id": "98b8e3ca",
   "metadata": {},
   "outputs": [
    {
     "name": "stdout",
     "output_type": "stream",
     "text": [
      "El número 1 es menor a 5\n"
     ]
    }
   ],
   "source": [
    "# Operador walrus o morsa: Cumple la función de asignar un valor a una variable y que se evalúe como expresión.\n",
    "import random\n",
    "\n",
    "if (variable := random.randint(1,10)) > 5: # Si se eliminan los dos puntos, da error\n",
    "    print(f\"El resultado de la {variable} es mayor a 5\")\n",
    "else:\n",
    "    print(f\"El número {variable} es menor a 5\")"
   ]
  }
 ],
 "metadata": {
  "kernelspec": {
   "display_name": "Python 3 (ipykernel)",
   "language": "python",
   "name": "python3"
  },
  "language_info": {
   "codemirror_mode": {
    "name": "ipython",
    "version": 3
   },
   "file_extension": ".py",
   "mimetype": "text/x-python",
   "name": "python",
   "nbconvert_exporter": "python",
   "pygments_lexer": "ipython3",
   "version": "3.11.3"
  }
 },
 "nbformat": 4,
 "nbformat_minor": 5
}
