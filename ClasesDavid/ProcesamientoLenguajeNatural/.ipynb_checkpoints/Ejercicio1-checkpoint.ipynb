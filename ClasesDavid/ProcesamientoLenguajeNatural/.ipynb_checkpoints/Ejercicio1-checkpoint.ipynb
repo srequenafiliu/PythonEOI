{
 "cells": [
  {
   "cell_type": "markdown",
   "id": "97d0aecb-6b8a-4b12-8eca-4e08978c5d46",
   "metadata": {},
   "source": [
    "### Dado el fichero texto.txt:\n",
    "1. Tokenizar el texto en palabras.\n",
    "2. Tokenizar el texto en frases\n",
    "3. Lematiza el texto\n",
    "4. Haz el stemming del texto"
   ]
  },
  {
   "cell_type": "code",
   "execution_count": 20,
   "id": "588a13bf-c554-4ec6-b88d-8cfe7ab447c8",
   "metadata": {
    "tags": []
   },
   "outputs": [
    {
     "name": "stdout",
     "output_type": "stream",
     "text": [
      "El perro corrió detrás del gato.\n",
      "El gato se subió a un árbol.\n",
      "El perro ladró al gato.\n",
      "El gato maulló al perro.\n",
      "\n",
      "El hombre comió una manzana.\n",
      "La manzana era roja y dulce.\n",
      "El hombre estaba contento con la manzana.\n",
      "\n",
      "La mujer leyó un libro.\n",
      "El libro era interesante.\n",
      "La mujer aprendió mucho con el libro.\n",
      "\n",
      "El niño jugó con sus amigos.\n",
      "Los niños se divirtieron mucho.\n",
      "Los niños pasaron un buen rato juntos.\n",
      "\n"
     ]
    }
   ],
   "source": [
    "import nltk\n",
    "from nltk import sent_tokenize\n",
    "from nltk import word_tokenize\n",
    "from nltk import WordNetLemmatizer\n",
    "from nltk.stem import PorterStemmer\n",
    "\n",
    "# pip install nltk\n",
    "# nltk.download()\n",
    "\n",
    "text_file = open(\"texto.txt\")\n",
    "text = text_file.read()\n",
    "print(text)"
   ]
  },
  {
   "cell_type": "code",
   "execution_count": 16,
   "id": "5bb3cad1-dd26-44de-b82a-0732cc6fcfd6",
   "metadata": {
    "tags": []
   },
   "outputs": [
    {
     "name": "stdout",
     "output_type": "stream",
     "text": [
      "Número de palabras: 75\n",
      "['El', 'perro', 'corrió', 'detrás', 'del', 'gato', 'El', 'gato', 'se', 'subió', 'a', 'un', 'árbol', 'El', 'perro', 'ladró', 'al', 'gato', 'El', 'gato', 'maulló', 'al', 'perro', 'El', 'hombre', 'comió', 'una', 'manzana', 'La', 'manzana', 'era', 'roja', 'y', 'dulce', 'El', 'hombre', 'estaba', 'contento', 'con', 'la', 'manzana', 'La', 'mujer', 'leyó', 'un', 'libro', 'El', 'libro', 'era', 'interesante', 'La', 'mujer', 'aprendió', 'mucho', 'con', 'el', 'libro', 'El', 'niño', 'jugó', 'con', 'sus', 'amigos', 'Los', 'niños', 'se', 'divirtieron', 'mucho', 'Los', 'niños', 'pasaron', 'un', 'buen', 'rato', 'juntos']\n"
     ]
    }
   ],
   "source": [
    "# Apartado 1\n",
    "words = word_tokenize(text.replace('.', ''))\n",
    "print(f'Número de palabras: {len(words)}')\n",
    "print(words)"
   ]
  },
  {
   "cell_type": "code",
   "execution_count": 17,
   "id": "17535c4a-fdce-48f0-8a70-25f1804b3f2c",
   "metadata": {
    "tags": []
   },
   "outputs": [
    {
     "name": "stdout",
     "output_type": "stream",
     "text": [
      "Número de frases: 13\n",
      "['El perro corrió detrás del gato.', 'El gato se subió a un árbol.', 'El perro ladró al gato.', 'El gato maulló al perro.', 'El hombre comió una manzana.', 'La manzana era roja y dulce.', 'El hombre estaba contento con la manzana.', 'La mujer leyó un libro.', 'El libro era interesante.', 'La mujer aprendió mucho con el libro.', 'El niño jugó con sus amigos.', 'Los niños se divirtieron mucho.', 'Los niños pasaron un buen rato juntos.']\n"
     ]
    }
   ],
   "source": [
    "# Apartado 2\n",
    "sentences = sent_tokenize(text)\n",
    "print(f'Número de frases: {len(sentences)}')\n",
    "print(sentences)"
   ]
  },
  {
   "cell_type": "code",
   "execution_count": 18,
   "id": "66a4de14-7fa0-444a-9f0b-63f34be7db7d",
   "metadata": {
    "tags": []
   },
   "outputs": [
    {
     "name": "stdout",
     "output_type": "stream",
     "text": [
      "El\n",
      "perro\n",
      "corrió\n",
      "detrás\n",
      "del\n",
      "gato\n",
      "El\n",
      "gato\n",
      "se\n",
      "subió\n",
      "a\n",
      "un\n",
      "árbol\n",
      "El\n",
      "perro\n",
      "ladró\n",
      "al\n",
      "gato\n",
      "El\n",
      "gato\n",
      "maulló\n",
      "al\n",
      "perro\n",
      "El\n",
      "hombre\n",
      "comió\n",
      "una\n",
      "manzana\n",
      "La\n",
      "manzana\n",
      "era\n",
      "roja\n",
      "y\n",
      "dulce\n",
      "El\n",
      "hombre\n",
      "estaba\n",
      "contento\n",
      "con\n",
      "la\n",
      "manzana\n",
      "La\n",
      "mujer\n",
      "leyó\n",
      "un\n",
      "libro\n",
      "El\n",
      "libro\n",
      "era\n",
      "interesante\n",
      "La\n",
      "mujer\n",
      "aprendió\n",
      "mucho\n",
      "con\n",
      "el\n",
      "libro\n",
      "El\n",
      "niño\n",
      "jugó\n",
      "con\n",
      "sus\n",
      "amigo\n",
      "Los\n",
      "niños\n",
      "se\n",
      "divirtieron\n",
      "mucho\n",
      "Los\n",
      "niños\n",
      "pasaron\n",
      "un\n",
      "buen\n",
      "rato\n",
      "junto\n"
     ]
    }
   ],
   "source": [
    "# Apartado 3\n",
    "lemma = WordNetLemmatizer()\n",
    "for w in words:\n",
    "    print(lemma.lemmatize(w))"
   ]
  },
  {
   "cell_type": "code",
   "execution_count": 19,
   "id": "e8d39e46-f4eb-45c8-84fb-074abde72dcb",
   "metadata": {
    "tags": []
   },
   "outputs": [
    {
     "name": "stdout",
     "output_type": "stream",
     "text": [
      "el\n",
      "perro\n",
      "corrió\n",
      "detrá\n",
      "del\n",
      "gato\n",
      "el\n",
      "gato\n",
      "se\n",
      "subió\n",
      "a\n",
      "un\n",
      "árbol\n",
      "el\n",
      "perro\n",
      "ladró\n",
      "al\n",
      "gato\n",
      "el\n",
      "gato\n",
      "maulló\n",
      "al\n",
      "perro\n",
      "el\n",
      "hombr\n",
      "comió\n",
      "una\n",
      "manzana\n",
      "la\n",
      "manzana\n",
      "era\n",
      "roja\n",
      "y\n",
      "dulc\n",
      "el\n",
      "hombr\n",
      "estaba\n",
      "contento\n",
      "con\n",
      "la\n",
      "manzana\n",
      "la\n",
      "mujer\n",
      "leyó\n",
      "un\n",
      "libro\n",
      "el\n",
      "libro\n",
      "era\n",
      "interesant\n",
      "la\n",
      "mujer\n",
      "aprendió\n",
      "mucho\n",
      "con\n",
      "el\n",
      "libro\n",
      "el\n",
      "niño\n",
      "jugó\n",
      "con\n",
      "su\n",
      "amigo\n",
      "lo\n",
      "niño\n",
      "se\n",
      "divirtieron\n",
      "mucho\n",
      "lo\n",
      "niño\n",
      "pasaron\n",
      "un\n",
      "buen\n",
      "rato\n",
      "junto\n"
     ]
    }
   ],
   "source": [
    "# Apartado 4\n",
    "stemmer = PorterStemmer()\n",
    "for w in words:\n",
    "    print(stemmer.stem(w))"
   ]
  },
  {
   "cell_type": "code",
   "execution_count": null,
   "id": "5aaa99d7-589c-4d87-9b32-d0595eeed372",
   "metadata": {},
   "outputs": [],
   "source": []
  }
 ],
 "metadata": {
  "kernelspec": {
   "display_name": "Python 3 (ipykernel)",
   "language": "python",
   "name": "python3"
  },
  "language_info": {
   "codemirror_mode": {
    "name": "ipython",
    "version": 3
   },
   "file_extension": ".py",
   "mimetype": "text/x-python",
   "name": "python",
   "nbconvert_exporter": "python",
   "pygments_lexer": "ipython3",
   "version": "3.11.4"
  }
 },
 "nbformat": 4,
 "nbformat_minor": 5
}
