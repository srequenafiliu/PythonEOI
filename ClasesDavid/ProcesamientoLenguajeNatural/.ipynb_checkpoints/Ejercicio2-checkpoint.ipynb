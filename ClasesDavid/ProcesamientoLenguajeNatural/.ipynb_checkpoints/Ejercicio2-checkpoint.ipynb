{
 "cells": [
  {
   "cell_type": "markdown",
   "id": "4ba54795-af41-4f21-adf8-a0e058251163",
   "metadata": {},
   "source": [
    "### Dada la siguiente oracion : \"El presidente de España, Pedro Sánchez, visitó el pasado lunes la ciudad de Madrid. En su visita, el presidente se reunió con el alcalde de la ciudad, José Luis Martínez-Almeida, para discutir temas de actualidad.\", haciendo uso de spacy:\n",
    "1. Identifica el nombre del presidente de España\n",
    "2. La ciudad que visitó\n",
    "3. El nombre del alcalde de la ciudad."
   ]
  },
  {
   "cell_type": "code",
   "execution_count": 2,
   "id": "f0dac0fc-d0ac-4205-9275-a20d65a5eb4d",
   "metadata": {
    "tags": []
   },
   "outputs": [],
   "source": [
    "# pip install spacy\n",
    "# python -m spacy download es_core_news_sm\n",
    "\n",
    "import spacy\n",
    "import es_core_news_sm\n",
    "\n",
    "nlp = spacy.load(\"es_core_news_sm\")\n",
    "text = (\"El presidente de España, Pedro Sánchez, visitó el pasado lunes la ciudad de Madrid. En su visita, el presidente se reunió \"\n",
    "        \"con el alcalde de la ciudad, José Luis Martínez-Almeida, para discutir temas de actualidad.\")\n",
    "doc = nlp(text)"
   ]
  },
  {
   "cell_type": "code",
   "execution_count": 6,
   "id": "4ee48602-c9bc-4b40-b0aa-b4a12c6dbba5",
   "metadata": {
    "tags": []
   },
   "outputs": [
    {
     "name": "stdout",
     "output_type": "stream",
     "text": [
      "España PER\n",
      "Pedro Sánchez PER\n",
      "Madrid LOC\n",
      "José Luis Martínez-Almeida PER\n"
     ]
    }
   ],
   "source": [
    "for entity in doc.ents:\n",
    "    print(entity.text, entity.label_)"
   ]
  },
  {
   "cell_type": "code",
   "execution_count": null,
   "id": "12272933-ce02-4825-9a34-e1d7f554dc12",
   "metadata": {},
   "outputs": [],
   "source": []
  }
 ],
 "metadata": {
  "kernelspec": {
   "display_name": "Python 3 (ipykernel)",
   "language": "python",
   "name": "python3"
  },
  "language_info": {
   "codemirror_mode": {
    "name": "ipython",
    "version": 3
   },
   "file_extension": ".py",
   "mimetype": "text/x-python",
   "name": "python",
   "nbconvert_exporter": "python",
   "pygments_lexer": "ipython3",
   "version": "3.11.4"
  }
 },
 "nbformat": 4,
 "nbformat_minor": 5
}
