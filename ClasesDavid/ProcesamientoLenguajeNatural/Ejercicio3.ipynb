{
 "cells": [
  {
   "cell_type": "markdown",
   "id": "46433569-f000-4a5f-8ada-5ce4181c7cac",
   "metadata": {},
   "source": [
    "### Usando WordNetLemmatizer:\n",
    "1. Dada una palabra obtener sinónimos y antónimos "
   ]
  },
  {
   "cell_type": "code",
   "execution_count": 43,
   "id": "87ce57a2-455d-482f-a66c-c68e5376bc2a",
   "metadata": {
    "tags": []
   },
   "outputs": [
    {
     "name": "stdout",
     "output_type": "stream",
     "text": [
      "Sinónimos: ['new', 'fresh', 'new', 'novel', 'raw', 'new', 'new', 'unexampled', 'new', 'new', 'newfangled', 'new', 'New', 'Modern', 'New', 'new', 'young', 'new', 'newly', 'freshly', 'fresh', 'new']\n",
      "Antónimos: ['old', 'worn']\n"
     ]
    }
   ],
   "source": [
    "from nltk.corpus import wordnet\n",
    "\n",
    "synonyms = []\n",
    "antonyms = []\n",
    "\n",
    "for words in wordnet.synsets('new'):\n",
    "    # para que se reconozcan las palabras se guarden en español, añadir lang='spa' en el paréntesis\n",
    "    for lemma in words.lemmas():\n",
    "        # para que las palabras se guarden en español, añadir 'spa' en el paréntesis\n",
    "        synonyms.append(lemma.name())\n",
    "        if lemma.antonyms():\n",
    "            antonyms.append(lemma.antonyms()[0].name())\n",
    "\n",
    "print(f'Sinónimos: {synonyms}')\n",
    "print(f'Antónimos: {antonyms}')"
   ]
  },
  {
   "cell_type": "code",
   "execution_count": null,
   "id": "b86272cc-beed-4e62-9278-b2915217477e",
   "metadata": {},
   "outputs": [],
   "source": []
  }
 ],
 "metadata": {
  "kernelspec": {
   "display_name": "Python 3 (ipykernel)",
   "language": "python",
   "name": "python3"
  },
  "language_info": {
   "codemirror_mode": {
    "name": "ipython",
    "version": 3
   },
   "file_extension": ".py",
   "mimetype": "text/x-python",
   "name": "python",
   "nbconvert_exporter": "python",
   "pygments_lexer": "ipython3",
   "version": "3.11.4"
  }
 },
 "nbformat": 4,
 "nbformat_minor": 5
}
