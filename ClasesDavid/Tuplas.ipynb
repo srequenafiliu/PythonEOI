{
 "cells": [
  {
   "cell_type": "code",
   "execution_count": 11,
   "metadata": {},
   "outputs": [
    {
     "name": "stdout",
     "output_type": "stream",
     "text": [
      "0\n",
      "0\n",
      "('elemento1', 'elemento2', 'elemento3')\n",
      "3\n",
      "('plátano', 'naranja', 'pera', 'limón')\n",
      "4\n"
     ]
    }
   ],
   "source": [
    "# Las tuplas son listas que NO se pueden modificar\n",
    "tupla_vacia1 = ()\n",
    "tupla_vacia2 = tuple()\n",
    "\n",
    "print(len(tupla_vacia1))\n",
    "print(len(tupla_vacia2))\n",
    "\n",
    "tupla = ('elemento1', 'elemento2','elemento3')\n",
    "frutas = ('plátano', 'naranja', 'pera', 'limón')\n",
    "\n",
    "print(tupla)\n",
    "print(len(tupla))\n",
    "print(frutas)\n",
    "print(len(frutas))\n",
    "\n",
    "# Se pueden acceder a los elementos de la tupla, crear una sub-tupla con elementos de la tupla principal,\n",
    "# comprobar si un elemento se encuentra en la tupla, unir tuplas creando una nueva variable y borrar toda la tupla usando \"del\"."
   ]
  },
  {
   "cell_type": "code",
   "execution_count": 1,
   "metadata": {},
   "outputs": [
    {
     "name": "stdout",
     "output_type": "stream",
     "text": [
      "('plátano', 'naranja', 'pera', 'limón')\n",
      "['manzana', 'naranja', 'pera', 'limón']\n",
      "('manzana', 'naranja', 'pera', 'limón')\n"
     ]
    }
   ],
   "source": [
    "#Las tuplas se pueden convertir en listas y viceversa\n",
    "frutas = ('plátano', 'naranja', 'pera', 'limón')\n",
    "print(frutas)\n",
    "frutas = list(frutas)\n",
    "frutas[0] = 'manzana'\n",
    "print(frutas)\n",
    "frutas = tuple(frutas)\n",
    "print(frutas)"
   ]
  }
 ],
 "metadata": {
  "kernelspec": {
   "display_name": "base",
   "language": "python",
   "name": "python3"
  },
  "language_info": {
   "codemirror_mode": {
    "name": "ipython",
    "version": 3
   },
   "file_extension": ".py",
   "mimetype": "text/x-python",
   "name": "python",
   "nbconvert_exporter": "python",
   "pygments_lexer": "ipython3",
   "version": "3.11.3"
  },
  "orig_nbformat": 4
 },
 "nbformat": 4,
 "nbformat_minor": 2
}
