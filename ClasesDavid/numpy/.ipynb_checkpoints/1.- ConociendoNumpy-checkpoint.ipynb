{
 "cells": [
  {
   "cell_type": "markdown",
   "metadata": {},
   "source": [
    "# Seccion 1 - Introducción"
   ]
  },
  {
   "cell_type": "markdown",
   "metadata": {},
   "source": [
    "## Lección 2 - Conociendo Numpy"
   ]
  },
  {
   "cell_type": "markdown",
   "metadata": {},
   "source": [
    "Numpy es una de las librerías más usadas en el mundo de la ciencia del dato. Una de las principales ventajas de Numpy es que nos permite trabajar con vectores y matrices. Por ejemplo, un fichero CSV se puede representar fácilmente en forma de matriz, de manera que cada fila de la matriz hace referencia a cada fila del fichero, y cada columna de la matriz hace referencia a un atributo del fichero.\n",
    "\n",
    "Las principales características de Numpy son:\n",
    "- Está escrito en C\n",
    "- Incluye funciones para operaciones matemáticas, lógicas, ordenación, I/O, estadísticas, etc.\n",
    "- El objeto ***ndarray*** es el tipo de dato más importante.\n",
    "- Realmente rápido\n",
    "- Muy usado en el mundo del Data Science\n",
    "\n",
    "Veamos un ejemplo en el que Numpy nos hace la vida más fácil"
   ]
  },
  {
   "cell_type": "code",
   "execution_count": 1,
   "metadata": {
    "tags": []
   },
   "outputs": [
    {
     "data": {
      "text/plain": [
       "list"
      ]
     },
     "execution_count": 1,
     "metadata": {},
     "output_type": "execute_result"
    }
   ],
   "source": [
    "lista_python = [1,2,3,4]\n",
    "valor = 2\n",
    "type(lista_python)"
   ]
  },
  {
   "cell_type": "code",
   "execution_count": 2,
   "metadata": {
    "tags": []
   },
   "outputs": [
    {
     "data": {
      "text/plain": [
       "[1, 2, 3, 4, 1, 2, 3, 4]"
      ]
     },
     "execution_count": 2,
     "metadata": {},
     "output_type": "execute_result"
    }
   ],
   "source": [
    "lista_python * 2"
   ]
  },
  {
   "cell_type": "markdown",
   "metadata": {},
   "source": [
    "Como véis, si multiplico una lista Python * 2, lo que obtengo es la misma lista dos veces, cosa que habitualmente no buscamos. ¿Cómo implementaría en python la multiplicación de los elementos de una lista por un valor?"
   ]
  },
  {
   "cell_type": "code",
   "execution_count": 3,
   "metadata": {
    "tags": []
   },
   "outputs": [
    {
     "data": {
      "text/plain": [
       "[2, 4, 6, 8]"
      ]
     },
     "execution_count": 3,
     "metadata": {},
     "output_type": "execute_result"
    }
   ],
   "source": [
    "res = []\n",
    "valor = 2\n",
    "for v in lista_python:\n",
    "    res.append(v * valor)\n",
    "res"
   ]
  },
  {
   "cell_type": "markdown",
   "metadata": {},
   "source": [
    "Con Numpy, esto es tan simple como realizar la multiplicación"
   ]
  },
  {
   "cell_type": "code",
   "execution_count": 4,
   "metadata": {
    "tags": []
   },
   "outputs": [
    {
     "data": {
      "text/plain": [
       "array([2, 4, 6, 8])"
      ]
     },
     "execution_count": 4,
     "metadata": {},
     "output_type": "execute_result"
    }
   ],
   "source": [
    "import numpy as np\n",
    "\n",
    "valores_numpy = np.array([1,2,3,4])\n",
    "valores_numpy * 2"
   ]
  },
  {
   "cell_type": "markdown",
   "metadata": {},
   "source": [
    "¿Y qué ocurre si queremos multiplicar dos listas? Con Python, sería algo tal que así:"
   ]
  },
  {
   "cell_type": "code",
   "execution_count": 5,
   "metadata": {
    "tags": []
   },
   "outputs": [
    {
     "data": {
      "text/plain": [
       "[4, 6, 6, 4]"
      ]
     },
     "execution_count": 5,
     "metadata": {},
     "output_type": "execute_result"
    }
   ],
   "source": [
    "lista_python2 = [4,3,2,1]\n",
    "\n",
    "res = []\n",
    "for i in range(len(lista_python)):\n",
    "    res.append(lista_python[i] * lista_python2[i])\n",
    "res"
   ]
  },
  {
   "cell_type": "markdown",
   "metadata": {},
   "source": [
    "En cambio, en Numpy... "
   ]
  },
  {
   "cell_type": "code",
   "execution_count": 6,
   "metadata": {
    "tags": []
   },
   "outputs": [
    {
     "data": {
      "text/plain": [
       "array([4, 6, 6, 4])"
      ]
     },
     "execution_count": 6,
     "metadata": {},
     "output_type": "execute_result"
    }
   ],
   "source": [
    "valores_numpy2 = np.array([4,3,2,1])\n",
    "res = valores_numpy * valores_numpy2\n",
    "res"
   ]
  },
  {
   "cell_type": "markdown",
   "metadata": {},
   "source": [
    "Como podéis ver, Numpy nos hace la vida más facil a la hora de trabajar con listas (o arrays). ¡¡Imaginaos con matrices!!\n",
    "\n",
    "Además, hemos dicho Numpy es realmente rápido. Vamos a realizar un par de pruebas comparándolo con Python"
   ]
  },
  {
   "cell_type": "code",
   "execution_count": 7,
   "metadata": {
    "tags": []
   },
   "outputs": [
    {
     "name": "stdout",
     "output_type": "stream",
     "text": [
      "328 ns ± 2.91 ns per loop (mean ± std. dev. of 7 runs, 1,000,000 loops each)\n"
     ]
    }
   ],
   "source": [
    "%%timeit\n",
    "\n",
    "res = []\n",
    "for i in range(len(lista_python)):\n",
    "    res.append(lista_python[i] * lista_python2[i])\n",
    "res"
   ]
  },
  {
   "cell_type": "code",
   "execution_count": 8,
   "metadata": {
    "tags": []
   },
   "outputs": [
    {
     "name": "stdout",
     "output_type": "stream",
     "text": [
      "391 ns ± 4.78 ns per loop (mean ± std. dev. of 7 runs, 1,000,000 loops each)\n"
     ]
    }
   ],
   "source": [
    "%%timeit\n",
    "res = valores_numpy * valores_numpy2\n",
    "res"
   ]
  },
  {
   "cell_type": "markdown",
   "metadata": {},
   "source": [
    "¡Podéis ver como el tiempo invertido en realizar la operación es casi la mitad! "
   ]
  },
  {
   "cell_type": "markdown",
   "metadata": {},
   "source": [
    "## Leccion 3 - Preparación del entorno"
   ]
  },
  {
   "cell_type": "markdown",
   "metadata": {},
   "source": [
    "Para la preparación del entorno os recomiendo que uséis directamente un terminal, tanto para la creación del enviroment, como para la instalación de la librería. Igualmente, debéis saber que desde jupyter podéis lanzar comandos de sistema, añadiendo delante el carácter **!** ."
   ]
  },
  {
   "cell_type": "code",
   "execution_count": null,
   "metadata": {
    "tags": []
   },
   "outputs": [],
   "source": [
    "!conda install -c conda-forge numpy"
   ]
  }
 ],
 "metadata": {
  "kernelspec": {
   "display_name": "Python 3 (ipykernel)",
   "language": "python",
   "name": "python3"
  },
  "language_info": {
   "codemirror_mode": {
    "name": "ipython",
    "version": 3
   },
   "file_extension": ".py",
   "mimetype": "text/x-python",
   "name": "python",
   "nbconvert_exporter": "python",
   "pygments_lexer": "ipython3",
   "version": "3.11.3"
  }
 },
 "nbformat": 4,
 "nbformat_minor": 4
}
