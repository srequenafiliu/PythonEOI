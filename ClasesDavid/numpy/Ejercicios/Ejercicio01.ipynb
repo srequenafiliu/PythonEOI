{
 "cells": [
  {
   "cell_type": "markdown",
   "id": "366e5866-be4a-4284-bff6-b488388fd1f2",
   "metadata": {
    "tags": []
   },
   "source": [
    "1. Crear un array bidimensional de 3x3 con enteros sucesivos, del 1 al 9. Investigad para ello la función que a partir de un vector monodimensional crea ese tipo de estructura."
   ]
  },
  {
   "cell_type": "code",
   "execution_count": 18,
   "id": "056876ba-9c5f-45f2-bee4-572b22d12507",
   "metadata": {
    "tags": []
   },
   "outputs": [
    {
     "data": {
      "text/plain": [
       "array([[1, 2, 3],\n",
       "       [4, 5, 6],\n",
       "       [7, 8, 9]])"
      ]
     },
     "execution_count": 18,
     "metadata": {},
     "output_type": "execute_result"
    }
   ],
   "source": [
    "import numpy as np\n",
    "a = np.arange(1, 10).reshape((3,3))\n",
    "a"
   ]
  },
  {
   "cell_type": "markdown",
   "id": "404658e9-1a23-48a0-9071-bf74f6d4ba3b",
   "metadata": {},
   "source": [
    "2. Calcular la media de todo el conjunto de datos."
   ]
  },
  {
   "cell_type": "code",
   "execution_count": 19,
   "id": "86cff52b-0dc4-49ea-b6c7-b5dff5f6f2e1",
   "metadata": {
    "tags": []
   },
   "outputs": [
    {
     "data": {
      "text/plain": [
       "5.0"
      ]
     },
     "execution_count": 19,
     "metadata": {},
     "output_type": "execute_result"
    }
   ],
   "source": [
    "media = np.average(a)\n",
    "media"
   ]
  },
  {
   "cell_type": "markdown",
   "id": "215d7c2e-f0bd-4cea-a182-5e8acf464ab4",
   "metadata": {},
   "source": [
    "3. La media y mediana tanto por columnas como por filas"
   ]
  },
  {
   "cell_type": "code",
   "execution_count": 25,
   "id": "d4ac8ecf-5379-449b-9443-6277b66b407f",
   "metadata": {
    "tags": []
   },
   "outputs": [
    {
     "name": "stdout",
     "output_type": "stream",
     "text": [
      "Media por columnas: [4. 5. 6.]\n",
      "Mediana por columnas: [4. 5. 6.]\n",
      "Media por filas: [2. 5. 8.]\n",
      "Mediana por filas: [2. 5. 8.]\n"
     ]
    }
   ],
   "source": [
    "media_columnas = np.average(a, axis = 0)\n",
    "mediana_columnas = np.median(a, axis = 0)\n",
    "media_filas = np.mean(a, axis = 1)\n",
    "mediana_filas = np.median(a, axis = 1)\n",
    "print(\"Media por columnas:\", media_columnas)\n",
    "print(\"Mediana por columnas:\", mediana_columnas)\n",
    "print(\"Media por filas:\", media_filas)\n",
    "print(\"Mediana por filas:\", mediana_filas)"
   ]
  },
  {
   "cell_type": "markdown",
   "id": "5432ab4f-c2cb-4c6c-b0a3-fb53165b0cb1",
   "metadata": {},
   "source": [
    "4. La desviación estándar y la varianza"
   ]
  },
  {
   "cell_type": "code",
   "execution_count": 21,
   "id": "cc0753d9-6b4c-4b40-9c3f-f8f6845643a2",
   "metadata": {
    "tags": []
   },
   "outputs": [
    {
     "name": "stdout",
     "output_type": "stream",
     "text": [
      "Desvación estándar: 2.581988897471611\n",
      "Varianza: 6.666666666666667\n"
     ]
    }
   ],
   "source": [
    "varianza = np.var(a)\n",
    "desviacion_estandar = np.std(a)\n",
    "print(\"Desvación estándar:\", desviacion_estandar)\n",
    "print(\"Varianza:\", varianza)"
   ]
  },
  {
   "cell_type": "markdown",
   "id": "b28fb3b3-2724-4870-849e-636bd15e5abe",
   "metadata": {
    "tags": []
   },
   "source": [
    "5. Comprobar que funciona que a partir de la varianza puedo obtener la desviación"
   ]
  },
  {
   "cell_type": "code",
   "execution_count": 24,
   "id": "3397502c-ee66-4248-868d-288bd44a0973",
   "metadata": {
    "tags": []
   },
   "outputs": [
    {
     "data": {
      "text/plain": [
       "2.581988897471611"
      ]
     },
     "execution_count": 24,
     "metadata": {},
     "output_type": "execute_result"
    }
   ],
   "source": [
    "desviacion_estandar2 = np.sqrt(varianza)\n",
    "desviacion_estandar2"
   ]
  },
  {
   "cell_type": "code",
   "execution_count": null,
   "id": "3199c47e-b228-42bb-bbe5-c2cd7d6fc733",
   "metadata": {},
   "outputs": [],
   "source": []
  }
 ],
 "metadata": {
  "kernelspec": {
   "display_name": "Python 3 (ipykernel)",
   "language": "python",
   "name": "python3"
  },
  "language_info": {
   "codemirror_mode": {
    "name": "ipython",
    "version": 3
   },
   "file_extension": ".py",
   "mimetype": "text/x-python",
   "name": "python",
   "nbconvert_exporter": "python",
   "pygments_lexer": "ipython3",
   "version": "3.11.3"
  }
 },
 "nbformat": 4,
 "nbformat_minor": 5
}
