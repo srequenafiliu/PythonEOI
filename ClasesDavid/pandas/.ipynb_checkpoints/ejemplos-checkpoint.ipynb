{
 "cells": [
  {
   "cell_type": "markdown",
   "id": "e1ff0d44-566d-45d8-b59a-04de68a8f418",
   "metadata": {},
   "source": [
    "1. Crear un dataframe a partir de una lista de listas, especificando los nombres de las columnas y el índice."
   ]
  },
  {
   "cell_type": "code",
   "execution_count": 2,
   "id": "f7f950a4-1784-46ad-afaa-d9fc9161a488",
   "metadata": {
    "tags": []
   },
   "outputs": [
    {
     "name": "stdout",
     "output_type": "stream",
     "text": [
      "   ID Nombre  Edad\n",
      "a   1    Ana    20\n",
      "b   2    Bob    25\n",
      "c   3  Carla    30\n"
     ]
    }
   ],
   "source": [
    "# Importar la biblioteca pandas\n",
    "import pandas as pd\n",
    "# Crear una lista de listas con los datos\n",
    "datos = [[1, \"Ana\", 20], [2, \"Bob\", 25], [3, \"Carla\", 30]]\n",
    "# Crear un dataframe a partir de la lista de listas\n",
    "df = pd.DataFrame(datos, columns=[\"ID\", \"Nombre\", \"Edad\"], index=[\"a\", \"b\", \"c\"])\n",
    "# Mostrar el dataframe por pantalla\n",
    "print(df)"
   ]
  },
  {
   "cell_type": "markdown",
   "id": "3f396154-dbbd-4c58-95f3-7e91d81365da",
   "metadata": {},
   "source": [
    "2. Crear un dataframe a partir de un diccionario de listas, usando las claves como nombres de las columnas y el índice por defecto."
   ]
  },
  {
   "cell_type": "code",
   "execution_count": 3,
   "id": "6fe26d75-ca10-4e7c-b218-4f6e4164eafb",
   "metadata": {
    "tags": []
   },
   "outputs": [
    {
     "name": "stdout",
     "output_type": "stream",
     "text": [
      "   ID Nombre  Edad\n",
      "0   1    Ana    20\n",
      "1   2    Bob    25\n",
      "2   3  Carla    30\n"
     ]
    }
   ],
   "source": [
    "# Importar la biblioteca pandas\n",
    "import pandas as pd\n",
    "# Crear un diccionario de listas con los datos\n",
    "datos = {\"ID\": [1, 2, 3], \"Nombre\": [\"Ana\", \"Bob\", \"Carla\"], \"Edad\": [20, 25, 30]}\n",
    "# Crear un dataframe a partir del diccionario de listas\n",
    "df = pd.DataFrame(datos)\n",
    "# Mostrar el dataframe por pantalla\n",
    "print(df)"
   ]
  },
  {
   "cell_type": "markdown",
   "id": "b226935f-a6ef-4ff9-808d-3a79d8f8183d",
   "metadata": {},
   "source": [
    "3. Crear un dataframe a partir de un archivo csv, usando la primera fila como nombres de las columnas y el índice por defecto."
   ]
  },
  {
   "cell_type": "code",
   "execution_count": 5,
   "id": "73ba4136-50a8-4b61-a96f-def176263476",
   "metadata": {
    "tags": []
   },
   "outputs": [
    {
     "name": "stdout",
     "output_type": "stream",
     "text": [
      "Hola\n"
     ]
    }
   ],
   "source": [
    "# Importar la biblioteca pandas\n",
    "import pandas as pd\n",
    "# Crear un dataframe a partir de un archivo csv\n",
    "df = pd.read_csv(\"datos.csv\")\n",
    "# Mostrar el dataframe por pantalla\n",
    "print(df)"
   ]
  },
  {
   "cell_type": "markdown",
   "id": "ab8af079-51d1-4186-871b-6befbe7eb7ec",
   "metadata": {},
   "source": [
    "4. Crear un dataframe vacío con solo los nombres de las columnas especificados."
   ]
  },
  {
   "cell_type": "code",
   "execution_count": 6,
   "id": "5c579a36-4076-4917-9763-7922be79fd51",
   "metadata": {
    "tags": []
   },
   "outputs": [
    {
     "name": "stdout",
     "output_type": "stream",
     "text": [
      "   ID  Nombre  Edad\n",
      "0   0       0     0\n",
      "1   0       0     0\n",
      "2   0       0     0\n"
     ]
    }
   ],
   "source": [
    "# Importar la biblioteca pandas\n",
    "import pandas as pd\n",
    "# Crear un dataframe con valores predeterminados para todas las celdas, especificando el\n",
    "# número de filas y columnas y los nombres de las columnas.\n",
    "df = pd.DataFrame(0, index=range(3), columns=[\"ID\", \"Nombre\", \"Edad\"])\n",
    "# Mostrar el dataframe por pantalla\n",
    "print(df)"
   ]
  },
  {
   "cell_type": "code",
   "execution_count": null,
   "id": "6cd802c2-4969-409d-819b-0be2264216cc",
   "metadata": {},
   "outputs": [],
   "source": []
  }
 ],
 "metadata": {
  "kernelspec": {
   "display_name": "Python 3 (ipykernel)",
   "language": "python",
   "name": "python3"
  },
  "language_info": {
   "codemirror_mode": {
    "name": "ipython",
    "version": 3
   },
   "file_extension": ".py",
   "mimetype": "text/x-python",
   "name": "python",
   "nbconvert_exporter": "python",
   "pygments_lexer": "ipython3",
   "version": "3.11.3"
  }
 },
 "nbformat": 4,
 "nbformat_minor": 5
}
