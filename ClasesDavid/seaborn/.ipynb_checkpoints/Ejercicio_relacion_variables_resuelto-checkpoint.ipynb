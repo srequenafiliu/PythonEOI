{
 "cells": [
  {
   "cell_type": "code",
   "execution_count": 9,
   "id": "54514d68-3abb-4020-a55e-22b5a9f3fbff",
   "metadata": {},
   "outputs": [],
   "source": [
    "import pandas as pd\n",
    "import numpy as np\n",
    "import scipy.stats as stats\n",
    "import pingouin as pg\n",
    "from scipy.stats import kendalltau\n",
    "from scipy.stats import pointbiserialr\n",
    "# Crear el DataFrame\n",
    "np.random.seed(42)\n",
    "n = 100\n",
    "data = {\n",
    "    'marca': np.random.choice(['Toyota', 'Ford', 'Honda', 'Chevrolet', 'Volkswagen'], n),\n",
    "    'año_fabricacion': np.random.randint(2010, 2023, n),\n",
    "    'kilometraje': np.random.randint(10000, 150000, n),\n",
    "    'estado': np.random.choice(['Excelente', 'Bueno', 'Regular'], n),\n",
    "    'precio': np.random.randint(8000, 35000, n),\n",
    "    'comprador_genero': np.random.choice(['Masculino', 'Femenino'], n)\n",
    "}\n",
    "\n",
    "df = pd.DataFrame(data)\n"
   ]
  },
  {
   "cell_type": "markdown",
   "id": "0ed3a13f-de29-4bfd-8e34-1aff3d7e9e0f",
   "metadata": {},
   "source": [
    "Correlación de Pearson: Calcula la correlación de Pearson entre el año de fabricación y el precio de los coches.\n",
    "\n",
    "Chi-cuadrado: Realiza una tabla de contingencia entre el estado de los coches y el género del comprador. Luego, calcula el chi-cuadrado para analizar si hay una asociación significativa.\n",
    "\n",
    "Correlación de Spearman: Calcula la correlación de Spearman entre el kilometraje y el precio de los coches.\n",
    "\n",
    "Coeficiente Gamma: Calcula el coeficiente Gamma entre el año y el estado del coche\n",
    "\n",
    "Correlación biserial puntual: Calcula la correlación biserial puntual entre el género del comprador y el precio del coche."
   ]
  },
  {
   "cell_type": "code",
   "execution_count": 10,
   "id": "32d598d4-eb4e-4eb4-bfbb-dde57e793bde",
   "metadata": {
    "tags": []
   },
   "outputs": [
    {
     "data": {
      "text/html": [
       "<div>\n",
       "<style scoped>\n",
       "    .dataframe tbody tr th:only-of-type {\n",
       "        vertical-align: middle;\n",
       "    }\n",
       "\n",
       "    .dataframe tbody tr th {\n",
       "        vertical-align: top;\n",
       "    }\n",
       "\n",
       "    .dataframe thead th {\n",
       "        text-align: right;\n",
       "    }\n",
       "</style>\n",
       "<table border=\"1\" class=\"dataframe\">\n",
       "  <thead>\n",
       "    <tr style=\"text-align: right;\">\n",
       "      <th></th>\n",
       "      <th>marca</th>\n",
       "      <th>año_fabricacion</th>\n",
       "      <th>kilometraje</th>\n",
       "      <th>estado</th>\n",
       "      <th>precio</th>\n",
       "      <th>comprador_genero</th>\n",
       "    </tr>\n",
       "  </thead>\n",
       "  <tbody>\n",
       "    <tr>\n",
       "      <th>0</th>\n",
       "      <td>Chevrolet</td>\n",
       "      <td>2021</td>\n",
       "      <td>77172</td>\n",
       "      <td>Regular</td>\n",
       "      <td>10491</td>\n",
       "      <td>Femenino</td>\n",
       "    </tr>\n",
       "    <tr>\n",
       "      <th>1</th>\n",
       "      <td>Volkswagen</td>\n",
       "      <td>2016</td>\n",
       "      <td>103264</td>\n",
       "      <td>Bueno</td>\n",
       "      <td>23328</td>\n",
       "      <td>Masculino</td>\n",
       "    </tr>\n",
       "    <tr>\n",
       "      <th>2</th>\n",
       "      <td>Honda</td>\n",
       "      <td>2018</td>\n",
       "      <td>36736</td>\n",
       "      <td>Regular</td>\n",
       "      <td>22599</td>\n",
       "      <td>Femenino</td>\n",
       "    </tr>\n",
       "    <tr>\n",
       "      <th>3</th>\n",
       "      <td>Volkswagen</td>\n",
       "      <td>2017</td>\n",
       "      <td>122859</td>\n",
       "      <td>Regular</td>\n",
       "      <td>27508</td>\n",
       "      <td>Femenino</td>\n",
       "    </tr>\n",
       "    <tr>\n",
       "      <th>4</th>\n",
       "      <td>Volkswagen</td>\n",
       "      <td>2021</td>\n",
       "      <td>122181</td>\n",
       "      <td>Bueno</td>\n",
       "      <td>30075</td>\n",
       "      <td>Femenino</td>\n",
       "    </tr>\n",
       "  </tbody>\n",
       "</table>\n",
       "</div>"
      ],
      "text/plain": [
       "        marca  año_fabricacion  kilometraje   estado  precio comprador_genero\n",
       "0   Chevrolet             2021        77172  Regular   10491         Femenino\n",
       "1  Volkswagen             2016       103264    Bueno   23328        Masculino\n",
       "2       Honda             2018        36736  Regular   22599         Femenino\n",
       "3  Volkswagen             2017       122859  Regular   27508         Femenino\n",
       "4  Volkswagen             2021       122181    Bueno   30075         Femenino"
      ]
     },
     "execution_count": 10,
     "metadata": {},
     "output_type": "execute_result"
    }
   ],
   "source": [
    "df.head()"
   ]
  },
  {
   "cell_type": "code",
   "execution_count": null,
   "id": "3765ac8a-4e1f-4478-8aec-fa689cd94b59",
   "metadata": {},
   "outputs": [],
   "source": []
  },
  {
   "cell_type": "code",
   "execution_count": 3,
   "id": "191c755a-a720-429d-a906-76ac6c850b10",
   "metadata": {
    "tags": []
   },
   "outputs": [
    {
     "name": "stdout",
     "output_type": "stream",
     "text": [
      "Correlación de Pearson entre año de fabricación y precio: 0.10233939809111199\n"
     ]
    }
   ],
   "source": [
    "pearson_corr = df['año_fabricacion'].corr(df['precio'], method='pearson')\n",
    "print(\"Correlación de Pearson entre año de fabricación y precio:\", pearson_corr)\n"
   ]
  },
  {
   "cell_type": "code",
   "execution_count": 11,
   "id": "ea41e8b7-6fd3-4214-bc66-622f02468600",
   "metadata": {
    "tags": []
   },
   "outputs": [
    {
     "name": "stdout",
     "output_type": "stream",
     "text": [
      "           n         r         CI95%     p-val   BF10    power\n",
      "pearson  100  0.102339  [-0.1, 0.29]  0.310969  0.207  0.17384\n"
     ]
    }
   ],
   "source": [
    "pearson_corr = pg.corr(df['año_fabricacion'], df['precio'], method='pearson')\n",
    "print(pearson_corr)"
   ]
  },
  {
   "cell_type": "code",
   "execution_count": 12,
   "id": "d109383e-354c-4426-a6f5-f2acfe6398f4",
   "metadata": {
    "tags": []
   },
   "outputs": [
    {
     "data": {
      "text/html": [
       "<div>\n",
       "<style scoped>\n",
       "    .dataframe tbody tr th:only-of-type {\n",
       "        vertical-align: middle;\n",
       "    }\n",
       "\n",
       "    .dataframe tbody tr th {\n",
       "        vertical-align: top;\n",
       "    }\n",
       "\n",
       "    .dataframe thead th {\n",
       "        text-align: right;\n",
       "    }\n",
       "</style>\n",
       "<table border=\"1\" class=\"dataframe\">\n",
       "  <thead>\n",
       "    <tr style=\"text-align: right;\">\n",
       "      <th>comprador_genero</th>\n",
       "      <th>Femenino</th>\n",
       "      <th>Masculino</th>\n",
       "    </tr>\n",
       "    <tr>\n",
       "      <th>estado</th>\n",
       "      <th></th>\n",
       "      <th></th>\n",
       "    </tr>\n",
       "  </thead>\n",
       "  <tbody>\n",
       "    <tr>\n",
       "      <th>Bueno</th>\n",
       "      <td>17</td>\n",
       "      <td>20</td>\n",
       "    </tr>\n",
       "    <tr>\n",
       "      <th>Excelente</th>\n",
       "      <td>15</td>\n",
       "      <td>16</td>\n",
       "    </tr>\n",
       "    <tr>\n",
       "      <th>Regular</th>\n",
       "      <td>14</td>\n",
       "      <td>18</td>\n",
       "    </tr>\n",
       "  </tbody>\n",
       "</table>\n",
       "</div>"
      ],
      "text/plain": [
       "comprador_genero  Femenino  Masculino\n",
       "estado                               \n",
       "Bueno                   17         20\n",
       "Excelente               15         16\n",
       "Regular                 14         18"
      ]
     },
     "execution_count": 12,
     "metadata": {},
     "output_type": "execute_result"
    }
   ],
   "source": [
    "contingency_table = pd.crosstab(df['estado'], df['comprador_genero'])\n",
    "contingency_table"
   ]
  },
  {
   "cell_type": "code",
   "execution_count": 15,
   "id": "6f2f228b-9be3-4382-bffb-690b2b7ab652",
   "metadata": {},
   "outputs": [
    {
     "name": "stdout",
     "output_type": "stream",
     "text": [
      "Chi-cuadrado entre estado y género: 0.13637410201225056\n",
      "Valor p: 0.9340857355586184\n"
     ]
    }
   ],
   "source": [
    "\n",
    "chi2, p, _, _ = stats.chi2_contingency(contingency_table)\n",
    "print(\"Chi-cuadrado entre estado y género:\", chi2)\n",
    "print(\"Valor p:\", p)\n",
    "# Si p < 0,05 => Es que hay una relación\n",
    "# Cuanto mayor sea p, menos relación habrá"
   ]
  },
  {
   "cell_type": "code",
   "execution_count": 18,
   "id": "a6d8f0de-8287-4342-8dbe-978cae010593",
   "metadata": {
    "tags": []
   },
   "outputs": [
    {
     "name": "stdout",
     "output_type": "stream",
     "text": [
      "Correlación de Pearson entre kilometraje y precio: -0.09940769375149056\n"
     ]
    }
   ],
   "source": [
    "pearson_corr2 = df['kilometraje'].corr(df['precio'], method='pearson')\n",
    "print(\"Correlación de Pearson entre kilometraje y precio:\", pearson_corr2)\n"
   ]
  },
  {
   "cell_type": "code",
   "execution_count": 19,
   "id": "403bb054-f1ed-497a-97f1-82400bec7783",
   "metadata": {
    "tags": []
   },
   "outputs": [
    {
     "name": "stdout",
     "output_type": "stream",
     "text": [
      "           n         r         CI95%     p-val   BF10     power\n",
      "pearson  100 -0.099408  [-0.29, 0.1]  0.325106  0.201  0.166603\n"
     ]
    }
   ],
   "source": [
    "pearson_corr3 = pg.corr(df['kilometraje'], df['precio'], method='pearson')\n",
    "print(pearson_corr3)"
   ]
  },
  {
   "cell_type": "code",
   "execution_count": 22,
   "id": "cd553e7f-8b48-4532-8b8e-61f090c180cb",
   "metadata": {
    "tags": []
   },
   "outputs": [
    {
     "name": "stdout",
     "output_type": "stream",
     "text": [
      "Coeficiente de correlación Kendall Tau entre año y estado: 0.014880232330529508\n"
     ]
    }
   ],
   "source": [
    "from scipy.stats import kendalltau\n",
    "\n",
    "kendall_tau_corr, _ = kendalltau(df['año_fabricacion'], df['estado'])\n",
    "print(\"Coeficiente de correlación Kendall Tau entre año y estado:\", kendall_tau_corr)\n"
   ]
  },
  {
   "cell_type": "code",
   "execution_count": 24,
   "id": "9aee65d2-c822-4a20-8663-45e24474d855",
   "metadata": {
    "tags": []
   },
   "outputs": [
    {
     "name": "stdout",
     "output_type": "stream",
     "text": [
      "Chi-cuadrado entre marca y estado: 4.963977350968014\n",
      "Valor p: 0.7614192618761497\n"
     ]
    }
   ],
   "source": [
    "contingency_table = pd.crosstab(df['marca'], df['estado'])\n",
    "chi2, p, _, _ = stats.chi2_contingency(contingency_table)\n",
    "print(\"Chi-cuadrado entre marca y estado:\", chi2)\n",
    "print(\"Valor p:\", p)\n",
    "# Si p < 0,05 => Es que hay una relación\n",
    "# Cuanto mayor sea p, menos relación habrá"
   ]
  },
  {
   "cell_type": "code",
   "execution_count": 25,
   "id": "314ece54-4b3d-476e-819e-18f77e6efea9",
   "metadata": {
    "tags": []
   },
   "outputs": [
    {
     "name": "stdout",
     "output_type": "stream",
     "text": [
      "Correlación biserial puntual entre género y precio: -0.039299723930196984\n",
      "Valor p: 0.697863355816333\n"
     ]
    }
   ],
   "source": [
    "from scipy.stats import pointbiserialr\n",
    "point_biserial_corr, p_value = pointbiserialr(df['comprador_genero'].map({'Masculino': 0, 'Femenino': 1}), df['precio'])\n",
    "print(\"Correlación biserial puntual entre género y precio:\", point_biserial_corr)\n",
    "print(\"Valor p:\", p_value)\n"
   ]
  },
  {
   "cell_type": "code",
   "execution_count": null,
   "id": "ff1754dc-84af-45dc-b9db-aa6526c4ce25",
   "metadata": {},
   "outputs": [],
   "source": []
  }
 ],
 "metadata": {
  "kernelspec": {
   "display_name": "Python 3 (ipykernel)",
   "language": "python",
   "name": "python3"
  },
  "language_info": {
   "codemirror_mode": {
    "name": "ipython",
    "version": 3
   },
   "file_extension": ".py",
   "mimetype": "text/x-python",
   "name": "python",
   "nbconvert_exporter": "python",
   "pygments_lexer": "ipython3",
   "version": "3.11.4"
  }
 },
 "nbformat": 4,
 "nbformat_minor": 5
}
