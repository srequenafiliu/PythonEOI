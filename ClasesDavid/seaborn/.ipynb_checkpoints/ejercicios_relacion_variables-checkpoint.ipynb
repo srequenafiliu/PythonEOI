{
 "cells": [
  {
   "cell_type": "code",
   "execution_count": 19,
   "id": "54514d68-3abb-4020-a55e-22b5a9f3fbff",
   "metadata": {
    "tags": []
   },
   "outputs": [
    {
     "data": {
      "text/html": [
       "<div>\n",
       "<style scoped>\n",
       "    .dataframe tbody tr th:only-of-type {\n",
       "        vertical-align: middle;\n",
       "    }\n",
       "\n",
       "    .dataframe tbody tr th {\n",
       "        vertical-align: top;\n",
       "    }\n",
       "\n",
       "    .dataframe thead th {\n",
       "        text-align: right;\n",
       "    }\n",
       "</style>\n",
       "<table border=\"1\" class=\"dataframe\">\n",
       "  <thead>\n",
       "    <tr style=\"text-align: right;\">\n",
       "      <th></th>\n",
       "      <th>marca</th>\n",
       "      <th>año_fabricacion</th>\n",
       "      <th>kilometraje</th>\n",
       "      <th>estado</th>\n",
       "      <th>precio</th>\n",
       "      <th>comprador_genero</th>\n",
       "    </tr>\n",
       "  </thead>\n",
       "  <tbody>\n",
       "    <tr>\n",
       "      <th>0</th>\n",
       "      <td>Chevrolet</td>\n",
       "      <td>2021</td>\n",
       "      <td>77172</td>\n",
       "      <td>Regular</td>\n",
       "      <td>10491</td>\n",
       "      <td>Femenino</td>\n",
       "    </tr>\n",
       "    <tr>\n",
       "      <th>1</th>\n",
       "      <td>Volkswagen</td>\n",
       "      <td>2016</td>\n",
       "      <td>103264</td>\n",
       "      <td>Bueno</td>\n",
       "      <td>23328</td>\n",
       "      <td>Masculino</td>\n",
       "    </tr>\n",
       "    <tr>\n",
       "      <th>2</th>\n",
       "      <td>Honda</td>\n",
       "      <td>2018</td>\n",
       "      <td>36736</td>\n",
       "      <td>Regular</td>\n",
       "      <td>22599</td>\n",
       "      <td>Femenino</td>\n",
       "    </tr>\n",
       "    <tr>\n",
       "      <th>3</th>\n",
       "      <td>Volkswagen</td>\n",
       "      <td>2017</td>\n",
       "      <td>122859</td>\n",
       "      <td>Regular</td>\n",
       "      <td>27508</td>\n",
       "      <td>Femenino</td>\n",
       "    </tr>\n",
       "    <tr>\n",
       "      <th>4</th>\n",
       "      <td>Volkswagen</td>\n",
       "      <td>2021</td>\n",
       "      <td>122181</td>\n",
       "      <td>Bueno</td>\n",
       "      <td>30075</td>\n",
       "      <td>Femenino</td>\n",
       "    </tr>\n",
       "  </tbody>\n",
       "</table>\n",
       "</div>"
      ],
      "text/plain": [
       "        marca  año_fabricacion  kilometraje   estado  precio comprador_genero\n",
       "0   Chevrolet             2021        77172  Regular   10491         Femenino\n",
       "1  Volkswagen             2016       103264    Bueno   23328        Masculino\n",
       "2       Honda             2018        36736  Regular   22599         Femenino\n",
       "3  Volkswagen             2017       122859  Regular   27508         Femenino\n",
       "4  Volkswagen             2021       122181    Bueno   30075         Femenino"
      ]
     },
     "execution_count": 19,
     "metadata": {},
     "output_type": "execute_result"
    }
   ],
   "source": [
    "import pandas as pd\n",
    "import numpy as np\n",
    "import scipy.stats as stats\n",
    "import pingouin as pg\n",
    "from scipy.stats import kendalltau\n",
    "from scipy.stats import pointbiserialr\n",
    "# Crear el DataFrame\n",
    "np.random.seed(42)\n",
    "n = 100\n",
    "data = {\n",
    "    'marca': np.random.choice(['Toyota', 'Ford', 'Honda', 'Chevrolet', 'Volkswagen'], n),\n",
    "    'año_fabricacion': np.random.randint(2010, 2023, n),\n",
    "    'kilometraje': np.random.randint(10000, 150000, n),\n",
    "    'estado': np.random.choice(['Excelente', 'Bueno', 'Regular'], n),\n",
    "    'precio': np.random.randint(8000, 35000, n),\n",
    "    'comprador_genero': np.random.choice(['Masculino', 'Femenino'], n)\n",
    "}\n",
    "\n",
    "df = pd.DataFrame(data)\n",
    "df.head()"
   ]
  },
  {
   "cell_type": "markdown",
   "id": "0ed3a13f-de29-4bfd-8e34-1aff3d7e9e0f",
   "metadata": {},
   "source": [
    "### Correlación de Pearson: Calcula la correlación de Pearson entre el año de fabricación y el precio de los coches."
   ]
  },
  {
   "cell_type": "code",
   "execution_count": 21,
   "id": "191c755a-a720-429d-a906-76ac6c850b10",
   "metadata": {
    "tags": []
   },
   "outputs": [
    {
     "name": "stdout",
     "output_type": "stream",
     "text": [
      "Correlación de Pearson entre el año de fabricación y el precio de los coches 0.10233939809111199\n",
      "           n         r         CI95%     p-val   BF10    power\n",
      "pearson  100  0.102339  [-0.1, 0.29]  0.310969  0.207  0.17384\n"
     ]
    }
   ],
   "source": [
    "pearson_corr = df['año_fabricacion'].corr(df['precio'], method='pearson')\n",
    "print('Correlación de Pearson entre el año de fabricación y el precio de los coches', pearson_corr)\n",
    "pearson_corr = pg.corr(df['año_fabricacion'], df['precio'], method='pearson')\n",
    "print(pearson_corr)"
   ]
  },
  {
   "cell_type": "markdown",
   "id": "4d53db2c-c2af-47a1-be37-bd05bd9ac75a",
   "metadata": {},
   "source": [
    "### Chi-cuadrado: Realiza una tabla de contingencia entre el estado de los coches y el género del comprador. Luego, calcula el chi-cuadrado para analizar si hay una asociación significativa."
   ]
  },
  {
   "cell_type": "code",
   "execution_count": 15,
   "id": "a23af23d-41ca-4c00-b8ce-84755ff52910",
   "metadata": {
    "tags": []
   },
   "outputs": [
    {
     "data": {
      "text/html": [
       "<div>\n",
       "<style scoped>\n",
       "    .dataframe tbody tr th:only-of-type {\n",
       "        vertical-align: middle;\n",
       "    }\n",
       "\n",
       "    .dataframe tbody tr th {\n",
       "        vertical-align: top;\n",
       "    }\n",
       "\n",
       "    .dataframe thead th {\n",
       "        text-align: right;\n",
       "    }\n",
       "</style>\n",
       "<table border=\"1\" class=\"dataframe\">\n",
       "  <thead>\n",
       "    <tr style=\"text-align: right;\">\n",
       "      <th>comprador_genero</th>\n",
       "      <th>Femenino</th>\n",
       "      <th>Masculino</th>\n",
       "    </tr>\n",
       "    <tr>\n",
       "      <th>estado</th>\n",
       "      <th></th>\n",
       "      <th></th>\n",
       "    </tr>\n",
       "  </thead>\n",
       "  <tbody>\n",
       "    <tr>\n",
       "      <th>Bueno</th>\n",
       "      <td>17</td>\n",
       "      <td>20</td>\n",
       "    </tr>\n",
       "    <tr>\n",
       "      <th>Excelente</th>\n",
       "      <td>15</td>\n",
       "      <td>16</td>\n",
       "    </tr>\n",
       "    <tr>\n",
       "      <th>Regular</th>\n",
       "      <td>14</td>\n",
       "      <td>18</td>\n",
       "    </tr>\n",
       "  </tbody>\n",
       "</table>\n",
       "</div>"
      ],
      "text/plain": [
       "comprador_genero  Femenino  Masculino\n",
       "estado                               \n",
       "Bueno                   17         20\n",
       "Excelente               15         16\n",
       "Regular                 14         18"
      ]
     },
     "execution_count": 15,
     "metadata": {},
     "output_type": "execute_result"
    }
   ],
   "source": [
    "crosstab_estado_genero = pd.crosstab(df['estado'], df['comprador_genero'])\n",
    "crosstab_estado_genero"
   ]
  },
  {
   "cell_type": "code",
   "execution_count": 16,
   "id": "a19fe4f9-7890-45fe-bd41-220ac1e21d4e",
   "metadata": {
    "tags": []
   },
   "outputs": [
    {
     "name": "stdout",
     "output_type": "stream",
     "text": [
      "Valor de chi-cuadrado: 0.13637410201225056\n",
      "Valor p: 0.9340857355586184\n"
     ]
    }
   ],
   "source": [
    "chi2, p_value, _, _ = stats.chi2_contingency(crosstab_estado_genero)\n",
    "print(\"Valor de chi-cuadrado:\", chi2)\n",
    "print(\"Valor p:\", p_value)"
   ]
  },
  {
   "cell_type": "markdown",
   "id": "c8623289-ad81-4099-82c8-f906b5e85124",
   "metadata": {},
   "source": [
    "### Correlación de Spearman: Calcula la correlación de Spearman entre el kilometraje y el precio de los coches."
   ]
  },
  {
   "cell_type": "code",
   "execution_count": 23,
   "id": "749ecaf3-eff6-4833-8d4b-67c8139f01da",
   "metadata": {
    "tags": []
   },
   "outputs": [
    {
     "name": "stdout",
     "output_type": "stream",
     "text": [
      "Correlación de Spearman entre el año de fabricación y el precio de los coches -0.09327332733273326\n",
      "            n         r          CI95%     p-val    power\n",
      "spearman  100 -0.093273  [-0.28, 0.11]  0.355996  0.15219\n"
     ]
    }
   ],
   "source": [
    "spearman_corr = df['kilometraje'].corr(df['precio'], method='spearman')\n",
    "print('Correlación de Spearman entre el año de fabricación y el precio de los coches', spearman_corr)\n",
    "spearman_corr = pg.corr(df['kilometraje'], df['precio'], method='spearman')\n",
    "print(spearman_corr)"
   ]
  },
  {
   "cell_type": "markdown",
   "id": "46ca20a6-e585-48a8-9c61-9596465fe2a6",
   "metadata": {},
   "source": [
    "### Coeficiente Gamma: Calcula el coeficiente Gamma entre el año y el estado del coche."
   ]
  },
  {
   "cell_type": "code",
   "execution_count": 24,
   "id": "bc389c78-0d3b-4272-bf52-f5f99b9af167",
   "metadata": {
    "tags": []
   },
   "outputs": [
    {
     "name": "stdout",
     "output_type": "stream",
     "text": [
      "Coeficiente Gamma (de correlación Kendall Tau) entre año y estado: 0.014880232330529508\n"
     ]
    }
   ],
   "source": [
    "kendall_tau_corr, _ = kendalltau(df['año_fabricacion'], df['estado'])\n",
    "print(\"Coeficiente Gamma (de correlación Kendall Tau) entre año y estado:\", kendall_tau_corr)"
   ]
  },
  {
   "cell_type": "markdown",
   "id": "2b53962a-362f-4871-85df-b697dea4e43c",
   "metadata": {},
   "source": [
    "### Correlación biserial puntual: Calcula la correlación biserial puntual entre el género del comprador y el precio del coche."
   ]
  },
  {
   "cell_type": "code",
   "execution_count": 20,
   "id": "04c76db4-a1f8-49bb-87c6-0526ca0f9d47",
   "metadata": {
    "tags": []
   },
   "outputs": [
    {
     "name": "stdout",
     "output_type": "stream",
     "text": [
      "Correlación biserial puntual entre género y precio: -0.03929972393019701\n",
      "Valor p: 0.697863355816332\n"
     ]
    }
   ],
   "source": [
    "point_biserial_corr, p_value = pointbiserialr(df['comprador_genero'].map({'Masculino': 0, 'Femenino': 1}), df['precio'])\n",
    "print(\"Correlación biserial puntual entre género y precio:\", point_biserial_corr)\n",
    "print(\"Valor p:\", p_value)"
   ]
  },
  {
   "cell_type": "code",
   "execution_count": null,
   "id": "b95b7250-884d-4940-b09d-a4f344a518b8",
   "metadata": {},
   "outputs": [],
   "source": []
  }
 ],
 "metadata": {
  "kernelspec": {
   "display_name": "Python 3 (ipykernel)",
   "language": "python",
   "name": "python3"
  },
  "language_info": {
   "codemirror_mode": {
    "name": "ipython",
    "version": 3
   },
   "file_extension": ".py",
   "mimetype": "text/x-python",
   "name": "python",
   "nbconvert_exporter": "python",
   "pygments_lexer": "ipython3",
   "version": "3.11.4"
  }
 },
 "nbformat": 4,
 "nbformat_minor": 5
}
