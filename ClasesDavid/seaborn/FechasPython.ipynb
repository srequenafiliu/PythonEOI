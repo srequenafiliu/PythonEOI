{
 "cells": [
  {
   "cell_type": "markdown",
   "id": "13a77952-b803-4221-b8b1-089a489eebdb",
   "metadata": {},
   "source": [
    "### Ejemplo Básico"
   ]
  },
  {
   "cell_type": "code",
   "execution_count": 1,
   "id": "7fa513fa-6ce3-4731-92df-ea7aca0ad731",
   "metadata": {
    "tags": []
   },
   "outputs": [
    {
     "name": "stdout",
     "output_type": "stream",
     "text": [
      "2023-09-15 11:48:44.673596\n"
     ]
    }
   ],
   "source": [
    "import datetime\n",
    "\n",
    "fecha_actual = datetime.datetime.now()\n",
    "\n",
    "print(fecha_actual)"
   ]
  },
  {
   "cell_type": "markdown",
   "id": "f5058900-8361-498f-9af2-30cfda785118",
   "metadata": {},
   "source": [
    "### Transformación de una cadena de texto a una fecha"
   ]
  },
  {
   "cell_type": "code",
   "execution_count": 2,
   "id": "0a8dadbd-1dbf-4343-8c0f-fc584cb95677",
   "metadata": {
    "tags": []
   },
   "outputs": [
    {
     "name": "stdout",
     "output_type": "stream",
     "text": [
      "2023-09-15 00:00:00\n"
     ]
    }
   ],
   "source": [
    "from datetime import datetime\n",
    "\n",
    "cadena_fecha = \"2023-09-15\"\n",
    "\n",
    "fecha = datetime.strptime(cadena_fecha, \"%Y-%m-%d\")\n",
    "\n",
    "print(fecha)"
   ]
  },
  {
   "cell_type": "markdown",
   "id": "05f64f7b-9b74-4a87-ac7b-1bf6d4ac1fd9",
   "metadata": {},
   "source": [
    "### Diferencia en fechas"
   ]
  },
  {
   "cell_type": "code",
   "execution_count": 10,
   "id": "1434d255-d248-4fae-b736-f5f00963a479",
   "metadata": {
    "tags": []
   },
   "outputs": [
    {
     "name": "stdout",
     "output_type": "stream",
     "text": [
      "5 days, 0:00:00\n"
     ]
    }
   ],
   "source": [
    "import datetime\n",
    "\n",
    "fecha_inicial = datetime.datetime(2023, 9, 15)\n",
    "fecha_final = datetime.datetime(2023, 9, 20)\n",
    "\n",
    "diferencia = fecha_final - fecha_inicial\n",
    "\n",
    "print(diferencia)"
   ]
  },
  {
   "cell_type": "code",
   "execution_count": 6,
   "id": "0df7aff9-a1ab-4076-bad7-f0ab7f1bd7a7",
   "metadata": {
    "tags": []
   },
   "outputs": [
    {
     "name": "stdout",
     "output_type": "stream",
     "text": [
      "La fecha 1 es anterior a la fecha 2.\n"
     ]
    }
   ],
   "source": [
    "import datetime\n",
    "\n",
    "fecha_1 = datetime.datetime(2023, 9, 15)\n",
    "fecha_2 = datetime.datetime(2023, 9, 20)\n",
    "\n",
    "if fecha_1 < fecha_2:\n",
    "  print(\"La fecha 1 es anterior a la fecha 2.\")\n",
    "else:\n",
    "  print(\"La fecha 1 es posterior a la fecha 2.\")"
   ]
  },
  {
   "cell_type": "markdown",
   "id": "0e7851f5-f1f7-4246-8653-bcb03b3e051b",
   "metadata": {},
   "source": [
    "### Formatos:"
   ]
  },
  {
   "cell_type": "code",
   "execution_count": 7,
   "id": "74e6bf60-e871-4500-8071-66e4c0aab042",
   "metadata": {
    "tags": []
   },
   "outputs": [
    {
     "name": "stdout",
     "output_type": "stream",
     "text": [
      "2023-09-15 12:34:56\n",
      "2023-09-15\n",
      "15/09/2023\n",
      "12:34:56\n"
     ]
    }
   ],
   "source": [
    "import datetime\n",
    "\n",
    "fecha = datetime.datetime(2023, 9, 15, 12, 34, 56)\n",
    "\n",
    "print(fecha)\n",
    "print(fecha.strftime(\"%Y-%m-%d\"))\n",
    "print(fecha.strftime(\"%d/%m/%Y\"))\n",
    "print(fecha.strftime(\"%H:%M:%S\"))"
   ]
  },
  {
   "cell_type": "markdown",
   "id": "db25d824-611b-4878-9120-d1b8468042b2",
   "metadata": {},
   "source": [
    "### Problemas con las fechas."
   ]
  },
  {
   "cell_type": "markdown",
   "id": "a18d410c-7615-483f-8346-d8339b8620ee",
   "metadata": {},
   "source": [
    "**Formatos de fecha:** Los formatos de fecha pueden variar de un país a otro, incluso de un idioma a otro dentro del mismo país. Por ejemplo, en español, la fecha se suele escribir en el formato \"día/mes/año\", mientras que en inglés se suele escribir en el formato \"mes/día/año\". Esto puede causar problemas a la hora de intercambiar datos entre sistemas que utilizan diferentes formatos de fecha.  \n",
    "**Diferencia horaria:** La diferencia horaria puede causar problemas a la hora de trabajar con fechas que se encuentran en diferentes zonas horarias. Por ejemplo, si una fecha se registra en la zona horaria de Nueva York, pero se muestra en la zona horaria de Londres, la fecha se mostrará como si fuera un día posterior.  \n",
    "**Horario de verano:** El horario de verano también puede causar problemas a la hora de trabajar con fechas. Cuando se cambia al horario de verano, se añade una hora a la hora local. Esto puede causar problemas a la hora de comparar fechas que se encuentran en diferentes zonas horarias, ya que la diferencia horaria entre las zonas horarias se verá afectada por el horario de verano."
   ]
  },
  {
   "cell_type": "markdown",
   "id": "0dc9da6b-07ee-4746-9ab4-f75cb65a90d7",
   "metadata": {},
   "source": [
    "### Convertir cadena de texto en una fecha en un formato estandar, como el ISO 8601"
   ]
  },
  {
   "cell_type": "code",
   "execution_count": 11,
   "id": "36561578-246a-470c-ba3f-e7af135f4cd4",
   "metadata": {
    "tags": []
   },
   "outputs": [
    {
     "name": "stdout",
     "output_type": "stream",
     "text": [
      "2023-09-15 00:00:00\n",
      "2023-09-15 00:00:00\n"
     ]
    }
   ],
   "source": [
    "import datetime\n",
    "\n",
    "cadena_fecha_española = \"15/09/2023\"\n",
    "fecha_española = datetime.datetime.strptime(cadena_fecha_española, \"%d/%m/%Y\")\n",
    "\n",
    "cadena_fecha_inglesa = \"2023-09-15\"\n",
    "fecha_inglesa = datetime.datetime.strptime(cadena_fecha_inglesa, \"%Y-%m-%d\")\n",
    "\n",
    "print(fecha_española)\n",
    "print(fecha_inglesa)"
   ]
  },
  {
   "cell_type": "markdown",
   "id": "961a5cfb-7fec-440c-a233-f27d81d66980",
   "metadata": {},
   "source": [
    "### Uso de Timezones"
   ]
  },
  {
   "cell_type": "code",
   "execution_count": 14,
   "id": "5eed34ea-f3c8-4cdd-bd06-1f9af6a9eead",
   "metadata": {
    "tags": []
   },
   "outputs": [
    {
     "name": "stdout",
     "output_type": "stream",
     "text": [
      "2023-09-15 09:07:16.584464+00:00\n"
     ]
    }
   ],
   "source": [
    "import pytz\n",
    "\n",
    "now = datetime.datetime.now(pytz.timezone('UTC'))\n",
    "\n",
    "print(now)"
   ]
  },
  {
   "cell_type": "code",
   "execution_count": 20,
   "id": "f2d95e9b-5134-4f23-9a97-76939f6ac033",
   "metadata": {
    "tags": []
   },
   "outputs": [
    {
     "name": "stdout",
     "output_type": "stream",
     "text": [
      "Europe/Madrid\n"
     ]
    }
   ],
   "source": [
    "import pytz\n",
    "\n",
    "ciudad = 'Europe/Madrid'\n",
    "\n",
    "timezone = pytz.timezone(ciudad)\n",
    "\n",
    "print(timezone)"
   ]
  },
  {
   "cell_type": "code",
   "execution_count": 17,
   "id": "14a7b93e-f774-4481-a573-badf529360de",
   "metadata": {
    "tags": []
   },
   "outputs": [
    {
     "name": "stdout",
     "output_type": "stream",
     "text": [
      "2023-09-15 14:34:56+02:00\n"
     ]
    }
   ],
   "source": [
    "import datetime\n",
    "import pytz\n",
    "\n",
    "fecha_utc = datetime.datetime(2023, 9, 15, 12, 34, 56, tzinfo=pytz.timezone('UTC'))\n",
    "\n",
    "fecha_local = fecha_utc.astimezone(pytz.timezone('Europe/Madrid'))\n",
    "\n",
    "print(fecha_local)"
   ]
  },
  {
   "cell_type": "code",
   "execution_count": 18,
   "id": "58083f0c-1b59-4806-a01d-c0f21c629341",
   "metadata": {
    "tags": []
   },
   "outputs": [
    {
     "name": "stdout",
     "output_type": "stream",
     "text": [
      "La fecha UTC es anterior a la fecha local.\n"
     ]
    }
   ],
   "source": [
    "import datetime\n",
    "import pytz\n",
    "\n",
    "fecha_utc = datetime.datetime(2023, 9, 15, 12, 34, 56, tzinfo=pytz.timezone('UTC'))\n",
    "\n",
    "fecha_local = datetime.datetime(2023, 9, 15, 15, 34, 56, tzinfo=pytz.timezone('Europe/Madrid'))\n",
    "\n",
    "if fecha_utc < fecha_local:\n",
    "  print('La fecha UTC es anterior a la fecha local.')\n",
    "else:\n",
    "  print('La fecha UTC es posterior a la fecha local.')"
   ]
  },
  {
   "cell_type": "markdown",
   "id": "9ce98b7b-c318-4b92-a7ba-ded64912cbfe",
   "metadata": {
    "tags": []
   },
   "source": [
    "import pytz\n",
    "\n",
    "zonas_horarias = pytz.all_timezones\n",
    "\n",
    "print(zonas_horarias)"
   ]
  },
  {
   "cell_type": "markdown",
   "id": "aadf8d5a-6642-4d18-8adf-7bf2cf42256e",
   "metadata": {
    "tags": []
   },
   "source": [
    "### Timedelta"
   ]
  },
  {
   "cell_type": "code",
   "execution_count": 23,
   "id": "cd0f8d0c-cf77-4d61-8cf4-8e8a3ead2c5f",
   "metadata": {
    "tags": []
   },
   "outputs": [
    {
     "name": "stdout",
     "output_type": "stream",
     "text": [
      "1 day, 2:03:04.000005\n"
     ]
    }
   ],
   "source": [
    "import datetime\n",
    "\n",
    "timedelta = datetime.timedelta(days=1, hours=2, minutes=3, seconds=4, microseconds=5)\n",
    "\n",
    "print(timedelta)"
   ]
  },
  {
   "cell_type": "code",
   "execution_count": 24,
   "id": "33078be2-0947-4ddd-958a-d9b020791526",
   "metadata": {
    "tags": []
   },
   "outputs": [
    {
     "name": "stdout",
     "output_type": "stream",
     "text": [
      "1 day, 1:01:01\n"
     ]
    }
   ],
   "source": [
    "import datetime\n",
    "\n",
    "fecha_inicial = datetime.datetime(2023, 9, 15, 12, 34, 56)\n",
    "fecha_final = datetime.datetime(2023, 9, 16, 13, 35, 57)\n",
    "\n",
    "diferencia = fecha_final - fecha_inicial\n",
    "\n",
    "print(diferencia)"
   ]
  },
  {
   "cell_type": "code",
   "execution_count": 25,
   "id": "ff792e6d-fce4-45be-8610-0a69afaecc31",
   "metadata": {
    "tags": []
   },
   "outputs": [
    {
     "name": "stdout",
     "output_type": "stream",
     "text": [
      "2023-09-16 12:34:56\n"
     ]
    }
   ],
   "source": [
    "import datetime\n",
    "\n",
    "fecha_inicial = datetime.datetime(2023, 9, 15, 12, 34, 56)\n",
    "\n",
    "fecha_final = fecha_inicial + datetime.timedelta(days=1)\n",
    "\n",
    "print(fecha_final)"
   ]
  },
  {
   "cell_type": "code",
   "execution_count": 26,
   "id": "0ce9f916-f55a-4948-a4ea-3dbb0f5656e3",
   "metadata": {
    "tags": []
   },
   "outputs": [
    {
     "name": "stdout",
     "output_type": "stream",
     "text": [
      "Los `timedelta` son diferentes.\n"
     ]
    }
   ],
   "source": [
    "import datetime\n",
    "\n",
    "timedelta_1 = datetime.timedelta(days=1, hours=2, minutes=3, seconds=4, microseconds=5)\n",
    "timedelta_2 = datetime.timedelta(days=1, hours=2, minutes=3, seconds=4, microseconds=6)\n",
    "\n",
    "if timedelta_1 == timedelta_2:\n",
    "  print('Los `timedelta` son iguales.')\n",
    "else:\n",
    "  print('Los `timedelta` son diferentes.')"
   ]
  },
  {
   "cell_type": "code",
   "execution_count": 39,
   "id": "00b106e0-d423-4aa5-9054-f0cc7ca11bfe",
   "metadata": {
    "tags": []
   },
   "outputs": [
    {
     "name": "stdout",
     "output_type": "stream",
     "text": [
      "1\n"
     ]
    }
   ],
   "source": [
    "import datetime\n",
    "import math\n",
    "\n",
    "timedelta = datetime.timedelta(seconds=1314872000)\n",
    "\n",
    "meses = math.ceil(timedelta.total_seconds() / 2629746000)\n",
    "\n",
    "print(meses)"
   ]
  },
  {
   "cell_type": "markdown",
   "id": "b394c9e4-f2e6-4cb5-add0-89f0b8fff8c2",
   "metadata": {},
   "source": [
    "DateUtils:"
   ]
  },
  {
   "cell_type": "code",
   "execution_count": 35,
   "id": "e3dfb1a8-5ca5-4bdd-9152-01837a7ac3f1",
   "metadata": {
    "tags": []
   },
   "outputs": [
    {
     "name": "stdout",
     "output_type": "stream",
     "text": [
      "Requirement already satisfied: python-dateutil in c:\\users\\battl\\.conda\\envs\\estadistica\\lib\\site-packages (2.8.2)\n",
      "Requirement already satisfied: six>=1.5 in c:\\users\\battl\\.conda\\envs\\estadistica\\lib\\site-packages (from python-dateutil) (1.16.0)\n",
      "Note: you may need to restart the kernel to use updated packages.\n"
     ]
    }
   ],
   "source": [
    "pip install python-dateutil"
   ]
  },
  {
   "cell_type": "code",
   "execution_count": 36,
   "id": "b1c89a42-3f46-49a2-987a-dde7c725dc6d",
   "metadata": {
    "tags": []
   },
   "outputs": [],
   "source": [
    "from datetime import *\n",
    "from dateutil.relativedelta import *\n",
    "import calendar"
   ]
  },
  {
   "cell_type": "code",
   "execution_count": 37,
   "id": "2b22c9c9-c60b-4256-a0f6-f6f9cc9e5d8a",
   "metadata": {
    "tags": []
   },
   "outputs": [
    {
     "name": "stdout",
     "output_type": "stream",
     "text": [
      "Date of next month:\n",
      "2023-10-15\n",
      "Date of next week:\n",
      "2023-09-22\n"
     ]
    }
   ],
   "source": [
    "month_next = date.today() + relativedelta(months=+1)\n",
    "print('Próximo Mes')\n",
    "print(month_next)\n",
    "week_next = date.today() + relativedelta(weeks=+1)\n",
    "print('Próxima semana:')\n",
    "print(week_next)"
   ]
  },
  {
   "cell_type": "code",
   "execution_count": 40,
   "id": "f19b725e-6bae-4f89-958d-d52d4796a120",
   "metadata": {
    "tags": []
   },
   "outputs": [
    {
     "name": "stdout",
     "output_type": "stream",
     "text": [
      "Date of next moht and one week:\n",
      "2023-10-22\n"
     ]
    }
   ],
   "source": [
    "combined = date.today() + relativedelta(months=+1, weeks=+1)\n",
    "print('La semana segunda del mes que viene')\n",
    "print(combined)"
   ]
  },
  {
   "cell_type": "code",
   "execution_count": 41,
   "id": "0b7057fa-a674-4835-9f34-47e8ebda92c6",
   "metadata": {
    "tags": []
   },
   "outputs": [
    {
     "name": "stdout",
     "output_type": "stream",
     "text": [
      "Date of last month:\n",
      "2023-08-15\n",
      "Date of last week:\n",
      "2023-09-08\n"
     ]
    }
   ],
   "source": [
    "month_last = date.today() + relativedelta(months=-1)\n",
    "print('Mes pasado:')\n",
    "print(month_last)\n",
    "week_last = date.today() + relativedelta(weeks=-1)\n",
    "print('Semana Pasada:')\n",
    "print(week_last)"
   ]
  },
  {
   "cell_type": "markdown",
   "id": "629a188a-1672-49d0-8103-1a9fd28673df",
   "metadata": {
    "tags": []
   },
   "source": [
    "### Con procesamiento"
   ]
  },
  {
   "cell_type": "code",
   "execution_count": 43,
   "id": "33090aa4-a8a4-4268-9d49-538b6e20fe2c",
   "metadata": {
    "tags": []
   },
   "outputs": [
    {
     "name": "stdout",
     "output_type": "stream",
     "text": [
      "2023-01-07\n",
      "2023-01-14\n",
      "2023-01-21\n",
      "2023-01-28\n",
      "2023-02-04\n",
      "2023-02-11\n",
      "2023-02-18\n",
      "2023-02-25\n",
      "2023-03-04\n",
      "2023-03-11\n",
      "2023-03-18\n",
      "2023-03-25\n",
      "2023-04-01\n",
      "2023-04-08\n",
      "2023-04-15\n",
      "2023-04-22\n",
      "2023-04-29\n",
      "2023-05-06\n",
      "2023-05-13\n",
      "2023-05-20\n",
      "2023-05-27\n",
      "2023-06-03\n",
      "2023-06-10\n",
      "2023-06-17\n",
      "2023-06-24\n",
      "2023-07-01\n",
      "2023-07-08\n",
      "2023-07-15\n",
      "2023-07-22\n",
      "2023-07-29\n",
      "2023-08-05\n",
      "2023-08-12\n",
      "2023-08-19\n",
      "2023-08-26\n",
      "2023-09-02\n",
      "2023-09-09\n",
      "2023-09-16\n",
      "2023-09-23\n",
      "2023-09-30\n",
      "2023-10-07\n",
      "2023-10-14\n",
      "2023-10-21\n",
      "2023-10-28\n",
      "2023-11-04\n",
      "2023-11-11\n",
      "2023-11-18\n",
      "2023-11-25\n",
      "2023-12-02\n",
      "2023-12-09\n",
      "2023-12-16\n",
      "2023-12-23\n",
      "2023-12-30\n"
     ]
    }
   ],
   "source": [
    "import datetime\n",
    "\n",
    "año = 2023\n",
    "fecha_inicio = datetime.date(año, 1, 1)\n",
    "\n",
    "\n",
    "fecha_fin = datetime.date(año, 12, 31)\n",
    "\n",
    "\n",
    "sabados = []\n",
    "\n",
    "\n",
    "current_date = fecha_inicio\n",
    "while current_date <= fecha_fin:\n",
    "\n",
    "    if current_date.weekday() == 5:  # 5 representa el sábado\n",
    "        sabados.append(current_date)\n",
    "    current_date += datetime.timedelta(days=1)\n",
    "\n",
    "\n",
    "for sabado in sabados:\n",
    "    print(sabado)\n"
   ]
  },
  {
   "cell_type": "markdown",
   "id": "98b8c9bd-5b51-4859-8694-bdd105aaa5fa",
   "metadata": {},
   "source": [
    "### Calendar"
   ]
  },
  {
   "cell_type": "code",
   "execution_count": 44,
   "id": "8b105f54-0474-4dbf-9eab-892b4bb8d630",
   "metadata": {
    "tags": []
   },
   "outputs": [
    {
     "name": "stdout",
     "output_type": "stream",
     "text": [
      "Monday\n",
      "Tuesday\n",
      "Wednesday\n",
      "Thursday\n",
      "Friday\n",
      "Saturday\n",
      "Sunday\n",
      "[datetime.date(2023, 8, 28), datetime.date(2023, 8, 29), datetime.date(2023, 8, 30), datetime.date(2023, 8, 31), datetime.date(2023, 9, 1), datetime.date(2023, 9, 2), datetime.date(2023, 9, 3)]\n",
      "[datetime.date(2023, 9, 4), datetime.date(2023, 9, 5), datetime.date(2023, 9, 6), datetime.date(2023, 9, 7), datetime.date(2023, 9, 8), datetime.date(2023, 9, 9), datetime.date(2023, 9, 10)]\n",
      "[datetime.date(2023, 9, 11), datetime.date(2023, 9, 12), datetime.date(2023, 9, 13), datetime.date(2023, 9, 14), datetime.date(2023, 9, 15), datetime.date(2023, 9, 16), datetime.date(2023, 9, 17)]\n",
      "[datetime.date(2023, 9, 18), datetime.date(2023, 9, 19), datetime.date(2023, 9, 20), datetime.date(2023, 9, 21), datetime.date(2023, 9, 22), datetime.date(2023, 9, 23), datetime.date(2023, 9, 24)]\n",
      "[datetime.date(2023, 9, 25), datetime.date(2023, 9, 26), datetime.date(2023, 9, 27), datetime.date(2023, 9, 28), datetime.date(2023, 9, 29), datetime.date(2023, 9, 30), datetime.date(2023, 10, 1)]\n",
      "   September 2023\n",
      "Mo Tu We Th Fr Sa Su\n",
      "             1  2  3\n",
      " 4  5  6  7  8  9 10\n",
      "11 12 13 14 15 16 17\n",
      "18 19 20 21 22 23 24\n",
      "25 26 27 28 29 30\n",
      "\n",
      "0\n"
     ]
    }
   ],
   "source": [
    "import calendar\n",
    "\n",
    "\n",
    "cal = calendar.Calendar()\n",
    "\n",
    "\n",
    "for day in cal.iterweekdays():\n",
    "    print(calendar.day_name[day])\n",
    "\n",
    "\n",
    "for week in cal.monthdatescalendar(2023, 9):\n",
    "    print(week)\n",
    "\n",
    "\n",
    "is_leap = calendar.isleap(2024)  # Devuelve True si es bisiesto\n",
    "\n",
    "\n",
    "month_name = calendar.month_name[9]  # Devuelve \"September\"\n",
    "\n",
    "\n",
    "days_in_month = calendar.monthrange(2023, 9)  # Devuelve (2, 30), donde 2 es el día de la semana del primer día y 30 es el número de días en septiembre de 2023\n",
    "\n",
    "\n",
    "cal_text = calendar.month(2023, 9)\n",
    "print(cal_text)\n",
    "\n",
    "\n",
    "first_weekday = calendar.firstweekday()\n",
    "print(first_weekday)\n"
   ]
  },
  {
   "cell_type": "code",
   "execution_count": 46,
   "id": "2db072f4-cd73-4d32-b6e0-35b42952eecc",
   "metadata": {
    "tags": []
   },
   "outputs": [
    {
     "name": "stdout",
     "output_type": "stream",
     "text": [
      "  septiembre 2023\n",
      "lu ma mi ju vi sÃ do\n",
      "             1  2  3\n",
      " 4  5  6  7  8  9 10\n",
      "11 12 13 14 15 16 17\n",
      "18 19 20 21 22 23 24\n",
      "25 26 27 28 29 30\n",
      "\n"
     ]
    }
   ],
   "source": [
    "import calendar\n",
    "import locale\n",
    "\n",
    "\n",
    "locale.setlocale(locale.LC_TIME, 'es_ES.utf8')  # 'es_ES.utf8' es el locale para español en formato UTF-8\n",
    "\n",
    "\n",
    "cal = calendar.Calendar()\n",
    "\n",
    "\n",
    "cal_text = calendar.month(2023, 9)\n",
    "\n",
    "\n",
    "print(cal_text)\n"
   ]
  },
  {
   "cell_type": "code",
   "execution_count": null,
   "id": "edcd6df5-b08c-4271-a17c-47055ade0158",
   "metadata": {},
   "outputs": [],
   "source": []
  }
 ],
 "metadata": {
  "kernelspec": {
   "display_name": "Python 3 (ipykernel)",
   "language": "python",
   "name": "python3"
  },
  "language_info": {
   "codemirror_mode": {
    "name": "ipython",
    "version": 3
   },
   "file_extension": ".py",
   "mimetype": "text/x-python",
   "name": "python",
   "nbconvert_exporter": "python",
   "pygments_lexer": "ipython3",
   "version": "3.11.4"
  }
 },
 "nbformat": 4,
 "nbformat_minor": 5
}
