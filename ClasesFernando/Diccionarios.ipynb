{
 "cells": [
  {
   "cell_type": "markdown",
   "metadata": {},
   "source": [
    "## Ejercicio 1\n",
    "Crea un programa que recorra una lista y cree un diccionario que contenga el número de veces que\n",
    "aparece cada número en la lista.\n",
    "- **Ejemplo:** [12, 23, 5, 12, 92, 5, 12, 5, 29, 92, 64, 23]\n",
    "- __Resultado:__ {12: 3, 23: 2, 5: 3, 92: 2, 29: 1, 64: 1}"
   ]
  },
  {
   "cell_type": "code",
   "execution_count": 8,
   "metadata": {},
   "outputs": [
    {
     "name": "stdout",
     "output_type": "stream",
     "text": [
      "{12: 3, 23: 2, 5: 3, 92: 2, 29: 1, 64: 1}\n"
     ]
    }
   ],
   "source": [
    "lista = [12, 23, 5, 12, 92, 5, 12, 5, 29, 92, 64, 23]\n",
    "dict_numeros = dict()\n",
    "for n in lista:\n",
    "    dict_numeros[n] = lista.count(n)\n",
    "print(dict_numeros)"
   ]
  },
  {
   "cell_type": "markdown",
   "metadata": {},
   "source": [
    "## Ejercicio 2\n",
    "Recorre un diccionario y crea una lista solo con los valores que contiene, sin añadir valores\n",
    "duplicados.\n",
    "- **Ejemplo:** {'Mikel': 3, 'Ane': 8, 'Amaia': 12, 'Unai': 5, 'Jon': 8, 'Ainhoa': 7, 'Maite': 5}\n",
    "- __Resultado:__ [3, 8, 12, 5, 7]"
   ]
  },
  {
   "cell_type": "code",
   "execution_count": 3,
   "metadata": {},
   "outputs": [
    {
     "name": "stdout",
     "output_type": "stream",
     "text": [
      "[3, 5, 7, 8, 12]\n"
     ]
    }
   ],
   "source": [
    "diccionario = {'Mikel': 3, 'Ane': 8, 'Amaia': 12, 'Unai': 5, 'Jon': 8, 'Ainhoa': 7, 'Maite': 5}\n",
    "valores = list(set(diccionario.values()))\n",
    "print(valores)"
   ]
  },
  {
   "cell_type": "markdown",
   "metadata": {},
   "source": [
    "## Ejercicio 3\n",
    "Crea una programa de Login que compruebe el usuario y contraseña en el diccionario a continuación:\n",
    "<pre>\n",
    "usuarios = {\n",
    "    \"iperurena\": {\n",
    "        \"nombre\": \"Iñaki\",\n",
    "        \"apellido\": \"Perurena\",\n",
    "        \"password\": \"123123\"\n",
    "    },\n",
    "    \"fmuguruza\": {\n",
    "        \"nombre\": \"Fermín\",\n",
    "        \"apellido\": \"Muguruza\",\n",
    "        \"password\": \"654321\"\n",
    "    },\n",
    "    \"aolaizola\": {\n",
    "        \"nombre\": \"Aimar\",\n",
    "        \"apellido\": \"Olaizola\",\n",
    "        \"password\": \"123456\"\n",
    "    }\n",
    "}\n",
    "</pre>\n",
    "El usuario tendrá un máximo de 3 intentos, y al acceder correctamente se mostrará el nombre y\n",
    "apellido del usuario."
   ]
  },
  {
   "cell_type": "code",
   "execution_count": 5,
   "metadata": {},
   "outputs": [
    {
     "name": "stdout",
     "output_type": "stream",
     "text": [
      "Datos incorrectos. Intentos restantes: 3\n",
      "¡Bienvenid@ Iñaki Perurena!\n"
     ]
    }
   ],
   "source": [
    "usuarios = {\n",
    "    \"iperurena\": {\n",
    "        \"nombre\": \"Iñaki\",\n",
    "        \"apellido\": \"Perurena\",\n",
    "        \"password\": \"123123\"\n",
    "    },\n",
    "    \"fmuguruza\": {\n",
    "        \"nombre\": \"Fermín\",\n",
    "        \"apellido\": \"Muguruza\",\n",
    "        \"password\": \"654321\"\n",
    "    },\n",
    "    \"aolaizola\": {\n",
    "        \"nombre\": \"Aimar\",\n",
    "        \"apellido\": \"Olaizola\",\n",
    "        \"password\": \"123456\"\n",
    "    }\n",
    "}\n",
    "\n",
    "intentos = 3\n",
    "for intento in range(intentos, -1, -1):\n",
    "    input_u = input('Introduzca el nombre de usuario: ')\n",
    "    input_p = input('Introduzca la contraseña: ')\n",
    "    if input_u in usuarios and input_p == usuarios[input_u]['password']:\n",
    "        print(f\"¡Bienvenid@ {usuarios[input_u]['nombre']} {usuarios[input_u]['apellido']}!\")\n",
    "        break\n",
    "    else:\n",
    "        print('Datos incorrectos.', f'Intentos restantes: {intento}' if intento != 0 else 'Has agotado todos tus intentos')"
   ]
  },
  {
   "cell_type": "markdown",
   "metadata": {},
   "source": [
    "## Ejercicio 4\n",
    "Crea un programa que permita introducir a un profesor las notas de sus estudiantes (máximo 10\n",
    "estudiantes). Los datos se deberán almacenar en un diccionario como el siguiente:\n",
    "<pre>\n",
    "estudiantes = {\n",
    "    \"1\": {\n",
    "        \"nombre\": \"Lorea\",\n",
    "        \"nota\": 8\n",
    "    },\n",
    "    \"2\": {\n",
    "        \"nombre\": \"Markel\",\n",
    "        \"nota\": \"4.2\"\n",
    "    },\n",
    "    \"3\": {\n",
    "        \"nombre\": \"Julen\",\n",
    "        \"apellido\": 6.5\n",
    "    }\n",
    "}\n",
    "</pre>\n",
    "Una vez introducidos todos los datos, el programa mostrará una lista con los nombres de los\n",
    "estudiantes que han suspendido y otra con los que han aprobado. También calculará y mostrará\n",
    "la nota media de la clase."
   ]
  },
  {
   "cell_type": "code",
   "execution_count": 8,
   "metadata": {},
   "outputs": [
    {
     "name": "stdout",
     "output_type": "stream",
     "text": [
      "Lista de alumnos suspendidos: Markel, Alejandro\n",
      "Lista de alumnos aprobados: Lorea, Julen\n",
      "Media de los alumnos: 5.42\n"
     ]
    }
   ],
   "source": [
    "def get_float(texto):\n",
    "  num = None\n",
    "  while (type(num) != float):\n",
    "    num = input('Introduzca '+texto+': ')\n",
    "    try:\n",
    "      num = float(num)\n",
    "    except:\n",
    "      print('El dato introducido no es un número')\n",
    "  return num\n",
    "\n",
    "def add_students(diccionario, nombre):\n",
    "    nota = get_float(f'la nota de {nombre}')\n",
    "    diccionario[len(diccionario)+1] = {'nombre': nombre, 'nota': nota}\n",
    "\n",
    "n_estudiantes = 10\n",
    "estudiantes = dict()\n",
    "for i in range(1, n_estudiantes+1):\n",
    "  nombre = input(f'Introduzca el nombre del estudiante ({i}/{n_estudiantes}) o \\'fin\\' para acabar: ')\n",
    "  if (nombre != 'fin'):\n",
    "    add_students(estudiantes, nombre)\n",
    "  else:\n",
    "    break\n",
    "aprobados = [estudiante['nombre'] for estudiante in estudiantes.values() if estudiante[\"nota\"] >= 5]\n",
    "suspendidos = [estudiante['nombre'] for estudiante in estudiantes.values() if estudiante[\"nota\"] < 5]\n",
    "notas = [estudiante['nota'] for estudiante in estudiantes.values()]\n",
    "print('Lista de alumnos suspendidos:', ', '.join(suspendidos))\n",
    "print('Lista de alumnos aprobados:', ', '.join(aprobados))\n",
    "print(f'Media de los alumnos: {(sum(notas)/len(notas)):.2f}')"
   ]
  }
 ],
 "metadata": {
  "kernelspec": {
   "display_name": "base",
   "language": "python",
   "name": "python3"
  },
  "language_info": {
   "codemirror_mode": {
    "name": "ipython",
    "version": 3
   },
   "file_extension": ".py",
   "mimetype": "text/x-python",
   "name": "python",
   "nbconvert_exporter": "python",
   "pygments_lexer": "ipython3",
   "version": "3.11.3"
  },
  "orig_nbformat": 4
 },
 "nbformat": 4,
 "nbformat_minor": 2
}
