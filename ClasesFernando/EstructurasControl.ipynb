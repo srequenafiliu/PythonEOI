{
 "cells": [
  {
   "cell_type": "markdown",
   "metadata": {},
   "source": [
    "## Ejercicio 1\n",
    "Crea un programa que solicite un número al usuario y devuelva el siguiente mensaje:\n",
    "- Si es mayor que 0: “Es un número positivo.”\n",
    "- Si es igual a 0: “Es igual a cero.\n",
    "- Si es menor que 0: “Es un número negativo.”\n",
    "\n",
    "**Ejemplo 1:**\n",
    "- Introduce un número: 5\n",
    "- Es un número positivo\n",
    "\n",
    "__Ejemplo 2:__\n",
    "- Introduce un número: -3\n",
    "- Es un número negativo"
   ]
  },
  {
   "cell_type": "code",
   "execution_count": 7,
   "metadata": {},
   "outputs": [
    {
     "name": "stdout",
     "output_type": "stream",
     "text": [
      "El número 5 es un número positivo\n",
      "El número -3 es un número negativo\n",
      "El número 0 es igual a cero\n"
     ]
    }
   ],
   "source": [
    "def get_int(texto):\n",
    "  num = None\n",
    "  while (type(num) != int):\n",
    "    num = input('Introduzca '+texto+': ')\n",
    "    try:\n",
    "      num = int(num)\n",
    "    except:\n",
    "      print('El dato introducido no es un número')\n",
    "  return num\n",
    "\n",
    "def comparador(num):\n",
    "    respuesta = f'El número {num} es '\n",
    "    if num > 0:\n",
    "        return respuesta+'un número positivo'\n",
    "    elif num < 0:\n",
    "        return respuesta+'un número negativo'\n",
    "    else:\n",
    "        return respuesta+'igual a cero'\n",
    "\n",
    "print(comparador(get_int('un número')))\n",
    "print(comparador(get_int('un número')))\n",
    "print(comparador(get_int('un número')))"
   ]
  },
  {
   "cell_type": "markdown",
   "metadata": {},
   "source": [
    "## Ejercicio 2\n",
    "Escribe un programa que solicite dos números enteros al usuario y muestre por pantalla la suma de\n",
    "todos los números enteros que hay entre los dos números (ambos números incluidos).\n",
    "\n",
    "**Ejemplo 1:**\n",
    "- Introduce el número de inicio: 4\n",
    "- Introduce el número de fin: 8\n",
    "- El resultado es: 30\n",
    "\n",
    "__Ejemplo 2:__\n",
    "- Introduce el número de inicio: 10\n",
    "- Introduce el número de fin: 15\n",
    "- El resultado es: 75"
   ]
  },
  {
   "cell_type": "code",
   "execution_count": 13,
   "metadata": {},
   "outputs": [
    {
     "name": "stdout",
     "output_type": "stream",
     "text": [
      "El resultado es 30\n"
     ]
    }
   ],
   "source": [
    "n1 = get_int('el número de inicio')\n",
    "n2 = get_int('el número de fin')\n",
    "\n",
    "suma = 0\n",
    "for num in range(n1, n2+1) if n2>n1 else range(n2,n1+1):\n",
    "    suma += num\n",
    "print(f'El resultado es {suma}')"
   ]
  },
  {
   "cell_type": "markdown",
   "metadata": {},
   "source": [
    "## Ejercicio 3\n",
    "Mejora el programa anterior para que muestre por separado la suma de los números pares y los\n",
    "impares.\n",
    "\n",
    "**Ejemplo 1:**\n",
    "- Introduce el número de inicio: 4\n",
    "- Introduce el número de fin: 8\n",
    "- Los pares suman 18 y los impares 12\n",
    "\n",
    "__Ejemplo 2:__\n",
    "- Introduce el número de inicio: 10\n",
    "- Introduce el número de fin: 15\n",
    "- Los pares suman 36 y los impares 39"
   ]
  },
  {
   "cell_type": "code",
   "execution_count": 14,
   "metadata": {},
   "outputs": [
    {
     "name": "stdout",
     "output_type": "stream",
     "text": [
      "Los pares suman 36 y los impares suman 39\n"
     ]
    }
   ],
   "source": [
    "n1 = get_int('el número de inicio')\n",
    "n2 = get_int('el número de fin')\n",
    "\n",
    "s_par, s_impar = 0, 0\n",
    "for num in range(n1, n2+1) if n2>n1 else range(n2,n1+1):\n",
    "    if num%2 == 0:\n",
    "        s_par += num\n",
    "    else:\n",
    "        s_impar += num\n",
    "print(f'Los pares suman {s_par} y los impares suman {s_impar}')"
   ]
  },
  {
   "cell_type": "markdown",
   "metadata": {},
   "source": [
    "## Ejercicio 4\n",
    "Escribe un programa que solicite al usuario un nombre de usuario y contraseña. El programa\n",
    "mostrará el mensaje “¡Bienvenido!” si el usuario introduce los siguientes datos:\n",
    "- Nombre de usuario: root\n",
    "- Contraseña: toor\n",
    "\n",
    "Si los datos de acceso son incorrectos mostrará el mensaje “Acceso fallido” y el programa finalizará.\n",
    "\n",
    "**Ejemplo 1:**\n",
    "- Introduce el nombre de usuario: root\n",
    "- Introduce la contraseña: toor\n",
    "- ¡Bienvenido!\n",
    "\n",
    "__Ejemplo 2:__\n",
    "- Introduce el nombre de usuario: root\n",
    "- Introduce la contraseña: 123456\n",
    "- Acceso fallido"
   ]
  },
  {
   "cell_type": "code",
   "execution_count": 17,
   "metadata": {},
   "outputs": [
    {
     "name": "stdout",
     "output_type": "stream",
     "text": [
      "Acceso fallido\n"
     ]
    }
   ],
   "source": [
    "usuario, password = 'root', 'toor'\n",
    "\n",
    "input_u = input('Introduzca el nombre de usuario: ')\n",
    "input_p = input('Introduzca la contraseña: ')\n",
    "\n",
    "print('¡Bienvenido' if input_u is usuario and input_p is password else 'Acceso fallido')"
   ]
  },
  {
   "cell_type": "markdown",
   "metadata": {},
   "source": [
    "## Ejercicio 5\n",
    "Mejora el programa anterior para que solo permita 3 intentos. Cada vez vez que el usuario introduzca\n",
    "datos de acceso incorrectos el programa mostrará el mensaje: “Datos incorrectos. Le quedan X\n",
    "intentos.”, siendo X el número de intentos restantes. Tras el tercer fallo el programa mostrará el\n",
    "mensaje “Has agotado todos tus intentos.” y finalizará.\n",
    "**Ejemplo:**\n",
    "- Introduce el nombre de usuario: root\n",
    "- Introduce la contraseña: 123456\n",
    "- Datos incorrectos. Le quedan 2 intentos.\n",
    "- Introduce el nombre de usuario: root\n",
    "- Introduce la contraseña: abcd\n",
    "- Datos incorrectos. Le quedan 1 intentos.\n",
    "- Introduce el nombre de usuario: root\n",
    "- Introduce la contraseña: 123abc\n",
    "- Datos incorrectos. Le quedan 0 intentos.\n",
    "- Has agotado todos tus intentos."
   ]
  },
  {
   "cell_type": "code",
   "execution_count": 20,
   "metadata": {},
   "outputs": [
    {
     "name": "stdout",
     "output_type": "stream",
     "text": [
      "Datos incorrectos. Intentos restantes: 3\n",
      "Datos incorrectos. Intentos restantes: 2\n",
      "Datos incorrectos. Intentos restantes: 1\n",
      "Datos incorrectos. Has agotado todos tus intentos\n"
     ]
    }
   ],
   "source": [
    "usuario, password = 'root', 'toor'\n",
    "intentos = 3\n",
    "for intento in range(intentos, -1, -1):\n",
    "    input_u = input('Introduzca el nombre de usuario: ')\n",
    "    input_p = input('Introduzca la contraseña: ')\n",
    "    if input_u == usuario and input_p == password:\n",
    "        print('¡Bienvenido!')\n",
    "        break\n",
    "    else:\n",
    "        print('Datos incorrectos.', f'Intentos restantes: {intento}' if intento != 0 else 'Has agotado todos tus intentos')"
   ]
  },
  {
   "cell_type": "markdown",
   "metadata": {},
   "source": [
    "## Ejercicio 6\n",
    "Crea un programa que reciba 5 números del usuario y muestre el mayor de todos por pantalla.\n",
    "__Ejemplo:__\n",
    "- Introduce un número: 5\n",
    "- Introduce un número: -10\n",
    "- Introduce un número: 2\n",
    "- Introduce un número: 14\n",
    "- Introduce un número: 7\n",
    "- El número más alto es: 14"
   ]
  },
  {
   "cell_type": "code",
   "execution_count": 8,
   "metadata": {},
   "outputs": [
    {
     "name": "stdout",
     "output_type": "stream",
     "text": [
      "Lista de números: [5, -10, 2, 14, 7]\n",
      "El número más alto es 14\n"
     ]
    }
   ],
   "source": [
    "lista_num = list()\n",
    "for i in range(0, 5):\n",
    "    lista_num.append(get_int(f'el número ({i+1}/5)'))\n",
    "print(f\"Lista de números: {lista_num}\")\n",
    "print(f'El número más alto es {max(lista_num)}')"
   ]
  },
  {
   "cell_type": "markdown",
   "metadata": {},
   "source": [
    "## Ejercicio 7\n",
    "Mejora el programa anterior, de forma que el usuario pueda introducir tantos números como quiera.\n",
    "El programa solicitará números al usuario hasta que introduzca la palabra “fin”. Entonces mostrará\n",
    "el mayor de todos por pantalla.\n",
    "**Ejemplo:**\n",
    "- Introduce un número: 6\n",
    "- Introduce un número: 9\n",
    "- Introduce un número: 11\n",
    "- Introduce un número: 3\n",
    "- Introduce un número: 5\n",
    "- Introduce un número: fin\n",
    "- El número más alto es: 11"
   ]
  },
  {
   "cell_type": "code",
   "execution_count": 9,
   "metadata": {},
   "outputs": [
    {
     "name": "stdout",
     "output_type": "stream",
     "text": [
      "Lista de números: [6, 9, 11, 3, 5]\n",
      "El número más alto es 11\n"
     ]
    }
   ],
   "source": [
    "lista_num = list()\n",
    "dato = None\n",
    "\n",
    "while dato != 'fin':\n",
    "    dato = input('Introduzca un número o \\'fin\\' para acabar: ')\n",
    "    try:\n",
    "        if dato != 'fin':\n",
    "         dato = int(dato)\n",
    "         lista_num.append(dato)\n",
    "        else:\n",
    "           break\n",
    "    except:\n",
    "       print('El dato introducido no es un número')\n",
    "print(f\"Lista de números: {lista_num}\")\n",
    "print(f'El número más alto es {max(lista_num)}')"
   ]
  }
 ],
 "metadata": {
  "kernelspec": {
   "display_name": "base",
   "language": "python",
   "name": "python3"
  },
  "language_info": {
   "codemirror_mode": {
    "name": "ipython",
    "version": 3
   },
   "file_extension": ".py",
   "mimetype": "text/x-python",
   "name": "python",
   "nbconvert_exporter": "python",
   "pygments_lexer": "ipython3",
   "version": "3.11.3"
  },
  "orig_nbformat": 4
 },
 "nbformat": 4,
 "nbformat_minor": 2
}
