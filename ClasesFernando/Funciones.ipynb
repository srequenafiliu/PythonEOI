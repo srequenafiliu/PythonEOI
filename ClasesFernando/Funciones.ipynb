{
 "cells": [
  {
   "cell_type": "markdown",
   "metadata": {},
   "source": [
    "## Ejercicio 1\n",
    "Crea un programa que determine si un número es primo o no. Deberás crear la función esPrimo()que reciba como parámetro un número y devuelva **True** o __False__ indicando si el número es primo o no."
   ]
  },
  {
   "cell_type": "code",
   "execution_count": 11,
   "metadata": {},
   "outputs": [
    {
     "name": "stdout",
     "output_type": "stream",
     "text": [
      "El número 13 es primo\n",
      "El número 6 no es primo\n"
     ]
    }
   ],
   "source": [
    "def esPrimo(numero):\n",
    "    for i in range(numero-1, 1, -1):\n",
    "        if numero%i == 0:\n",
    "            return False\n",
    "    return True\n",
    "\n",
    "n1, n2 = 13, 6\n",
    "print(f'El número {n1} '+('no ' if not esPrimo(n1) else '')+'es primo')\n",
    "print(f'El número {n2} '+('no ' if not esPrimo(n2) else '')+'es primo')"
   ]
  },
  {
   "cell_type": "markdown",
   "metadata": {},
   "source": [
    "## Ejercicio 2\n",
    "Crea un programa que genere un número aleatorio del 1 al 10. El usuario tendrá que adivinarlo, y el programa tras cada intento le indicará al usuario si el número es más alto, bajo o si ha acertado. La lógica para dar la respuesta al usuario deberá estar incluida en una función a la que se llamará tras cada intento.\\\n",
    "**Nota:** Para la creación del número aleatorio, utiliza el siguiente código:\n",
    "<pre>\n",
    "from random import randint, uniform, random\n",
    "\n",
    "numero = randint(0,10) \n",
    "</pre>"
   ]
  },
  {
   "cell_type": "code",
   "execution_count": 2,
   "metadata": {},
   "outputs": [
    {
     "name": "stdout",
     "output_type": "stream",
     "text": [
      "El número que buscas es mayor que 1\n",
      "El número que buscas es mayor que 2\n",
      "El número que buscas es mayor que 3\n",
      "Enhorabuena. Has acertado en tu intento nº4\n"
     ]
    }
   ],
   "source": [
    "from random import randint, uniform, random\n",
    "\n",
    "def get_number(n_max):\n",
    "  num = None\n",
    "  while (type(num) != int or not num in range(1, n_max+1)):\n",
    "    num = input(f'Introduzca un número del 1 al {n_max}: ')\n",
    "    try:\n",
    "      num = int(num)\n",
    "    except:\n",
    "      print('El dato introducido no es un número')\n",
    "  return num\n",
    "\n",
    "def comprobar(intento):\n",
    "    if intento < numero:\n",
    "       print(f'El número que buscas es mayor que {intento}')\n",
    "    elif intento > numero:\n",
    "       print(f'El número que buscas es menor que {intento}')\n",
    "    else:\n",
    "       return True\n",
    "    return False\n",
    "\n",
    "numero = randint(1,10)\n",
    "n_input = None\n",
    "n_intento = 1\n",
    "while n_input != numero:\n",
    "   n_input = get_number(10)\n",
    "   acierto = comprobar(n_input)\n",
    "   if acierto:\n",
    "      print(f'Enhorabuena. Has acertado en tu intento nº{n_intento}')\n",
    "      break\n",
    "   else:\n",
    "      n_intento+=1"
   ]
  },
  {
   "cell_type": "markdown",
   "metadata": {},
   "source": [
    "## Ejercicio 3\n",
    "Crea un programa que reciba un número del 1 al 20 introducido por el usuario y compruebe si está dentro de la siguiente lista: [6,14,11,3,2,1,15,19]. Implementa una función que se asegure que el número introducido por el usuario está en el rango indicado y otra que compruebe si está dentro de la lista. Trata de crear las funciones de forma que puedan ser reutilizadas lo máximo posible en otros programas."
   ]
  },
  {
   "cell_type": "code",
   "execution_count": 3,
   "metadata": {},
   "outputs": [
    {
     "name": "stdout",
     "output_type": "stream",
     "text": [
      "El número 4 no se encuentra en la lista\n"
     ]
    }
   ],
   "source": [
    "lista_num = [6,14,11,3,2,1,15,19]\n",
    "\n",
    "def n_in_list(num, lista):\n",
    "    return num in lista\n",
    "\n",
    "n_input = get_number(20)\n",
    "print(f'El número {n_input} '+('no ' if not n_in_list(n_input, lista_num) else '')+'se encuentra en la lista')"
   ]
  }
 ],
 "metadata": {
  "kernelspec": {
   "display_name": "base",
   "language": "python",
   "name": "python3"
  },
  "language_info": {
   "codemirror_mode": {
    "name": "ipython",
    "version": 3
   },
   "file_extension": ".py",
   "mimetype": "text/x-python",
   "name": "python",
   "nbconvert_exporter": "python",
   "pygments_lexer": "ipython3",
   "version": "3.11.3"
  },
  "orig_nbformat": 4
 },
 "nbformat": 4,
 "nbformat_minor": 2
}
