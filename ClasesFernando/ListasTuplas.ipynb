{
 "cells": [
  {
   "cell_type": "markdown",
   "metadata": {},
   "source": [
    "## Ejercicio 1\n",
    "Dada la siguiente lista **[12, 23, 5, 29, 92, 64]** realiza las siguientes operaciones y vete mostrando\n",
    "la lista resultante por pantalla:\n",
    "1. Elimina el último número y añádelo al principio.\n",
    "2. Mueve el segundo elemento a la última posición.\n",
    "3. Añade el número 14 al comienzo de la lista.\n",
    "4. Suma todos los números de la lista y añade el resultado al final de la lista.\n",
    "5. Fusiona la lista actual con la siguiente: [4, 11, 32]\n",
    "6. Elimina todos los números impares de la lista.\n",
    "7. Ordena los números de la lista de forma ascendente.\n",
    "8. Vacía la lista.\n",
    "\n",
    "__Resultado:__\n",
    "1. [64, 12, 23, 5, 29, 92]\n",
    "2. [64, 23, 5, 29, 92, 12]\n",
    "3. [14, 64, 23, 5, 29, 92, 12]\n",
    "4. [14, 64, 23, 5, 29, 92, 12, 239]\n",
    "5. [14, 64, 23, 5, 29, 92, 12, 239, 4, 11, 32]\n",
    "6. [14, 64, 92, 12, 4, 32]\n",
    "7. [4, 12, 14, 32, 64, 92]\n",
    "8. []"
   ]
  },
  {
   "cell_type": "code",
   "execution_count": 1,
   "metadata": {},
   "outputs": [
    {
     "name": "stdout",
     "output_type": "stream",
     "text": [
      "1. [64, 12, 23, 5, 29, 92]\n",
      "2. [64, 23, 5, 29, 92, 12]\n",
      "3. [14, 64, 23, 5, 29, 92, 12]\n",
      "4. [14, 64, 23, 5, 29, 92, 12, 239]\n",
      "5. [14, 64, 23, 5, 29, 92, 12, 239, 4, 11, 32]\n",
      "6. [14, 64, 92, 12, 4, 32]\n",
      "7. [4, 12, 14, 32, 64, 92]\n",
      "8. []\n"
     ]
    }
   ],
   "source": [
    "lista = [12, 23, 5, 29, 92, 64]\n",
    "lista.insert(0, lista.pop())\n",
    "print('1.', lista)\n",
    "lista.append(lista.pop(1)) # Segunda posición = 1\n",
    "print('2.', lista)\n",
    "lista.insert(0, 14)\n",
    "print('3.', lista)\n",
    "suma = 0\n",
    "for n in lista:\n",
    "    suma += n\n",
    "lista.append(suma)\n",
    "print('4.', lista)\n",
    "lista.extend([4, 11, 32])\n",
    "print('5.', lista)\n",
    "lista = [i for i in lista if i%2 == 0]\n",
    "print('6.', lista)\n",
    "lista.sort()\n",
    "print('7.', lista)\n",
    "lista.clear() \n",
    "print('8.', lista)"
   ]
  },
  {
   "cell_type": "markdown",
   "metadata": {},
   "source": [
    "## Ejercicio 2\n",
    "Crea un programa que solicite al usuario 5 números y los guarde en una lista. A continuación el\n",
    "programa pedirá otros 5 números al usuario almacenándolos en una segunda lista. El programa\n",
    "mostrará al usuario una lista que contenga los números que tienen en común las dos listas anteriores.\n",
    "- **Ejemplo:** Lista 1 = [6,14,11,78,5] y Lista 2 = [3,14,22,78,9]\n",
    "- __Resultado:__ [14, 78]"
   ]
  },
  {
   "cell_type": "code",
   "execution_count": 22,
   "metadata": {},
   "outputs": [
    {
     "name": "stdout",
     "output_type": "stream",
     "text": [
      "Lista 1: [6, 14, 11, 78, 5]\n",
      "Lista 2: [3, 14, 22, 78, 9]\n",
      "Números coincidentes: [78, 14]\n"
     ]
    }
   ],
   "source": [
    "def guardar_nums():\n",
    "  lista = list()\n",
    "  dato = None\n",
    "  while dato != 'fin':\n",
    "    dato = input('Introduzca un número o \\'fin\\' para acabar: ')\n",
    "    try:\n",
    "      if dato != 'fin':\n",
    "        dato = int(dato)\n",
    "        lista.append(dato)\n",
    "      else:\n",
    "        break\n",
    "    except:\n",
    "      print('El dato introducido no es un número')\n",
    "  return lista\n",
    "\n",
    "lista_1, lista_2 = guardar_nums(), guardar_nums()\n",
    "\n",
    "conjunto_1, conjunto_2 = set(lista_1), set(lista_2)\n",
    "print('Lista 1:', lista_1)\n",
    "print('Lista 2:', lista_2)\n",
    "print('Números coincidentes:', list(conjunto_1.intersection(conjunto_2)))"
   ]
  }
 ],
 "metadata": {
  "kernelspec": {
   "display_name": "base",
   "language": "python",
   "name": "python3"
  },
  "language_info": {
   "codemirror_mode": {
    "name": "ipython",
    "version": 3
   },
   "file_extension": ".py",
   "mimetype": "text/x-python",
   "name": "python",
   "nbconvert_exporter": "python",
   "pygments_lexer": "ipython3",
   "version": "3.11.3"
  },
  "orig_nbformat": 4
 },
 "nbformat": 4,
 "nbformat_minor": 2
}
