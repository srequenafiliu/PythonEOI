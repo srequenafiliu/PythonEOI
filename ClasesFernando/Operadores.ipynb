{
 "cells": [
  {
   "cell_type": "markdown",
   "metadata": {},
   "source": [
    "## Ejercicio 1\n",
    "Crea un programa que solicite al usuario un número del 1 al 10 y muestre por pantalla la tabla de\n",
    "multiplicación del 1 al 10.\n",
    "\n",
    "**Ejemplo:** Introduce un número del 1 al 10: 3\n",
    "- 3 x 1 = 3\n",
    "- 3 x 2 = 6\n",
    "- 3 x 3 = 9\n",
    "- 3 x 4 = 12\n",
    "- 3 x 5 = 15\n",
    "- 3 x 6 = 18\n",
    "- 3 x 7 = 21\n",
    "- 3 x 8 = 24\n",
    "- 3 x 9 = 27\n",
    "- 3 x 10 = 30"
   ]
  },
  {
   "cell_type": "code",
   "execution_count": 6,
   "metadata": {},
   "outputs": [
    {
     "name": "stdout",
     "output_type": "stream",
     "text": [
      "Tabla de multiplicar del 3: \n",
      "· 3 x 1 = 3\n",
      "· 3 x 2 = 6\n",
      "· 3 x 3 = 9\n",
      "· 3 x 4 = 12\n",
      "· 3 x 5 = 15\n",
      "· 3 x 6 = 18\n",
      "· 3 x 7 = 21\n",
      "· 3 x 8 = 24\n",
      "· 3 x 9 = 27\n",
      "· 3 x 10 = 30\n"
     ]
    }
   ],
   "source": [
    "def get_number():\n",
    "  num = None\n",
    "  while (type(num) != int or not num in range(1, 10)):\n",
    "    num = input('Introduzca un número del 1 al 10: ')\n",
    "    try:\n",
    "      num = int(num)\n",
    "    except:\n",
    "      print('El dato introducido no es un número')\n",
    "  return num\n",
    "\n",
    "num = get_number()\n",
    "print(f'Tabla de multiplicar del {num}: ')\n",
    "for n in range(1, 11):\n",
    "    print(f'· {num} x {n} = {n*num}')"
   ]
  },
  {
   "cell_type": "markdown",
   "metadata": {},
   "source": [
    "## Ejercicio 2\n",
    "Crea un programa que solicite al usuario dos números enteros y muestre por pantalla el resultado\n",
    "de las siguientes operaciones: suma, resta, multiplicación y división.\n",
    "__Ejemplo:__\n",
    "- Introduce el primer número: 8\n",
    "- Introduce el segundo número: 2\n",
    "- La suma es: 10\n",
    "- La resta es: 6\n",
    "- La multiplicación es: 16\n",
    "- La división es: 4.0"
   ]
  },
  {
   "cell_type": "code",
   "execution_count": 7,
   "metadata": {},
   "outputs": [
    {
     "name": "stdout",
     "output_type": "stream",
     "text": [
      "Primer número: 8\n",
      "Segundo número: 2\n",
      "Suma: 10\n",
      "Resta: 6\n",
      "Multiplicación: 16\n",
      "División: 4.0\n"
     ]
    }
   ],
   "source": [
    "def get_int(texto):\n",
    "  num = None\n",
    "  while (type(num) != int):\n",
    "    num = input('Introduzca '+texto+': ')\n",
    "    try:\n",
    "      num = int(num)\n",
    "    except:\n",
    "      print('El dato introducido no es un número')\n",
    "  return num\n",
    "\n",
    "n1 = get_int('el primer número')\n",
    "n2 = get_int('el segundo número')\n",
    "\n",
    "print(f'Primer número: {n1}')\n",
    "print(f'Segundo número: {n2}')\n",
    "print(f'Suma: {n1+n2}')\n",
    "print(f'Resta: {n1-n2}')\n",
    "print(f'Multiplicación: {n1*n2}')\n",
    "print(f'División: {n1/n2}')"
   ]
  },
  {
   "cell_type": "markdown",
   "metadata": {},
   "source": [
    "## Ejercicio 3\n",
    "Crea un programa que solicite al usuario el radio de un círculo y calcule el área.\n",
    "Nota: Utiliza 3.14159 como número PI para el cálculo del área.\n",
    "**Ejemplo:**\n",
    "- Introduce el radio: 3\n",
    "- El área es: 28.274309999999996"
   ]
  },
  {
   "cell_type": "code",
   "execution_count": 10,
   "metadata": {},
   "outputs": [
    {
     "name": "stdout",
     "output_type": "stream",
     "text": [
      "Área del círculo con radio 3: 28.274333882308138\n"
     ]
    }
   ],
   "source": [
    "import math\n",
    "\n",
    "def area_circulo(r):\n",
    "    return math.pi*(r**2)\n",
    "\n",
    "radio = get_int('el radio')\n",
    "print(f'Área del círculo con radio {radio}: {area_circulo(radio)}')"
   ]
  }
 ],
 "metadata": {
  "kernelspec": {
   "display_name": "base",
   "language": "python",
   "name": "python3"
  },
  "language_info": {
   "codemirror_mode": {
    "name": "ipython",
    "version": 3
   },
   "file_extension": ".py",
   "mimetype": "text/x-python",
   "name": "python",
   "nbconvert_exporter": "python",
   "pygments_lexer": "ipython3",
   "version": "3.11.3"
  },
  "orig_nbformat": 4
 },
 "nbformat": 4,
 "nbformat_minor": 2
}
