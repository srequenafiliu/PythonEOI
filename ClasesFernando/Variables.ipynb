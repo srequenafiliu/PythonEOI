{
 "cells": [
  {
   "cell_type": "markdown",
   "metadata": {},
   "source": [
    "## Ejercicio 1\n",
    "Escribe un programa que contenga las siguientes variables:\n",
    "- **nombre:** tipo *string* y valor “Michael Jordan”\n",
    "- __edad:__ tipo _integer_ y valor 50\n",
    "- **media_puntos:** tipo *float* y valor 28.5\n",
    "- __activo:__ False\n",
    "El programa deberá mostrar en pantalla todos los valores."
   ]
  },
  {
   "cell_type": "code",
   "execution_count": 1,
   "metadata": {},
   "outputs": [
    {
     "name": "stdout",
     "output_type": "stream",
     "text": [
      "Nombre: Michael Jordan\n",
      "Edad: 50\n",
      "Media de puntos: 28.5\n",
      "¿Está activo? No\n"
     ]
    }
   ],
   "source": [
    "# Ejercicio 1\n",
    "nombre = 'Michael Jordan'\n",
    "edad = 50\n",
    "media_puntos = 28.5\n",
    "activo = False\n",
    "print('Nombre:', nombre)\n",
    "print('Edad:', edad)\n",
    "print('Media de puntos:', media_puntos)\n",
    "print('¿Está activo?', 'Sí' if activo else 'No')"
   ]
  },
  {
   "cell_type": "markdown",
   "metadata": {},
   "source": [
    "## Ejercicio 2\n",
    "Escribe un programa que solicite el nombre, DNI y edad, lo almacene en 3 variables distintas y\n",
    "muestre por pantalla los valores introducidos."
   ]
  },
  {
   "cell_type": "code",
   "execution_count": 2,
   "metadata": {},
   "outputs": [
    {
     "name": "stdout",
     "output_type": "stream",
     "text": [
      "Nombre: Sandra\n",
      "DNI: 12345678T\n",
      "Edad: 23\n"
     ]
    }
   ],
   "source": [
    "nombre = input('Introduzca su nombre: ')\n",
    "dni = input('Introduzca su DNI: ')\n",
    "edad = input('Introduzca su edad: ')\n",
    "print('Nombre:', nombre)\n",
    "print('DNI:', dni)\n",
    "print('Edad:', edad)"
   ]
  },
  {
   "cell_type": "markdown",
   "metadata": {},
   "source": [
    "## Ejercicio 3\n",
    "Escribe un programa que genere un string compuesto por los primeros 3 caracteres y los últimos 3\n",
    "caracteres de un string introducido por el usuario. Pista: tendrás que utilizar la función len() en la\n",
    "obtención de los últimos 3 caracteres.\n",
    "- **Ejemplo 1:** ‘aprendiendo’\n",
    "- __Resultado 1:__ ‘aprndo’\n",
    "- **Ejemplo 2:** ‘escribiendo código’\n",
    "- __Resultado 2:__ ‘escigo’"
   ]
  },
  {
   "cell_type": "code",
   "execution_count": 1,
   "metadata": {},
   "outputs": [
    {
     "name": "stdout",
     "output_type": "stream",
     "text": [
      "Cadena introducida: escribiendo código\n",
      "Resultado: escigo\n"
     ]
    }
   ],
   "source": [
    "cadena = None\n",
    "while(cadena == None or len(cadena)<3):\n",
    "  cadena = input('Introduzca una cadena de mínimo 3 caracteres: ')\n",
    "print('Cadena introducida:', cadena)\n",
    "print('Resultado:', cadena[:3] + cadena[-3::])"
   ]
  },
  {
   "cell_type": "markdown",
   "metadata": {},
   "source": [
    "## Ejercicio 4\n",
    "Escribe un programa que solicite al usuario dos números y una frase. El primer número introducido\n",
    "se corresponderá a la posición de inicio del substring que deberá mostrar el programa por pantalla.\n",
    "El segundo número indicará la longitud de dicho substring.\n",
    "- **Ejemplo 1:** Posicion=4, Longitud=8, Frase=’Desarrollar es mi nueva afición’\n",
    "- __Resultado 1:__ “rrollar “\n",
    "- **Ejemplo 2:** Posicion=8, Longitud=11, Frase=’Bienvenido a la clase de programación’\n",
    "- __Resultado 2:__ “do a la cla”"
   ]
  },
  {
   "cell_type": "code",
   "execution_count": 7,
   "metadata": {},
   "outputs": [
    {
     "name": "stdout",
     "output_type": "stream",
     "text": [
      "Posición de inicio: 4\n",
      "Longitud de subcadena: 8\n",
      "rrollar \n"
     ]
    }
   ],
   "source": [
    "def get_int(texto):\n",
    "  num = None\n",
    "  while (type(num) != int):\n",
    "    num = input('Introduzca '+texto+': ')\n",
    "    try:\n",
    "      num = int(num)\n",
    "    except:\n",
    "      print('El dato introducido no es un número')\n",
    "  return num\n",
    "\n",
    "cadena = input('Introduzca una cadena: ')\n",
    "n1 = get_int('la posición del inicio de la subcadena')\n",
    "n2 = get_int('la longitud de la subcadena')\n",
    "\n",
    "print('Posición de inicio:', n1)\n",
    "print('Longitud de subcadena:', n2)\n",
    "print(cadena[n1:n1+n2] if len(cadena)>=n1+n2 else 'No se ha podido obtener la subcadena')"
   ]
  },
  {
   "cell_type": "markdown",
   "metadata": {},
   "source": [
    "## Ejercicio 5\n",
    "Escribe un programa que solicite al usuario una frase. A continuación le solicitará la letra que quiere\n",
    "reemplazar y por qué letra deberá reemplazarse. Por último el programa mostrará el número de veces\n",
    "que la letra está presente en la frase y el resultado final tras reemplazarla.\n",
    "- **Ejemplo:** ‘Desarrollar es mi nuevo pasatiempos’, ‘a’,’e’\n",
    "- __Resultado: 4__ apariciones. ‘Deserroller es mi nueve pesetiempos’"
   ]
  },
  {
   "cell_type": "code",
   "execution_count": 8,
   "metadata": {},
   "outputs": [
    {
     "name": "stdout",
     "output_type": "stream",
     "text": [
      "Frase introducida: Desarrollar es mi nuevo pasatiempo\n",
      "Letra a reemplazar: a\n",
      "Número de coincidencias: 4\n",
      "Reemplazo: e\n",
      "Frase cambiada: Deserroller es mi nuevo pesetiempo\n"
     ]
    }
   ],
   "source": [
    "frase = input('Introduzca una frase: ')\n",
    "letra_reemplazada = input('Introduzca la letra que se quiere reemplazar: ')[0]\n",
    "reemplazo = input('Introduzca la letra que será el reemplazo: ')[0]\n",
    "\n",
    "print('Frase introducida:', frase)\n",
    "print('Letra a reemplazar:', letra_reemplazada)\n",
    "print('Número de coincidencias:', frase.count(letra_reemplazada))\n",
    "print('Reemplazo:', reemplazo)\n",
    "print('Frase cambiada:', frase.replace(letra_reemplazada, reemplazo))"
   ]
  }
 ],
 "metadata": {
  "kernelspec": {
   "display_name": "base",
   "language": "python",
   "name": "python3"
  },
  "language_info": {
   "codemirror_mode": {
    "name": "ipython",
    "version": 3
   },
   "file_extension": ".py",
   "mimetype": "text/x-python",
   "name": "python",
   "nbconvert_exporter": "python",
   "pygments_lexer": "ipython3",
   "version": "3.11.3"
  },
  "orig_nbformat": 4
 },
 "nbformat": 4,
 "nbformat_minor": 2
}
