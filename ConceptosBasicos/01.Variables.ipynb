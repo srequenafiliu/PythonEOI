{
 "cells": [
  {
   "cell_type": "markdown",
   "metadata": {},
   "source": [
    "# Variables y tipos de datos\n",
    "Las variables permiten **almacenar datos del programa**. Estas serán de un tipo u otro en función de la información que se guarde en ellas."
   ]
  },
  {
   "cell_type": "markdown",
   "metadata": {},
   "source": [
    "## Convenciones para nombrar variables\n",
    "El nombre de una variable se conoce como **identificador**, y deberá cumplir las siguientes reglas:\n",
    "\n",
    "- Comenzar con una letra o un guión bajo.\n",
    "- El resto del nombre estará formado por letras, números o guiones bajos.\n",
    "- Los nombres de las variables son *case sensitive*, es decir, no es lo mismo que una variable se llame `resultado` que `RESULTADO`.\n",
    "- Existen una serie de palabras reservadas que no se pueden utilizar (def, global, return, if, for, ...).\n",
    "\n",
    "Algunas de las recomendaciones respecto a los nombres de las variables están recogidas en la [Guía oficial de Estilos PEP8 de Python](https://www.python.org/dev/peps/pep-0008/). Entre las más habituales encontramos las siguientes:\n",
    "\n",
    "- Utilizar nombres descriptivos, en minúsculas y separados por guiones bajos si fuese necesario (*snake_case*): `resultado`, `mi_variable`, `valor_anterior`, etc.\n",
    "- Escribir las constantes en mayúsculas: `MI_CONSTANTE`, `NUMERO_PI`, etc.\n",
    "- Antes y después del signo `=`, debe haber uno (y solo un) espacio en blanco."
   ]
  },
  {
   "cell_type": "markdown",
   "metadata": {},
   "source": [
    "## Declaración de variables\n",
    "En Python no se necesita especficar el tipo de datos al declarar una variable, ya que es un lenguaje de tipado dinámico. Simplemente se asigna un valor a un nombre de variable y Python determinará automáticamente el tipo. Para consultar el tipo de dato, se utiliza el método `type()`. Existen cuatro tipos de datos básicos en Python:\n",
    "- **int:** Números enteros.\n",
    "- **float:** Números decimales.\n",
    "- __str:__ Cadenas de caracteres.\n",
    "- __bool:__ Puede ser *True* o *False*."
   ]
  },
  {
   "cell_type": "code",
   "execution_count": 4,
   "metadata": {},
   "outputs": [
    {
     "name": "stdout",
     "output_type": "stream",
     "text": [
      "Edad: 30 Tipo: <class 'int'>\n",
      "Promedio: 9.5 Tipo: <class 'float'>\n",
      "Nombre: Juan Tipo: <class 'str'>\n",
      "¿Es estudiante? True Tipo: <class 'bool'>\n"
     ]
    }
   ],
   "source": [
    "edad, promedio, nombre, es_estudiante = 30, 9.5, \"Juan\", True\n",
    "print('Edad:', edad, 'Tipo:', type(edad))\n",
    "print('Promedio:', promedio, 'Tipo:', type(promedio))\n",
    "print('Nombre:', nombre, 'Tipo:', type(nombre))\n",
    "print('¿Es estudiante?', es_estudiante, 'Tipo:', type(es_estudiante))"
   ]
  },
  {
   "cell_type": "markdown",
   "metadata": {},
   "source": [
    "## Lectura de datos en Python\n",
    "La función `input()` permite introducir datos al usuario. Este dato se puede guardar en una variable para operar con él y/o mostrarlo al usuario. El tipo de esta variable siempre será de tipo `str`."
   ]
  },
  {
   "cell_type": "code",
   "execution_count": 6,
   "metadata": {},
   "outputs": [
    {
     "name": "stdout",
     "output_type": "stream",
     "text": [
      "Su nombre es Sandra\n"
     ]
    }
   ],
   "source": [
    "nombre = input(\"Escriba su nombre: \")\n",
    "print('Su nombre es', nombre)"
   ]
  },
  {
   "cell_type": "markdown",
   "metadata": {},
   "source": [
    "## Cadenas de texto (str)\n",
    "Las cadenas de texto o strings se definen mediante comillas simples (`' '`) o doble comillas (`\" \"`). La diferencia principal se encuentra en que las comillas dobles aportan mayor facilidad en textos que incluyan apóstrofes.\n",
    "\n",
    "Para definir strings multi-línea se utiliza la triples comillas, tanto simples como dobles."
   ]
  },
  {
   "cell_type": "code",
   "execution_count": 7,
   "metadata": {},
   "outputs": [
    {
     "name": "stdout",
     "output_type": "stream",
     "text": [
      "¡Hola mundo!\n",
      "I'm Sandra\n",
      "Este es un ejemplo\n",
      "de una cadena con varias líneas.\n",
      "Este es otro ejemplo\n",
      "utilizando comillas dobles.\n"
     ]
    }
   ],
   "source": [
    "mensaje, presentacion = '¡Hola mundo!', \"I'm Sandra\"\n",
    "print(mensaje, presentacion, sep=\"\\n\")\n",
    "\n",
    "parrafo = '''Este es un ejemplo\n",
    "de una cadena con varias líneas.'''\n",
    "multiline_string = \"\"\"Este es otro ejemplo\n",
    "utilizando comillas dobles.\"\"\"\n",
    "print(parrafo, multiline_string, sep=\"\\n\")"
   ]
  },
  {
   "cell_type": "markdown",
   "metadata": {},
   "source": [
    "### Operaciones con cadenas\n",
    "- **Longitud de una cadena:** Se puede obtener la longitud de una cadena utilizando la función `len()`."
   ]
  },
  {
   "cell_type": "code",
   "execution_count": 1,
   "metadata": {},
   "outputs": [
    {
     "name": "stdout",
     "output_type": "stream",
     "text": [
      "Longitud de 'Hola mundo': 10\n"
     ]
    }
   ],
   "source": [
    "mensaje = 'Hola mundo'\n",
    "print(f'Longitud de \\'{mensaje}\\':', len(mensaje))"
   ]
  },
  {
   "cell_type": "markdown",
   "metadata": {},
   "source": [
    "- __Concatenación:__ Se pueden unir cadenas utilizando el operador `+`."
   ]
  },
  {
   "cell_type": "code",
   "execution_count": 2,
   "metadata": {},
   "outputs": [
    {
     "name": "stdout",
     "output_type": "stream",
     "text": [
      "Nombre con apellido: Sandra Requena\n"
     ]
    }
   ],
   "source": [
    "first_name , last_name = 'Sandra', 'Requena'\n",
    "print('Nombre con apellido:', first_name+' '+last_name)"
   ]
  },
  {
   "cell_type": "markdown",
   "metadata": {},
   "source": [
    "- **Repetición:** Se puede repetir una cadena utilizando el operador `*`."
   ]
  },
  {
   "cell_type": "code",
   "execution_count": 3,
   "metadata": {},
   "outputs": [
    {
     "name": "stdout",
     "output_type": "stream",
     "text": [
      "Cadena 'abc' repetida 3 veces: abcabcabc\n"
     ]
    }
   ],
   "source": [
    "cadena, repeticiones = \"abc\", 3\n",
    "print(f'Cadena \\'{cadena}\\' repetida {repeticiones} veces:', cadena * repeticiones)"
   ]
  },
  {
   "cell_type": "markdown",
   "metadata": {},
   "source": [
    "- __Indexación y segmentación:__ Es posible **obtener un carácter concreto** de un string utilizando los corchetes `[]` y el índice del carácter al que se quiere acceder.\\\n",
    "Además. se puede segmentar la cadena para obtener subcadenas indicando los índices de inicio y de fin y, si se quiere, la cantidad de elementos que se deben saltar entre cada elemento seleccionado."
   ]
  },
  {
   "cell_type": "code",
   "execution_count": 4,
   "metadata": {},
   "outputs": [
    {
     "name": "stdout",
     "output_type": "stream",
     "text": [
      "Primer caracter de 'Python': P\n",
      "Segundo caracter de 'Python': y\n",
      "Último caracter de 'Python': n\n",
      "Penúltimo caracter de 'Python': o\n",
      "Segmento de 'Python': th\n",
      "Últimas tres letras de 'Python': hon\n",
      "Letras con índice par en 'Python': Pto\n",
      "Letras con índice impar en 'Python': yhn\n"
     ]
    }
   ],
   "source": [
    "palabra = \"Python\"\n",
    "print(f'Primer caracter de \\'{palabra}\\':', palabra[0])\n",
    "print(f'Segundo caracter de \\'{palabra}\\':', palabra[1])\n",
    "print(f'Último caracter de \\'{palabra}\\':', palabra[-1]) # Si se quiere leer la cadena de derecha a izquierda, se usan índices negativos\n",
    "print(f'Penúltimo caracter de \\'{palabra}\\':', palabra[-2])\n",
    "\n",
    "print(f'Segmento de \\'{palabra}\\':', palabra[2:4]) # Segmento desde la letra con índice 2 hasta la letra con índice 4 (no incluida)\n",
    "# También puedes omitir el índice de inicio o de fin para segmentar desde el principio o hasta el final, respectivamente.\n",
    "print(f'Últimas tres letras de \\'{palabra}\\':', palabra[3:])\n",
    "\n",
    "print(f'Letras con índice par en \\'{palabra}\\':', palabra[::2])\n",
    "print(f'Letras con índice impar en \\'{palabra}\\':', palabra[1::2])"
   ]
  },
  {
   "cell_type": "markdown",
   "metadata": {},
   "source": [
    "- **Búsqueda en cadenas:** Se pueden buscar subcadenas dentro de una cadena utilizando los métodos `find()` e `index()`. Cabe destacar que el método `index()` devuelve un error si no se encuentra la subcadena, mientras que el método `find()` devuelve -1."
   ]
  },
  {
   "cell_type": "code",
   "execution_count": 58,
   "metadata": {},
   "outputs": [
    {
     "name": "stdout",
     "output_type": "stream",
     "text": [
      "Índice de la primera coincidencia de 'y' en 'Python': 1\n",
      "Índice de la primera coincidencia de 'a' en 'Python': -1\n",
      "Índice de la primera coincidencia de 'o' en 'Python': 4\n",
      "La letra 'f' no está presente en 'Python'.\n"
     ]
    }
   ],
   "source": [
    "print(f'Índice de la primera coincidencia de \\'y\\' en \\'{palabra}\\':', palabra.find('y'))\n",
    "print(f'Índice de la primera coincidencia de \\'a\\' en \\'{palabra}\\':', palabra.find('a'))\n",
    "print(f'Índice de la primera coincidencia de \\'o\\' en \\'{palabra}\\':', palabra.index('o'))\n",
    "try:\n",
    "    print(f'Índice de la primera coincidencia de \\'f\\' en \\'{palabra}\\':', palabra.index('f'))\n",
    "except ValueError:\n",
    "    print(f'La letra \\'f\\' no está presente en \\'{palabra}\\'.')"
   ]
  },
  {
   "cell_type": "markdown",
   "metadata": {},
   "source": [
    "- __Reemplazo y formato:__ Se pueden reemplazar subcadenas en una cadena utilizando el método `replace()`. Además, se puede utilizar el método `format()` para que la cadena incluya los valores de diferentes variables."
   ]
  },
  {
   "cell_type": "code",
   "execution_count": 32,
   "metadata": {},
   "outputs": [
    {
     "name": "stdout",
     "output_type": "stream",
     "text": [
      "Hola Sandra\n",
      "H_la mundo\n",
      "Soy Sandra Requena y vivo en Alicante.\n",
      "Cadena cambiando el orden de los paréntesis.\n",
      "Cadena utilizando parejas clave-valor.\n"
     ]
    }
   ],
   "source": [
    "frase, nombre, apellido, ciudad = 'Hola NAME', 'Sandra', 'Requena', 'Alicante'\n",
    "print(frase.replace('NAME', nombre))\n",
    "print('Hola mundo'.replace('o', '_', 1)) # Se puede especificar en número de veces que se quiere reemplazar\n",
    "\n",
    "print('Soy {} {} y vivo en {}.'.format(nombre, apellido, ciudad))\n",
    "print(\"{1} cambiando el {0} de los {2}.\".format('orden','Cadena','paréntesis'))\n",
    "print(\"{cad} utilizando parejas {key}-{val}.\".format(cad='Cadena',key='clave',val='valor'))"
   ]
  },
  {
   "cell_type": "markdown",
   "metadata": {},
   "source": [
    "### Caracteres especiales\n",
    "Python admite varios caracteres especiales que se pueden incluir en las cadenas, como por ejemplo:\n",
    "- **\\n:** Nueva línea.\n",
    "- __\\t:__ Tabulación.\n",
    "- **\\\\':** Comilla simple.\n",
    "- __\\\\\":__ Comilla doble.\n",
    "- **\\\\\\\\:** Barra invertida."
   ]
  },
  {
   "cell_type": "code",
   "execution_count": 9,
   "metadata": {},
   "outputs": [
    {
     "name": "stdout",
     "output_type": "stream",
     "text": [
      "Prueba del salto\n",
      "de línea\n",
      "Frase\ttabulada\tde\tprueba\n",
      "Para escribir caracteres especiales se utiliza la barra \\\n",
      "Ejemplos: ' y \"\n"
     ]
    }
   ],
   "source": [
    "print('Prueba del salto\\nde línea')\n",
    "print('Frase\\ttabulada\\tde\\tprueba')\n",
    "print('Para escribir caracteres especiales se utiliza la barra \\\\')\n",
    "print('Ejemplos: \\' y \\\"')"
   ]
  },
  {
   "cell_type": "markdown",
   "metadata": {},
   "source": [
    "### Métodos útiles para cadenas\n",
    "-  **Métodos para convertir a mayúsculas y minúsculas:** Los métodos `upper()` y `lower()` convierten todos los caracteres de la cadena a mayúsculas o minúsuculas, respectivamente. También se pueden convertir las letras minúsculas a mayúsculas y viceversa con el método `swapcase()`."
   ]
  },
  {
   "cell_type": "code",
   "execution_count": 10,
   "metadata": {},
   "outputs": [
    {
     "name": "stdout",
     "output_type": "stream",
     "text": [
      "Cadena original: AlGunAs son MaYúscULas\n",
      "Uso del método 'upper': ALGUNAS SON MAYÚSCULAS\n",
      "Uso del método 'lower': algunas son mayúsculas\n",
      "Uso del método 'swapcase': aLgUNaS SON mAyÚSCulAS\n"
     ]
    }
   ],
   "source": [
    "cadena = 'AlGunAs son MaYúscULas'\n",
    "print('Cadena original:', cadena)\n",
    "print('Uso del método \\'upper\\':', cadena.upper())\n",
    "print('Uso del método \\'lower\\':', cadena.lower())\n",
    "print('Uso del método \\'swapcase\\':', cadena.swapcase())"
   ]
  },
  {
   "cell_type": "markdown",
   "metadata": {},
   "source": [
    "- __Métodos `capitalize()` y `title()`:__ Pone en mayúsculas la primera letra de la cadena o de cada palabra de la cadena, respectivamente."
   ]
  },
  {
   "cell_type": "code",
   "execution_count": 11,
   "metadata": {},
   "outputs": [
    {
     "name": "stdout",
     "output_type": "stream",
     "text": [
      "Usando el método 'capitalize()' en 'sandra requena': Sandra requena\n",
      "Usando el método 'title()' en 'sandra requena': Sandra Requena\n"
     ]
    }
   ],
   "source": [
    "nombre = 'sandra requena'\n",
    "print(f'Usando el método \\'capitalize()\\' en \\'{nombre}\\':', nombre.capitalize())\n",
    "print(f'Usando el método \\'title()\\' en \\'{nombre}\\':', nombre.title())"
   ]
  },
  {
   "cell_type": "markdown",
   "metadata": {},
   "source": [
    "- **Método `count()`:** Devuelve el número de coincidencias en una cadena. Se puede limitar la zona de búsqueda añadiendo los índices del principio y del final de la subcadena."
   ]
  },
  {
   "cell_type": "code",
   "execution_count": 12,
   "metadata": {},
   "outputs": [
    {
     "name": "stdout",
     "output_type": "stream",
     "text": [
      "Coincidencias de 'de' en la frase 'Probando los métodos para cadenas': 1\n",
      "Coincidencias de 'a' entre los índices 7 y 14 de la frase 'Probando los métodos para cadenas': 0\n"
     ]
    }
   ],
   "source": [
    "frase = 'Probando los métodos para cadenas'\n",
    "print(f\"Coincidencias de \\'de\\' en la frase \\'{frase}\\':\", frase.count('de'))\n",
    "print(f\"Coincidencias de \\'a\\' entre los índices 7 y 14 de la frase \\'{frase}\\':\", frase.count('a', 7, 14))"
   ]
  },
  {
   "cell_type": "markdown",
   "metadata": {},
   "source": [
    "- __Métodos para verificar si una cadena comienza o termina en una subcadena:__ Para ello, se utilizan los métodos `startswith()` y `endswith()`, respectivamente."
   ]
  },
  {
   "cell_type": "code",
   "execution_count": 13,
   "metadata": {},
   "outputs": [
    {
     "name": "stdout",
     "output_type": "stream",
     "text": [
      "¿La frase 'Probando los métodos para cadenas'empieza por 'Pro'? True\n",
      "¿La frase 'Probando los métodos para cadenas'empieza por 'Hola'? False\n",
      "¿La frase 'Probando los métodos para cadenas'termina en 'as'? True\n",
      "¿La frase 'Probando los métodos para cadenas'termina en 'dias'? False\n"
     ]
    }
   ],
   "source": [
    "print(f\"¿La frase \\'{frase}\\'empieza por \\'Pro\\'?\", frase.startswith('Pro'))\n",
    "print(f\"¿La frase \\'{frase}\\'empieza por \\'Hola\\'?\", frase.startswith('Hola'))\n",
    "\n",
    "print(f\"¿La frase \\'{frase}\\'termina en \\'as\\'?\", frase.endswith('as'))\n",
    "print(f\"¿La frase \\'{frase}\\'termina en \\'dias\\'?\", frase.endswith('dias'))"
   ]
  },
  {
   "cell_type": "markdown",
   "metadata": {},
   "source": [
    "- **Método `strip()`:** Elimina tanto los caracteres iniciales como los finales. Si no se indican caracteres, elimina los espacios."
   ]
  },
  {
   "cell_type": "code",
   "execution_count": 14,
   "metadata": {},
   "outputs": [
    {
     "name": "stdout",
     "output_type": "stream",
     "text": [
      "Frase original:  XXEliminar las X que rodean la cadenaXX \n",
      "Frase usando el método 'strip()': Eliminar las X que rodean la cadena\n"
     ]
    }
   ],
   "source": [
    "frase = ' XXEliminar las X que rodean la cadenaXX '\n",
    "print('Frase original:', frase)\n",
    "print('Frase usando el método \\'strip()\\':', frase.strip(' X'))"
   ]
  },
  {
   "cell_type": "markdown",
   "metadata": {},
   "source": [
    "- __Método `split()`:__ Crea una lista dividiendo por los caracteres especificados. Si no se especifican, se divide por espacios."
   ]
  },
  {
   "cell_type": "code",
   "execution_count": 15,
   "metadata": {},
   "outputs": [
    {
     "name": "stdout",
     "output_type": "stream",
     "text": [
      "['Crear', 'una', 'lista', 'a', 'partir', 'de', 'esta', 'cadena']\n"
     ]
    }
   ],
   "source": [
    "frase = 'Crear una lista a partir de esta cadena'\n",
    "print(frase.split())"
   ]
  },
  {
   "cell_type": "markdown",
   "metadata": {},
   "source": [
    "- **Método `expandstabs()`:** Sustituye la tabulación '\\t' con 8 espacios si no se especifica número."
   ]
  },
  {
   "cell_type": "code",
   "execution_count": 16,
   "metadata": {},
   "outputs": [
    {
     "name": "stdout",
     "output_type": "stream",
     "text": [
      "H       o       l       a\n",
      "H  o  l  a\n"
     ]
    }
   ],
   "source": [
    "tabulado = 'H\\to\\tl\\ta'\n",
    "print(tabulado.expandtabs())\n",
    "print(tabulado.expandtabs(3))"
   ]
  },
  {
   "cell_type": "markdown",
   "metadata": {},
   "source": [
    "- __Métodos de comprobación:__ Existen varios métodos para comprobar si el valor de una variable cumple una condición:\n",
    "    - **`isalnum()`:** Comprueba si el valor de la variable es alfanumérico.\n",
    "    - __`isalpha()`:__ Comprueba si todos los caracteres son letras.\n",
    "    - __Métodos `isdigit()`, `isnumeric()` e `isdecimal()`:__ Comprueba si todos los caracteres son números.\n",
    "    - __`isidentifier()`:__ Comprueba si el valor de la variable puede ser un nombre de variable válido.\n",
    "    - __Métodos `islower()` e `isupper()`:__ Comprueba si todas las letras son minúsculas o mayúsculas, respectivamente."
   ]
  },
  {
   "cell_type": "code",
   "execution_count": 29,
   "metadata": {},
   "outputs": [
    {
     "name": "stdout",
     "output_type": "stream",
     "text": [
      "¿'Prueba1sinespacios' es alfanumérico? True\n",
      "¿'Prueba 2 con espacios' es alfanumérico? False\n",
      "¿Todos los caracteres en 'Cadena' son letras? True\n",
      "¿Todos los caracteres en '123' son letras? False\n",
      "¿Todos los caracteres en 'Cadena' son números? False\n",
      "¿Todos los caracteres en '123' son números? True\n",
      "¿Todos los caracteres en '10.5' son números? False\n",
      "¿Puede usarse 'variable1' como identificador? True\n",
      "¿Puede usarse '2variable' como identificador? False\n",
      "¿Todas las letras en 'minúsculas' son minúsculas? True\n",
      "¿Todas las letras en 'MAYÚSCULAS' son mayúsculas? True\n"
     ]
    }
   ],
   "source": [
    "alnum1, alnum2 = 'Prueba1sinespacios', 'Prueba 2 con espacios'\n",
    "print(f\"¿'{alnum1}' es alfanumérico?\", alnum1.isalnum())\n",
    "print(f\"¿'{alnum2}' es alfanumérico?\", alnum2.isalnum())\n",
    "\n",
    "aldig1, aldig2, num = 'Cadena', '123', '10.5'\n",
    "print(f\"¿Todos los caracteres en '{aldig1}' son letras?\", aldig1.isalpha())\n",
    "print(f\"¿Todos los caracteres en '{aldig2}' son letras?\", aldig2.isalpha())\n",
    "\n",
    "print(f\"¿Todos los caracteres en '{aldig1}' son números?\", aldig1.isdigit())\n",
    "print(f\"¿Todos los caracteres en '{aldig2}' son números?\", aldig2.isnumeric())\n",
    "print(f\"¿Todos los caracteres en '{num}' son números?\", num.isdecimal())\n",
    "\n",
    "var1, var2 = 'variable1', '2variable'\n",
    "print(f\"¿Puede usarse '{var1}' como identificador?\", var1.isidentifier())\n",
    "print(f\"¿Puede usarse '{var2}' como identificador?\", var2.isidentifier())\n",
    "\n",
    "frase1, frase2 = 'minúsculas', 'MAYÚSCULAS'\n",
    "print(f\"¿Todas las letras en '{frase1}' son minúsculas?\", frase1.islower())\n",
    "print(f\"¿Todas las letras en '{frase2}' son mayúsculas?\", frase2.isupper())"
   ]
  },
  {
   "cell_type": "markdown",
   "metadata": {},
   "source": [
    "### Cadenas 'f' (f-strings)\n",
    "La versión 3.6 de Python trajo un gran avance a la hora de integrar variables o expresiones en cadenas de carácteres. Se introdujeron las llamadas `f-strings`, una forma más cómoda y directa para insertar variables y expresiones en cadenas. \n",
    "Para usarlas, se debe colocar una `«f»` o `«F»` antes del inicio de la cadena y luego se incluyen las expresiones entre llaves `{ }` dentro de la cadena."
   ]
  },
  {
   "cell_type": "code",
   "execution_count": 35,
   "metadata": {},
   "outputs": [
    {
     "name": "stdout",
     "output_type": "stream",
     "text": [
      "Me llamo Sandra y tengo 24 años.\n",
      "La multiplicación de 4 y 3 es igual a 12.\n"
     ]
    }
   ],
   "source": [
    "nombre, edad = \"Sandra\", 24\n",
    "print(f\"Me llamo {nombre} y tengo {edad} años.\")\n",
    "a, b = 4, 3\n",
    "print(f\"La multiplicación de {a} y {b} es igual a {a * b}.\")"
   ]
  },
  {
   "cell_type": "markdown",
   "metadata": {},
   "source": [
    "También se puede aplicar formato a las expresiones dentro de las llaves. Por ejemplo, se puede especificar la cantidad de decimales para un número flotante."
   ]
  },
  {
   "cell_type": "code",
   "execution_count": 40,
   "metadata": {},
   "outputs": [
    {
     "name": "stdout",
     "output_type": "stream",
     "text": [
      "La nota '6.25' sin decimales es 6.\n"
     ]
    }
   ],
   "source": [
    "nota = 6.25\n",
    "print(f\"La nota '{nota}' sin decimales es {nota:.0f}.\")"
   ]
  },
  {
   "cell_type": "markdown",
   "metadata": {},
   "source": [
    "Además, se pueden insertar variables y expresiones en cadenas con un método parecido a Java."
   ]
  },
  {
   "cell_type": "code",
   "execution_count": 42,
   "metadata": {},
   "outputs": [
    {
     "name": "stdout",
     "output_type": "stream",
     "text": [
      "Me llamo Sandra Requena.\n"
     ]
    }
   ],
   "source": [
    "nombre, apellido = 'Sandra', 'Requena'\n",
    "print('Me llamo %s %s.' % (nombre, apellido))"
   ]
  },
  {
   "cell_type": "markdown",
   "metadata": {},
   "source": [
    "## Conversión de tipos\n",
    "En Python se pueden convertir datos de un tipo a otro utilizando funciones integradas o métodos específicos para cada tipo de dato. Estas conversiones son útiles cuando se necesita operar con diferentes tipos de datos o cuando se quiere mostrar información en un formato específico.\n",
    "- **Conversión a enteros:** Se utiliza la función `int()`. Esta función dará error con cadenas que contengan caracteres diferentes a números, a no ser que sean espacios alrededor del número en cuestión.\n",
    "- **Conversión a flotantes:** Se utiliza la función `float()`. En este caso, en la conversión str->float se admite un punto en la cadena ya que es el separador decimal.\n",
    "- **Conversión a cadenas:** Se utiliza la función `str()`.\n",
    "- **Conversión a booleanos:** Se utiliza la función `bool()`. Tanto las cadenas vacías como los ceros (`0` y `0.0`) se convierten a `False`, mientras que el resto de valores de estos tipos se convierten a `True`. Además, otros tipos como listas, tuplas, diccionarios o conjuntos vacíos y el valor especial `None` también se convierten en `False`.\n",
    "\n",
    "Por último, también se pueden convertir datos a representaciones en formato binario octal o hexadecimal utilizando las funciones `bin()`, `oct()` y `hex()`, respectivamente. Sin embargo, es importante tener en cuenta que no todos los tipos de datos se pueden convertir a todas las representaciones. Por ejemplo, no se puede convertir una cadena a binario directamente.\n",
    "\n",
    "### Importancia de los tipos en las operaciones\n",
    "La conversión de tipos en indispensable a la hora de usar operaciones como la suma. Los tipos `int`, `float` y `bool` se pueden sumar entre sí sin problemas (`True` se convierte en 1.0, y `False` en 0.0). Sin embargo, para sumar estos tipos con el tipo `str` es necesario convertirlos con la función `str()`."
   ]
  }
 ],
 "metadata": {
  "kernelspec": {
   "display_name": "base",
   "language": "python",
   "name": "python3"
  },
  "language_info": {
   "codemirror_mode": {
    "name": "ipython",
    "version": 3
   },
   "file_extension": ".py",
   "mimetype": "text/x-python",
   "name": "python",
   "nbconvert_exporter": "python",
   "pygments_lexer": "ipython3",
   "version": "3.11.3"
  },
  "orig_nbformat": 4
 },
 "nbformat": 4,
 "nbformat_minor": 2
}
