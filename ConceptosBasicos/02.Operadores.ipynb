{
 "cells": [
  {
   "cell_type": "markdown",
   "metadata": {},
   "source": [
    "# Operadores y expresiones\n",
    "Los operadores son símbolos especiales que permiten realizar operaciones aritméticas o lógicas."
   ]
  },
  {
   "cell_type": "markdown",
   "metadata": {},
   "source": [
    "## Operadores aritméticos\n",
    "Los operadores aritméticos se utilizan para realizar operaciones matemáticas en números.\n",
    "\n",
    "| Operador | Ejemplo | Significado |\n",
    "| :--:         |     :--:     |          -- |\n",
    "| +   | a + b     | Suma    |\n",
    "|  -  |  a - b    |  Resta|\n",
    "|  -  |  -a    |  Negación (asignar valor negativo)|\n",
    "|  *  |  a * b    |  Multiplicación|\n",
    "|  / |   a / b   |  División|\n",
    "|  %  |  a % b    | Módulo (resto de la división) |\n",
    "|  //  | a // b     | División entera (redondea el resultado hacia abajo al entero más cercano) |\n",
    "|  **  | a ** b     |  Exponente |"
   ]
  },
  {
   "cell_type": "code",
   "execution_count": 3,
   "id": "a14f4e34-8b18-4217-ad09-55cab3b12ef6",
   "metadata": {
    "tags": []
   },
   "outputs": [
    {
     "name": "stdout",
     "output_type": "stream",
     "text": [
      "Suma: 3\n",
      "Resta: 1\n",
      "Multiplicación: 6\n",
      "División: 2.0\n",
      "División: 3.0\n",
      "División: 3.5\n",
      "División sin decimales: 2\n",
      "División sin decimales: 3\n",
      "Resto de la división: 1\n",
      "Potencia: 9\n"
     ]
    }
   ],
   "source": [
    "print('Suma:', 1 + 2)\n",
    "print('Resta:', 2 - 1)\n",
    "print('Multiplicación:', 2 * 3)\n",
    "print ('División:', 4 / 2)\n",
    "print('División:', 6 / 2)\n",
    "print('División:', 7 / 2)\n",
    "print('División sin decimales:', 4 // 2)\n",
    "print('División sin decimales:', 7 // 2)\n",
    "print('Resto de la división:', 7 % 2)\n",
    "print('Potencia:', 3 ** 2)"
   ]
  },
  {
   "cell_type": "markdown",
   "metadata": {},
   "source": [
    "## Operadores de comparación\n",
    "Los operadores de comparación se utilizan para comparar dos valores y devuelven un valor booleano (`True` o `False`).\n",
    "\n",
    "| Operador | Ejemplo | Significado |\n",
    "| :--:         |     :--:     |          -- |\n",
    "| ==   | a == b     | Igual a: `True` si a y b son iguales|\n",
    "| !=   | a != b     | Diferente a: `True` si a y b son distintos    |\n",
    "| >   | a > b     | Mayor que: `True` si a es mayor que b    |\n",
    "| <   | a > b     | Menor que: `True` si a es menor que b|\n",
    "| >=   | a >= b     | Mayor o igual: `True` si a es igual o mayor que b    |\n",
    "| <=   | a >= b     | Menor o igual: `True` si a es igual o menor que b|"
   ]
  },
  {
   "cell_type": "code",
   "execution_count": 3,
   "metadata": {},
   "outputs": [
    {
     "name": "stdout",
     "output_type": "stream",
     "text": [
      "¿10 es igual a 5? False\n",
      "¿10 es diferente a 5? True\n",
      "¿10 es mayor que 5? True\n",
      "¿10 es menor que 5? False\n",
      "¿10 es mayor o igual que 5? True\n",
      "¿10 es menor o igual que 5? False\n"
     ]
    }
   ],
   "source": [
    "x, y = 10, 5\n",
    "\n",
    "print(f'¿{x} es igual a {y}?', x == y)\n",
    "print(f'¿{x} es diferente a {y}?', x != y)\n",
    "print(f'¿{x} es mayor que {y}?', x > y)\n",
    "print(f'¿{x} es menor que {y}?', x < y)\n",
    "print(f'¿{x} es mayor o igual que {y}?', x >= y)\n",
    "print(f'¿{x} es menor o igual que {y}?', x <= y)"
   ]
  },
  {
   "cell_type": "markdown",
   "metadata": {},
   "source": [
    "Se puede usar `is` en lugar de `==` para comparar, pero tienen significados diferentes y se utilizan en contextos diferentes.\n",
    "\n",
    "| `==` (igualdad) | `is` (identidad) |\n",
    "| :--:         | :--:         |\n",
    "| Se utiliza para verificar si dos objetos tienen el mismo valor   | Se utiliza para verificar si dos variables se refieren al mismo objeto en la memoria     |\n",
    "| Compara el contenido de los objetos, no su identidad   | Compara la identidad de los objetos, no solo su contenido     |\n",
    "| Es comúnmente usado para comparar números, cadenas de texto, listas y otros tipos de datos   | Es comúnmente usado para comparar con `None` o verificar si dos variables se refieren al mismo objeto mutable     |\n",
    "\n",
    "También se puede usar `is not` en lugar de `!=`."
   ]
  },
  {
   "cell_type": "markdown",
   "metadata": {},
   "source": [
    "## Operadores lógicos\n",
    "Los operadores lógicos se utilizan para combinar expresiones booleanas y devuelven también `True` o `False` como resultado.\n",
    "- **and (y):** Devuelve `True` si ambas expresiones son verdaderas.\n",
    "- __or (o):__ Devuelve `True` si al menos una de las expresiones es verdadera.\n",
    "- **not (no):** Devuelve el valor opuesto de la expresión."
   ]
  },
  {
   "cell_type": "code",
   "execution_count": 4,
   "metadata": {},
   "outputs": [
    {
     "name": "stdout",
     "output_type": "stream",
     "text": [
      "True and False: False\n",
      "True or False: True\n",
      "not True: False\n",
      "not False: True\n"
     ]
    }
   ],
   "source": [
    "a, b = True, False\n",
    "\n",
    "print(f'{a} and {b}:', a and b)\n",
    "print(f'{a} or {b}:', a or b)\n",
    "print(f'not {a}:', not a)\n",
    "print(f'not {b}:', not b)"
   ]
  },
  {
   "cell_type": "markdown",
   "metadata": {},
   "source": [
    "## Operadores de pertenencia\n",
    "Los operadores de pertenencia se utilizan para comprobar si un valor está presente en una secuencia, como una lista, tupla o cadena.\n",
    "- **in:** Devuelve `True` si el valor está presente en la secuencia.\n",
    "- __not in:__ Devuelve `True` si el valor no está presente en la secuencia."
   ]
  },
  {
   "cell_type": "code",
   "execution_count": 14,
   "metadata": {},
   "outputs": [
    {
     "name": "stdout",
     "output_type": "stream",
     "text": [
      "¿El número 3 está en la lista? True\n",
      "¿El número 6 no está en la lista? True\n",
      "¿'Python' está presente en la cadena? True\n",
      "¿'Java' no está presente en la cadena? True\n"
     ]
    }
   ],
   "source": [
    "lista = [1, 2, 3, 4, 5]\n",
    "print('¿El número 3 está en la lista?', 3 in lista)\n",
    "print('¿El número 6 no está en la lista?', 6 not in lista)\n",
    "\n",
    "cadena = \"Hola, Python\"\n",
    "print('¿\\'Python\\' está presente en la cadena?', \"Python\" in cadena)\n",
    "print('¿\\'Java\\' no está presente en la cadena?', \"Java\" not in cadena)"
   ]
  },
  {
   "cell_type": "markdown",
   "metadata": {},
   "source": [
    "## Operadores de identidad\n",
    "Los operadores de identidad se utilizan para comparar si dos variables se refieren al mismo objeto en memoria.\n",
    "- **is:** Devuelve `True` si ambas variables apuntan al mismo objeto.\n",
    "- __is not:__ Devuelve `True` si ambas variables no apuntan al mismo objeto."
   ]
  },
  {
   "cell_type": "code",
   "execution_count": 17,
   "metadata": {},
   "outputs": [
    {
     "name": "stdout",
     "output_type": "stream",
     "text": [
      "¿La lista a y la lista b son el mismo objeto? True\n",
      "¿La lista a y la lista c no son el mismo objeto? True\n"
     ]
    }
   ],
   "source": [
    "a = [1, 2, 3]\n",
    "b = a  # b apunta a la misma lista en memoria que a\n",
    "print('¿La lista a y la lista b son el mismo objeto?', a is b)\n",
    "c = [1, 2, 3]\n",
    "print('¿La lista a y la lista c no son el mismo objeto?', a is not c)"
   ]
  },
  {
   "cell_type": "markdown",
   "metadata": {},
   "source": [
    "## Operadores de asignación\n",
    "Los operadores de asignación se utilizan para asignar valores a variables.\n",
    "- **= :** Asignación básica.\n",
    "- __+= :__ Asignación con suma.\n",
    "- **\\-= :** Asignación con resta.\n",
    "- __\\*= :__ Asignación con multiplicación.\n",
    "- **/= :** Asignación con división."
   ]
  },
  {
   "cell_type": "code",
   "execution_count": 21,
   "metadata": {},
   "outputs": [
    {
     "name": "stdout",
     "output_type": "stream",
     "text": [
      "Valor inicial de a: 10\n",
      "Nuevo valor de a: 5\n",
      "Nuevo valor de a: 7\n",
      "Nuevo valor de a: 4\n",
      "Nuevo valor de a: 8\n",
      "Nuevo valor de a: 2.0\n"
     ]
    }
   ],
   "source": [
    "a = 10\n",
    "print(\"Valor inicial de a:\", a)\n",
    "a = 5\n",
    "print(\"Nuevo valor de a:\", a)\n",
    "a += 2\n",
    "print(\"Nuevo valor de a:\", a)\n",
    "a -= 3\n",
    "print(\"Nuevo valor de a:\", a)\n",
    "a *= 2\n",
    "print(\"Nuevo valor de a:\", a)\n",
    "a /= 4\n",
    "print(\"Nuevo valor de a:\", a)"
   ]
  },
  {
   "cell_type": "markdown",
   "metadata": {},
   "source": [
    "## Operador walrus o morsa\n",
    "El operador walrus o morsa cumple la función de asignar un valor a una variable y que se evalúe como expresión."
   ]
  },
  {
   "cell_type": "code",
   "execution_count": 26,
   "metadata": {},
   "outputs": [
    {
     "name": "stdout",
     "output_type": "stream",
     "text": [
      "El número 3 es menor a 5\n"
     ]
    }
   ],
   "source": [
    "import random\n",
    "\n",
    "if (variable := random.randint(1,10)) > 5:\n",
    "    print(f\"El número {variable} es mayor a 5\")\n",
    "else:\n",
    "    print(f\"El número {variable} es menor a 5\")"
   ]
  }
 ],
 "metadata": {
  "kernelspec": {
   "display_name": "Python 3 (ipykernel)",
   "language": "python",
   "name": "python3"
  },
  "language_info": {
   "codemirror_mode": {
    "name": "ipython",
    "version": 3
   },
   "file_extension": ".py",
   "mimetype": "text/x-python",
   "name": "python",
   "nbconvert_exporter": "python",
   "pygments_lexer": "ipython3",
   "version": "3.11.3"
  }
 },
 "nbformat": 4,
 "nbformat_minor": 5
}
