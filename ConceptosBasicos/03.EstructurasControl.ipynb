{
 "cells": [
  {
   "cell_type": "markdown",
   "metadata": {},
   "source": [
    "# Estructuras de control\n",
    "## Condicionales\n",
    "Los condicionales permiten controlar el flujo de ejecución de un programa.\n",
    "### Sentencia if-else\n",
    "Se evalúa la condición especificada en la sentencia `if` y, solo en el caso de cumplirse, se ejecutará el bloque de código tabulado."
   ]
  },
  {
   "cell_type": "code",
   "execution_count": 5,
   "metadata": {},
   "outputs": [
    {
     "name": "stdout",
     "output_type": "stream",
     "text": [
      "El número 5 es mayor que 1.\n",
      "Puede montarse en la montaña rusa.\n"
     ]
    }
   ],
   "source": [
    "numero = 5\n",
    "if numero > 1:\n",
    "    print(f\"El número {5} es mayor que 1.\")\n",
    "\n",
    "edad, altura = 16, 175\n",
    "if (edad > 14 and altura > 160):\n",
    "    print(\"Puede montarse en la montaña rusa.\")"
   ]
  },
  {
   "cell_type": "markdown",
   "metadata": {},
   "source": [
    "Mediante la palabra reservada `else` es posible especificar un bloque de código que se ejecute en caso de que la condición no se cumpla."
   ]
  },
  {
   "cell_type": "code",
   "execution_count": 11,
   "metadata": {},
   "outputs": [
    {
     "name": "stdout",
     "output_type": "stream",
     "text": [
      "El número 2 es menor o igual que 10.\n"
     ]
    }
   ],
   "source": [
    "numero = 2\n",
    "if numero > 10:\n",
    "    print(f\"El número {numero} es mayor que 10.\")\n",
    "else:\n",
    "    print(f\"El número {numero} es menor o igual que 10.\")"
   ]
  },
  {
   "cell_type": "markdown",
   "metadata": {},
   "source": [
    "También se pueden comprobar más condiciones mediante la expresión `elif`. En este caso, se seguirán comprobando todas las condiciones `elif` hasta que una de ellas se cumpla. En caso contrario, se ejecutará el bloque de código dentro de `else` si lo hubiera."
   ]
  },
  {
   "cell_type": "code",
   "execution_count": 9,
   "metadata": {},
   "outputs": [
    {
     "name": "stdout",
     "output_type": "stream",
     "text": [
      "El número 5 está entre el 3 y el 5.\n"
     ]
    }
   ],
   "source": [
    "numero = 5\n",
    "if numero < 3:\n",
    "    print(f\"El número {numero} es menor que 3.\")\n",
    "elif numero < 6:\n",
    "    print(f\"El número {numero} está entre el 3 y el 5.\")\n",
    "else:\n",
    "    print(f\"El número {numero} es mayor o igual a 6.\")"
   ]
  },
  {
   "cell_type": "markdown",
   "metadata": {},
   "source": [
    "### Sentencia match-case\n",
    "La sentencia `match-case` permite comprobar coincidencias con valores específicos de cualquier tipo. Su uso reduce significativamente la cantidad de consultas que se realizan para comprobar el valor de la variable y hace que el código resultante sea más fácil de leer."
   ]
  },
  {
   "cell_type": "code",
   "execution_count": 15,
   "metadata": {},
   "outputs": [
    {
     "name": "stdout",
     "output_type": "stream",
     "text": [
      "Estados civiles:\n",
      "      S. Solter@\n",
      "      C. Casad@\n",
      "      D. Divorciad@\n",
      "      V. Viud@\n",
      "Estado civil seleccionado: Soltero/a\n"
     ]
    }
   ],
   "source": [
    "print(\"\"\"Estados civiles:\n",
    "      S. Solter@\n",
    "      C. Casad@\n",
    "      D. Divorciad@\n",
    "      V. Viud@\"\"\")\n",
    "codigo = input(\"Introduzca el código de su estado civil: \")\n",
    "print(\"Estado civil seleccionado: \", end=\"\")\n",
    "match codigo:\n",
    "    case \"S\":\n",
    "        print(\"Solter@\")\n",
    "    case \"C\":\n",
    "        print(\"Casad@\")\n",
    "    case \"D\":\n",
    "        print(\"Divorciad@\")\n",
    "    case \"V\":\n",
    "        print(\"Viud@\")\n",
    "    case _:\n",
    "        print(\"Código inválido\")"
   ]
  },
  {
   "cell_type": "markdown",
   "metadata": {},
   "source": [
    "Esta sentencia también permite combinar múltiples patrones utilizando el caracter `|`."
   ]
  },
  {
   "cell_type": "code",
   "execution_count": 19,
   "metadata": {},
   "outputs": [
    {
     "name": "stdout",
     "output_type": "stream",
     "text": [
      "Aprobado\n"
     ]
    }
   ],
   "source": [
    "nota = input(\"Introduzca una nota del 0 al 10 (sin decimales):\")\n",
    "match int(nota):\n",
    "    case 0 | 1 | 2 | 3 | 4:\n",
    "        print(\"Suspendido\")\n",
    "    case 5 | 6:\n",
    "        print(\"Aprobado\")\n",
    "    case 7 | 8:\n",
    "        print(\"Notable\")\n",
    "    case 9 | 10:\n",
    "        print(\"Sobresaliente\")\n",
    "    case _:\n",
    "        print(\"Nota no válida\")"
   ]
  },
  {
   "cell_type": "markdown",
   "metadata": {},
   "source": [
    "### Operador ternario\n",
    "El operador ternario permite escribir una expresión condicional de una forma muy concisa."
   ]
  },
  {
   "cell_type": "code",
   "execution_count": 12,
   "metadata": {},
   "outputs": [
    {
     "name": "stdout",
     "output_type": "stream",
     "text": [
      "¿Es mayor de edad? Sí\n"
     ]
    }
   ],
   "source": [
    "edad = 18\n",
    "print(\"¿Es mayor de edad?\", 'Sí' if edad >= 18 else 'No')"
   ]
  },
  {
   "cell_type": "markdown",
   "metadata": {},
   "source": [
    "## Bucles\n",
    "Los bucles son estructuras de control que permiten ejecutar un bloque de código varias veces o recorrer elementos en una secuencia.\n",
    "### Bucle while\n",
    "El bucle `while` se utiliza para repetir un bloque de código mientras la condición que se defina se cumpla. Python interpretará como `True` cualquier valor distinto a `0` o `None`."
   ]
  },
  {
   "cell_type": "code",
   "execution_count": 14,
   "metadata": {},
   "outputs": [
    {
     "name": "stdout",
     "output_type": "stream",
     "text": [
      "Iteración número 1\n",
      "Iteración número 2\n",
      "Iteración número 3\n",
      "Iteración número 4\n",
      "Iteración número 5\n",
      "¡Fin!\n"
     ]
    }
   ],
   "source": [
    "contador = 0\n",
    "while(contador < 5):\n",
    "    contador += 1\n",
    "    print(\"Iteración número\", contador)\n",
    "print (\"¡Fin!\")"
   ]
  },
  {
   "cell_type": "markdown",
   "metadata": {},
   "source": [
    "### Bucle for\n",
    "El bucle `for` se utiliza para iterar sobre secuencias de datos tales como cadenas, listas, tuplas, o diccionarios."
   ]
  },
  {
   "cell_type": "code",
   "execution_count": 24,
   "metadata": {},
   "outputs": [
    {
     "name": "stdout",
     "output_type": "stream",
     "text": [
      "P\n",
      "y\n",
      "t\n",
      "h\n",
      "o\n",
      "n\n",
      "manzana\n",
      "plátano\n",
      "naranja\n"
     ]
    }
   ],
   "source": [
    "lenguaje, lista_frutas = \"Python\", [\"manzana\", \"plátano\", \"naranja\"]\n",
    "for caracter in lenguaje:\n",
    "    print(caracter)\n",
    "for fruta in lista_frutas:\n",
    "    print(fruta)"
   ]
  },
  {
   "cell_type": "markdown",
   "metadata": {},
   "source": [
    "En este bucle, se puede utilizar la función `range([start,] stop[, step])`, la cual devuelve una secuencia de números. Es por ello que se utiliza de forma frecuente para iterar."
   ]
  },
  {
   "cell_type": "code",
   "execution_count": 28,
   "metadata": {},
   "outputs": [
    {
     "name": "stdout",
     "output_type": "stream",
     "text": [
      "Función range() indicando solo el final:\n",
      "0\n",
      "1\n",
      "2\n",
      "Función range() indicando el principio y el incremento entre los elementos sucesivos de la secuencia (paso):\n",
      "2\n",
      "5\n",
      "8\n",
      "11\n",
      "14\n"
     ]
    }
   ],
   "source": [
    "print(\"Función range() indicando solo el final:\")\n",
    "for i in range(3):\n",
    "    print(i)\n",
    "print(\"Función range() indicando el principio y el incremento entre los elementos sucesivos de la secuencia (paso):\")\n",
    "for i in range(2, 15, 3):\n",
    "    print(i)"
   ]
  },
  {
   "cell_type": "markdown",
   "metadata": {},
   "source": [
    "### Secuencias de control en bucles\n",
    "Dentro de los bucles podemos utilizar las sentencias `break`, `continue` y `else` para controlar el flujo de ejecución.\n",
    "- **break:** Permite salir del bucle de manera prematura aunque se cumpla la condición.\n",
    "- **continue:** Permite saltar a la siguiente iteración del bucle si se cumple la condición.\n",
    "- **else:** Se ejecuta cuando el bucle se completa sin encontrar una sentencia `break`."
   ]
  },
  {
   "cell_type": "code",
   "execution_count": 31,
   "metadata": {},
   "outputs": [
    {
     "name": "stdout",
     "output_type": "stream",
     "text": [
      "Iteración número 1\n",
      "Iteración número 2\n",
      "Iteración número 3\n",
      "¡Fin!\n",
      "Número impar: 1\n",
      "Número impar: 3\n",
      "Número impar: 5\n",
      "Fin del bucle\n"
     ]
    }
   ],
   "source": [
    "contador = 0\n",
    "while(contador < 5):\n",
    "    contador += 1\n",
    "    print(\"Iteración número {}\".format(contador))\n",
    "    if contador == 3:\n",
    "        break\n",
    "print (\"¡Fin!\")\n",
    "\n",
    "for num in range(1, 6):\n",
    "    if num%2==0:\n",
    "        continue\n",
    "    print(f\"Número impar: {num}\")\n",
    "print(\"Fin del bucle\")"
   ]
  },
  {
   "cell_type": "code",
   "execution_count": null,
   "metadata": {},
   "outputs": [],
   "source": []
  }
 ],
 "metadata": {
  "kernelspec": {
   "display_name": "base",
   "language": "python",
   "name": "python3"
  },
  "language_info": {
   "codemirror_mode": {
    "name": "ipython",
    "version": 3
   },
   "file_extension": ".py",
   "mimetype": "text/x-python",
   "name": "python",
   "nbconvert_exporter": "python",
   "pygments_lexer": "ipython3",
   "version": "3.11.3"
  }
 },
 "nbformat": 4,
 "nbformat_minor": 2
}
