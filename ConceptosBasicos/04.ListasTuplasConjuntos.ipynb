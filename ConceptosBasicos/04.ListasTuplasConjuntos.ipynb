{
 "cells": [
  {
   "cell_type": "markdown",
   "metadata": {},
   "source": [
    "# Listas, tuplas y conjuntos\n",
    "## Listas\n",
    "Las listas en Python son una estructura de datos muy versátil que permite almacenar y manipular colecciones de elementos. Son secuencias ordenadas y modificables, y pueden contener elementos de **cualquier tipo**.\n",
    "\n",
    "Se pueden crear listas encerrando los elementos entre corchetes `[ ]`. También se puede usar la función `list()` para definir listas vacías."
   ]
  },
  {
   "cell_type": "code",
   "execution_count": 6,
   "metadata": {},
   "outputs": [
    {
     "name": "stdout",
     "output_type": "stream",
     "text": [
      "[]\n",
      "[]\n",
      "[30, 9.5, 'Juan', True, ['Ane', 'Unai', 'Itziar']]\n"
     ]
    }
   ],
   "source": [
    "lista_vacia_1, lista_vacia_2 = [], list()\n",
    "\n",
    "alumnos = [\"Ane\", \"Unai\", \"Itziar\"]\n",
    "lista_variada = [30, 9.5, \"Juan\", True, alumnos]\n",
    "print(lista_vacia_1, lista_vacia_2, lista_variada, sep=\"\\n\")"
   ]
  },
  {
   "cell_type": "markdown",
   "metadata": {},
   "source": [
    "### Acesso a elementos\n",
    "Se puede acceder a los elementos de una lista utilizando índices, los cuales tienen el mismo funcionamiento que en las cadenas de texto. Se puede afirmar que las cadenas son listas de caracteres, lo cual se ve más claro utilizando la función `list()` en una cadena."
   ]
  },
  {
   "cell_type": "code",
   "execution_count": 10,
   "metadata": {},
   "outputs": [
    {
     "name": "stdout",
     "output_type": "stream",
     "text": [
      "Primer elemento de la lista: a\n",
      "Último elemento de la lista: f\n",
      "Elementos con índice par en la lista: ['a', 'c', 'e']\n",
      "Elementos con índice impar en la lista: ['b', 'd', 'f']\n",
      "Cadena convertida en lista: ['H', 'o', 'l', 'a', ' ', 'm', 'u', 'n', 'd', 'o']\n"
     ]
    }
   ],
   "source": [
    "lista = ['a','b','c','d','e','f']\n",
    "print(f'Primer elemento de la lista: {lista[0]}')\n",
    "print(f'Último elemento de la lista: {lista[-1]}')\n",
    "\n",
    "print(f'Elementos con índice par en la lista: {lista[::2]}')\n",
    "print(f'Elementos con índice impar en la lista: {lista[1::2]}')\n",
    "\n",
    "print(\"Cadena convertida en lista:\", list(\"Hola mundo\"))"
   ]
  },
  {
   "cell_type": "markdown",
   "metadata": {},
   "source": [
    "Si se quiere acceder a un elemento de una lista de listas, se debe utilizar el índice de la sublista en la lista principal y el índice del elemento en la sublista."
   ]
  },
  {
   "cell_type": "code",
   "execution_count": 33,
   "metadata": {},
   "outputs": [
    {
     "name": "stdout",
     "output_type": "stream",
     "text": [
      "Tercer elemento de la segunda sublista: 6\n"
     ]
    }
   ],
   "source": [
    "lista_anidada = [[1, 2, 3], [4, 5, 6], [7, 8, 9]]\n",
    "print(f\"Tercer elemento de la segunda sublista: {lista_anidada[1][2]}\")"
   ]
  },
  {
   "cell_type": "markdown",
   "metadata": {},
   "source": [
    "### Modificación de las listas\n",
    "Se pueden modificar los elementos de una lista asignando nuevos valores a través de sus índices."
   ]
  },
  {
   "cell_type": "code",
   "execution_count": 8,
   "metadata": {},
   "outputs": [
    {
     "name": "stdout",
     "output_type": "stream",
     "text": [
      "['Sandra', 'Jorge', 'María']\n"
     ]
    }
   ],
   "source": [
    "nombres = [\"Sandra\", \"Carlos\", \"María\"]\n",
    "nombres[1] = \"Jorge\"\n",
    "print(nombres)"
   ]
  },
  {
   "cell_type": "markdown",
   "metadata": {},
   "source": [
    "Además, se pueden añadir o eliminar elementos de la lista con los siguientes métodos:\n",
    "- **append():** Introduce un elemento en la última posición.\n",
    "- **insert():** Introduce un elemento en la posición especificada.\n",
    "- **remove():** Elimina el elemento especificado. Si no existe, da error.\n",
    "- **pop():** Elimina el elemento con posición especificada de la lista. Si no se especifica, se elimina el último elemento. También se puede usar `del list[indice]`.\n",
    "- **clear():** Borra todos los elementos de la lista. También se puede usar `del list[:]`."
   ]
  },
  {
   "cell_type": "code",
   "execution_count": 23,
   "metadata": {},
   "outputs": [
    {
     "name": "stdout",
     "output_type": "stream",
     "text": [
      "Lista inicial: ['plátano', 'naranja', 'pera', 'limón']\n",
      "Lista tras el método append(): ['plátano', 'naranja', 'pera', 'limón', 'frambuesa']\n",
      "Lista tras el método insert(): ['plátano', 'naranja', 'pera', 'fresa', 'limón', 'frambuesa']\n",
      "Lista tras el método remove(): ['plátano', 'naranja', 'pera', 'limón', 'frambuesa']\n",
      "Lista tras el método pop(): ['plátano', 'naranja', 'pera', 'frambuesa']\n",
      "Lista tras del frutas[0]: ['naranja', 'pera', 'frambuesa']\n",
      "Lista tras el método clear(): []\n"
     ]
    }
   ],
   "source": [
    "# Modificar listas\n",
    "frutas = ['plátano', 'naranja', 'pera', 'limón']\n",
    "print('Lista inicial:', frutas)\n",
    "frutas.append('frambuesa')\n",
    "print('Lista tras el método append():', frutas)\n",
    "frutas.insert(3, 'fresa')\n",
    "print('Lista tras el método insert():', frutas)\n",
    "frutas.remove('fresa')\n",
    "print('Lista tras el método remove():', frutas)\n",
    "frutas.pop(3)\n",
    "print('Lista tras el método pop():', frutas)\n",
    "del frutas[0]\n",
    "print('Lista tras del frutas[0]:', frutas)\n",
    "frutas.clear()\n",
    "print('Lista tras el método clear():', frutas)"
   ]
  },
  {
   "cell_type": "markdown",
   "metadata": {},
   "source": [
    "### Operaciones con listas\n",
    "- **Longitud de la lista:** Se puede obtener la longitud de la lista utilizando la función `len()`."
   ]
  },
  {
   "cell_type": "code",
   "execution_count": 19,
   "metadata": {},
   "outputs": [
    {
     "name": "stdout",
     "output_type": "stream",
     "text": [
      "Longitud de la lista: 5\n"
     ]
    }
   ],
   "source": [
    "nums = [1, 2, 3, 4, 5]\n",
    "print(f'Longitud de la lista: {len(nums)}')"
   ]
  },
  {
   "cell_type": "markdown",
   "metadata": {},
   "source": [
    "- __Concatenación:__ Se pueden unir listas utilizando el operador `+`. Para unir dos listas también se puede utilizar el método `extend()`."
   ]
  },
  {
   "cell_type": "code",
   "execution_count": 21,
   "metadata": {},
   "outputs": [
    {
     "name": "stdout",
     "output_type": "stream",
     "text": [
      "Lista unida: [1, 2, 3, 4, 5, 6, 7, 8, 9]\n"
     ]
    }
   ],
   "source": [
    "list1, list2, list3 = [1, 2, 3], [4, 5, 6], [7, 8, 9]\n",
    "concatenada = list1 + list2\n",
    "concatenada.extend(list3)\n",
    "print('Lista unida:', concatenada)"
   ]
  },
  {
   "cell_type": "markdown",
   "metadata": {},
   "source": [
    "- **Repetición:** Se puede repetir una lista utilizando el operador `*`."
   ]
  },
  {
   "cell_type": "code",
   "execution_count": 24,
   "metadata": {},
   "outputs": [
    {
     "name": "stdout",
     "output_type": "stream",
     "text": [
      "Lista repetida: [1, 2, 3, 1, 2, 3, 1, 2, 3]\n"
     ]
    }
   ],
   "source": [
    "print('Lista repetida:', list1*3)"
   ]
  },
  {
   "cell_type": "markdown",
   "metadata": {},
   "source": [
    "- __Búsqueda en listas:__ Se pueden buscar elementos en una lista utilizando los métodos `index()` y `count()`. El primer método devuelve el índice de la primera coincidencia, mientras que el segundo devuelve el número de coincidencias. El método `index()` devuelve un error si no se encuentra el elemento. "
   ]
  },
  {
   "cell_type": "code",
   "execution_count": 4,
   "metadata": {},
   "outputs": [
    {
     "name": "stdout",
     "output_type": "stream",
     "text": [
      "La palabra 'piña' no está presente en la lista de frutas.\n",
      "Índice de la primera coincidencia de '24' en la lista de edades: 2\n",
      "Número de coincidencias de 'piña' en la lista de frutas: 0\n",
      "Número de coincidencias de '24' en la lista de edades: 3\n"
     ]
    }
   ],
   "source": [
    "frutas = ['plátano', 'naranja', 'pera', 'limón']\n",
    "edades = [22, 19, 24, 25, 26, 24, 25, 24]\n",
    "try:\n",
    "    print(f'Índice de la primera coincidencia de \\'piña\\' en la lista de frutas:',\n",
    "      frutas.index('piña'))\n",
    "except ValueError:\n",
    "    print(f'La palabra \\'piña\\' no está presente en la lista de frutas.')\n",
    "print(f'Índice de la primera coincidencia de \\'24\\' en la lista de edades:',\n",
    "      edades.index(24))\n",
    "\n",
    "print(f'Número de coincidencias de \\'piña\\' en la lista de frutas:',\n",
    "      frutas.count('piña'))\n",
    "print(f'Número de coincidencias de \\'24\\' en la lista de edades:',\n",
    "      edades.count(24))"
   ]
  },
  {
   "cell_type": "markdown",
   "metadata": {},
   "source": [
    "- **Comprobar si una lista está vacía:** Se puede comprobar si una lista está vacía usando el valor booleano de la lista. En Python, una lista vacía se evalúa como `False`, mientras que una lista con elementos se evalúa como `True`."
   ]
  },
  {
   "cell_type": "code",
   "execution_count": 31,
   "metadata": {},
   "outputs": [
    {
     "name": "stdout",
     "output_type": "stream",
     "text": [
      "La lista [] está vacía.\n",
      "La lista [1, 2, 3] contiene elementos.\n"
     ]
    }
   ],
   "source": [
    "lista_vacia, lista_no_vacia = list(), [1, 2, 3]\n",
    "\n",
    "if not lista_vacia:\n",
    "    print(f\"La lista {lista_vacia} está vacía.\")\n",
    "if lista_no_vacia:\n",
    "    print(f\"La lista {lista_no_vacia} contiene elementos.\")"
   ]
  },
  {
   "cell_type": "markdown",
   "metadata": {},
   "source": [
    "- __Ordenar una lista:__ Las listas se pueden ordenar mediante el método `sort()` y la función `sorted()`. La única diferencia entre estas dos formas es que el método `sort()` modifica la lista original, mientras que la función `sorted()` devuelve una copia ordenada de la lista.\\\n",
    "Ambas formas ordenan la lista en orden alfanumérico de manera ascendente si no se especifica ninguna función de comparación (`key`). Para ordenar descendentemente, se incluye entre los paréntesis `reverse=True`."
   ]
  },
  {
   "cell_type": "code",
   "execution_count": 5,
   "metadata": {},
   "outputs": [
    {
     "name": "stdout",
     "output_type": "stream",
     "text": [
      "Lista original: ['manzana', 'lima', 'plátano', 'fresa']\n",
      "Lista ordenada con sort() por longitud: ['lima', 'fresa', 'manzana', 'plátano']\n",
      "Lista ordenada con sorted() descendentemente: ['plátano', 'manzana', 'lima', 'fresa']\n"
     ]
    },
    {
     "data": {
      "text/plain": [
       "list"
      ]
     },
     "execution_count": 5,
     "metadata": {},
     "output_type": "execute_result"
    }
   ],
   "source": [
    "frutas = ['manzana', 'lima', 'plátano', 'fresa']\n",
    "print(\"Lista original:\", frutas)\n",
    "frutas.sort(key=len)\n",
    "frutas_sorted = sorted(frutas, reverse=True)\n",
    "print(\"Lista ordenada con sort() por longitud:\", frutas)\n",
    "print(\"Lista ordenada con sorted() descendentemente:\", frutas_sorted)"
   ]
  },
  {
   "cell_type": "markdown",
   "metadata": {},
   "source": [
    "- **Invertir una lista:** Las listas se pueden invertir mediante el método `reverse()` y la función `reversed()`. La única diferencia entre estas dos formas es que el método `reverse()` modifica la lista original, mientras que la función `reversed()` devuelve una copia invertida de la lista. La función `reversed()` devuelve una secuencia tipo `list_reverseiterator`, por lo que hay que convertirla en lista con la función `list()`."
   ]
  },
  {
   "cell_type": "code",
   "execution_count": 8,
   "metadata": {},
   "outputs": [
    {
     "name": "stdout",
     "output_type": "stream",
     "text": [
      "Lista de frutas original: ['manzana', 'lima', 'plátano', 'fresa']\n",
      "Lista de frutas invertida: ['fresa', 'plátano', 'lima', 'manzana']\n",
      "Lista de números: [2, 5, 3, 1, 4]\n",
      "Lista de números invertida: [4, 1, 3, 5, 2]\n"
     ]
    }
   ],
   "source": [
    "frutas = ['manzana', 'lima', 'plátano', 'fresa']\n",
    "numeros = [2, 5, 3, 1, 4]\n",
    "print(\"Lista de frutas original:\", frutas)\n",
    "frutas.reverse()\n",
    "numeros_reversed = list(reversed(numeros))\n",
    "print(\"Lista de frutas invertida:\", frutas)\n",
    "print(\"Lista de números:\", numeros)\n",
    "print(\"Lista de números invertida:\", numeros_reversed)"
   ]
  },
  {
   "cell_type": "markdown",
   "metadata": {},
   "source": [
    "### Copia de listas\n",
    "Al asignar una lista a otra variable, ambas variables apuntan a la misma lista en memoria. Si se modifica una de ellas, la otra también cambiará. Para crear una copia independiente de una lista, se utiliza los métodos `list()` o `copy()` o la notación de *slicing*."
   ]
  },
  {
   "cell_type": "code",
   "execution_count": 40,
   "metadata": {},
   "outputs": [
    {
     "name": "stdout",
     "output_type": "stream",
     "text": [
      "Lista original: ['banana', 'naranja', 'pera', 'limón']\n",
      "Copia de la lista con el método copy(): ['plátano', 'naranja', 'pera', 'limón']\n",
      "Copia de la lista con el método copy(): ['plátano', 'naranja', 'pera', 'limón']\n",
      "Copia de la lista con la notación de slicing: ['plátano', 'naranja', 'pera', 'limón']\n"
     ]
    }
   ],
   "source": [
    "frutas = ['plátano', 'naranja', 'pera', 'limón']\n",
    "\n",
    "copia_frutas_1, copia_frutas_2, copia_frutas_3 = list(frutas), frutas[:], frutas.copy()\n",
    "frutas[0] = 'banana'\n",
    "print('Lista original:', frutas)\n",
    "print('Copia de la lista con el método copy():', copia_frutas_1)\n",
    "print('Copia de la lista con el método copy():', copia_frutas_2)\n",
    "print('Copia de la lista con la notación de slicing:', copia_frutas_3)"
   ]
  },
  {
   "cell_type": "markdown",
   "metadata": {},
   "source": [
    "Se debe tener en cuenta que si la lista contiene objetos mutables (como listas anidadas o diccionarios), las copias independientes todavía pueden compartir referencias a esos objetos internos. Esto se puede solucionar volviendo a asignar ese objeto por una copia de ese objeto.\n",
    "\n",
    "Además, se puede utilizar el método `deepcopy()` del módulo `copy` para crear una copia profunda de la lista."
   ]
  },
  {
   "cell_type": "code",
   "execution_count": 44,
   "metadata": {},
   "outputs": [
    {
     "name": "stdout",
     "output_type": "stream",
     "text": [
      "Listas sin copiar la sublista:\n",
      "[1, 2, 3, [0, 5, 6]]\n",
      "[1, 2, 3, [0, 5, 6]]\n",
      "Listas tras copiar la sublista:\n",
      "[1, 2, 3, [4, 5, 6]]\n",
      "[1, 2, 3, [0, 5, 6]]\n",
      "Listas usando el método deepcopy():\n",
      "[1, 2, 3, [4, 5, 6]]\n",
      "[1, 2, 3, [0, 5, 6]]\n"
     ]
    }
   ],
   "source": [
    "from copy import deepcopy\n",
    "\n",
    "nums = [1, 2, 3, [4, 5, 6]]\n",
    "copia_nums = nums.copy()\n",
    "copia_nums[3][0] = 0\n",
    "print(\"Listas sin copiar la sublista:\", nums, copia_nums, sep='\\n')\n",
    "\n",
    "copia_nums[3] = nums[3].copy()\n",
    "nums[3][0] = 4\n",
    "print(\"Listas tras copiar la sublista:\", nums, copia_nums, sep='\\n')\n",
    "\n",
    "copia_profunda = deepcopy(nums)\n",
    "copia_profunda[3][0] = 0\n",
    "print(\"Listas usando el método deepcopy():\", nums, copia_profunda, sep='\\n')"
   ]
  },
  {
   "cell_type": "markdown",
   "metadata": {},
   "source": [
    "### Listas y bucles\n",
    "Las listas son especialmente útiles cuando se combinan con bucles para procesar múltiples elementos de manera eficiente.\n",
    "\n",
    "Aunque se puedan utilizar tanto el bucle `while` como el bucle `for`, el bucle for es más eficiente ya que no hace falta declarar una variable que sirva como contador.\n"
   ]
  },
  {
   "cell_type": "code",
   "execution_count": 45,
   "metadata": {},
   "outputs": [
    {
     "name": "stdout",
     "output_type": "stream",
     "text": [
      "1\n",
      "2\n",
      "3\n",
      "4\n",
      "5\n"
     ]
    }
   ],
   "source": [
    "nums = [1, 2, 3, 4, 5]\n",
    "for num in nums:\n",
    "    print(num)"
   ]
  },
  {
   "cell_type": "markdown",
   "metadata": {},
   "source": [
    "A veces resulta útil acceder tanto al índice como al elemento en cada iteración. Para ello, se usa la función `enumerate() ` para obtener ambos."
   ]
  },
  {
   "cell_type": "code",
   "execution_count": 46,
   "metadata": {},
   "outputs": [
    {
     "name": "stdout",
     "output_type": "stream",
     "text": [
      "Índice: 0, Fruta: manzana\n",
      "Índice: 1, Fruta: plátano\n",
      "Índice: 2, Fruta: naranja\n"
     ]
    }
   ],
   "source": [
    "frutas = [\"manzana\", \"plátano\", \"naranja\"]\n",
    "for indice, fruta in enumerate(frutas):\n",
    "    print(f\"Índice: {indice}, Fruta: {fruta}\")"
   ]
  },
  {
   "cell_type": "markdown",
   "metadata": {},
   "source": [
    "#### Comprensión de listas\n",
    "La comprensión de listas es una característica de Python que permite construir listas de manera concisa y eficiente utilizando una única línea de código. Proporciona una forma más legible y expresiva de crear listas en comparación con el uso de bucles `for` tradicionales.\n",
    "\n",
    "La sintaxis básica de la comprensión de listas es la siguiente:\n",
    "```python\n",
    "    nueva_lista = [expresion for elemento in iterable if condicion]\n",
    "```\n",
    "- **expresion:** Expresión que define el valor de cada elemento en la nueva lista.\n",
    "- __elemento:__ Variable que toma cada valor del iterable (como una lista, rango, etc.).\n",
    "- **iterable:** Secuencia de elementos que se recorre.\n",
    "- __condicion (opcional):__ Condición que filtra los elementos antes de agregarlos a la nueva lista."
   ]
  },
  {
   "cell_type": "code",
   "execution_count": 54,
   "metadata": {},
   "outputs": [
    {
     "name": "stdout",
     "output_type": "stream",
     "text": [
      "Lista de cuadrados de los números del 1 al 5: [1, 4, 9, 16, 25]\n",
      "Lista de los números pares entre 1 y 10: [2, 4, 6, 8, 10]\n",
      "Lista de los números impares mayores que 10: [11, 13, 15]\n",
      "Matriz nula de 3X3: [[[0, 0, 0]], [[0, 0, 0]], [[0, 0, 0]]]\n"
     ]
    }
   ],
   "source": [
    "cuadrados = [num ** 2 for num in range(1, 6)]\n",
    "print(\"Lista de cuadrados de los números del 1 al 5:\", cuadrados)\n",
    "\n",
    "pares = [num for num in range(1, 11) if num % 2 == 0]\n",
    "print(\"Lista de los números pares entre 1 y 10:\", pares)\n",
    "\n",
    "nums = [1, 2, 3, 4, 5, 6, 7, 8, 9, 10, 11, 12, 13, 14, 15]\n",
    "impares = [num for num in nums if num > 10 and num % 2 != 0]\n",
    "print(\"Lista de los números impares mayores que 10:\", impares)\n",
    "\n",
    "matriz_nula = [[[0 for _ in range(3)]] for _ in range(3)]\n",
    "print(\"Matriz nula de 3X3:\", matriz_nula)"
   ]
  },
  {
   "cell_type": "markdown",
   "metadata": {},
   "source": [
    "### Métodos útiles para listas\n",
    "- **Función map():** Aplica una función a cada elemento de una o más secuencias (como listas o tuplas) y devuelve una nueva secuencia con los resultados. Como el resultado es un objeto `map`, se debe convertir el resultado con la función `list()`."
   ]
  },
  {
   "cell_type": "code",
   "execution_count": 7,
   "metadata": {},
   "outputs": [
    {
     "name": "stdout",
     "output_type": "stream",
     "text": [
      "Lista original: [1, 2, 3, 4, 5]\n",
      "Lista de cuadrados: [1, 4, 9, 16, 25]\n"
     ]
    }
   ],
   "source": [
    "nums = [1, 2, 3, 4, 5]\n",
    "resultado = list(map(lambda x: x ** 2, nums))\n",
    "print(\"Lista original:\", nums)\n",
    "print(\"Lista de cuadrados:\", resultado)"
   ]
  },
  {
   "cell_type": "markdown",
   "metadata": {},
   "source": [
    "- __Función filter():__ Filtra elementos de una lista según una condición dada. Como el resultado es un objeto `filter`, se debe convertir el resultado con la función `list()`. Esta función es una alternativa a la comprensión de listas."
   ]
  },
  {
   "cell_type": "code",
   "execution_count": 11,
   "metadata": {},
   "outputs": [
    {
     "name": "stdout",
     "output_type": "stream",
     "text": [
      "Lista original: [1, 2, 3, 4, 5, 6]\n",
      "Lista de pares utilizando filter(): [2, 4, 6]\n",
      "Lista de pares utilizando comprensión de listas: [2, 4, 6]\n"
     ]
    }
   ],
   "source": [
    "nums = [1, 2, 3, 4, 5, 6]\n",
    "pares_filter = list(filter(lambda x: x % 2 == 0, nums))\n",
    "pares_comp = [n for n in nums if n % 2 == 0]\n",
    "print(\"Lista original:\", nums)\n",
    "print(\"Lista de pares utilizando filter():\", pares_filter)\n",
    "print(\"Lista de pares utilizando comprensión de listas:\", pares_comp)"
   ]
  },
  {
   "cell_type": "markdown",
   "metadata": {},
   "source": [
    "- **Función sum():** Suma todos los elementos de una lista a un valor inicial, el cual es O si no se proporciona. Esta función devuelve error cuando la lista alberga cadenas.\\\n",
    "La función `sum()` se puede utilizar en listas anidadas para concatenar las subsecuencias, siempre y cuando solo contenga secuencias del mismo tipo. Para ello, hay que declarar el parámetro `start` en la secuencia vacía (por ejemplo, `[ ]` o `list()` para listas)."
   ]
  },
  {
   "cell_type": "code",
   "execution_count": 32,
   "metadata": {},
   "outputs": [
    {
     "name": "stdout",
     "output_type": "stream",
     "text": [
      "Lista de números: [1, 2, 3, 4, 5, 6] Suma: 21\n",
      "Lista mixta: [True, 1, 2.5, False, 3] Suma: 7.5\n",
      "Lista anidada: [[1, 2], [3, 4], [5, 6]] Suma: [1, 2, 3, 4, 5, 6]\n"
     ]
    }
   ],
   "source": [
    "lista_mixta = [True, 1, 2.5, False, 3]\n",
    "lista_anidada = [[1, 2], [3, 4], [5, 6]]\n",
    "\n",
    "print(\"Lista de números:\", nums, \"Suma:\", sum(nums))\n",
    "print(\"Lista mixta:\", lista_mixta, \"Suma:\", sum(lista_mixta))\n",
    "print(\"Lista anidada:\", lista_anidada, \"Suma:\",\n",
    "      sum(lista_anidada, []))"
   ]
  },
  {
   "cell_type": "markdown",
   "metadata": {},
   "source": [
    "- __Método join():__ Concatena una lista para formar una cadena de texto. La cadena que va a separar los elementos de la lista llama a este método. Solo se puede usar en secuencias (listas, tuplas, etc.) que contengan cadenas únicamente. Si se quiere trabajar con una lista de números, se puede utilizar la función `map()` para convertir sus elementos en cadenas *(no hace falta convertir el resultado en lista ya que el método `join()` admite cualquier tipo de iterable)*."
   ]
  },
  {
   "cell_type": "code",
   "execution_count": 34,
   "metadata": {},
   "outputs": [
    {
     "name": "stdout",
     "output_type": "stream",
     "text": [
      "Lista de cadenas con el método join(): Hola, mundo, Python\n",
      "Lista de cadenas con el método join(): 1, 2, 3, 4, 5, 6\n"
     ]
    }
   ],
   "source": [
    "lista = ['Hola', 'mundo', 'Python']\n",
    "print(\"Lista de cadenas con el método join():\", \", \".join(lista))\n",
    "print(\"Lista de cadenas con el método join():\", \", \".join(map(str, nums)))"
   ]
  },
  {
   "cell_type": "markdown",
   "metadata": {},
   "source": [
    "- **Función zip():** Aplica una función a cada elemento de una o más secuencias (como listas o tuplas) y devuelve una nueva secuencia con los resultados. Como el resultado es un objeto `zip`, se debe convertir el resultado con la función `list()`."
   ]
  },
  {
   "cell_type": "code",
   "execution_count": 36,
   "metadata": {},
   "outputs": [
    {
     "data": {
      "text/plain": [
       "([('Ana', 25), ('Carlos', 30), ('María', 28)], zip)"
      ]
     },
     "execution_count": 36,
     "metadata": {},
     "output_type": "execute_result"
    }
   ],
   "source": [
    "nombres = [\"Ana\", \"Carlos\", \"María\"]\n",
    "edades = [25, 30, 28]\n",
    "\n",
    "combinado = list(zip(nombres, edades))\n",
    "# [('Ana', 25), ('Carlos', 30), ('María', 28)]\n",
    "combinado, type(zip(nombres, edades))"
   ]
  },
  {
   "cell_type": "markdown",
   "metadata": {},
   "source": [
    "## Tuplas\n",
    "Las tuplas son **listas inmutables**, por lo que no se pueden realizar modificaciones sobre ellas. Lo que se puede realizar con una tupla son las siguientes tareas:\n",
    "- Acceder a sus elementos\n",
    "- Crear una sub-tupla con elementos de la tupla principal\n",
    "- Comprobar si un elemento se encuentra en la tupla\n",
    "- Unir tuplas creando una nueva variable\n",
    "- Borrar toda la tupla usando `del`.\n",
    "\n",
    "Se pueden crear tuplas encerrando los elementos entre paréntesis `( )`. También se puede usar la función `tuple()` para definir tuplas vacías. Además, se puede una `tupla implícita` sin usar paréntesis, simplemente separando los elementos por comas."
   ]
  },
  {
   "cell_type": "code",
   "execution_count": 14,
   "metadata": {},
   "outputs": [
    {
     "name": "stdout",
     "output_type": "stream",
     "text": [
      "()\n",
      "()\n",
      "(30, 9.5, 'Juan', True, ('elemento1', 'elemento2', 'elemento3'))\n"
     ]
    }
   ],
   "source": [
    "tupla_vacia_1, tupla_vacia_2 = (), tuple()\n",
    "\n",
    "tupla = ('elemento1', 'elemento2','elemento3')\n",
    "tupla_variada = 30, 9.5, \"Juan\", True, tupla\n",
    "print(tupla_vacia_1, tupla_vacia_2, tupla_variada, sep=\"\\n\")"
   ]
  },
  {
   "cell_type": "markdown",
   "metadata": {},
   "source": [
    "Si se quiere modificar una tupla, se puede convertir en lista y, después de la modificación, convertirla de nuevo en tupla."
   ]
  },
  {
   "cell_type": "code",
   "execution_count": 1,
   "metadata": {},
   "outputs": [
    {
     "name": "stdout",
     "output_type": "stream",
     "text": [
      "Tupla original ('plátano', 'naranja', 'pera', 'limón')\n",
      "Tupla modificada siendo una lista: ('manzana', 'naranja', 'pera', 'limón')\n"
     ]
    }
   ],
   "source": [
    "tupla_frutas = ('plátano', 'naranja', 'pera', 'limón')\n",
    "print(\"Tupla original\", tupla_frutas)\n",
    "lista_frutas = list(tupla_frutas)\n",
    "lista_frutas[0] = 'manzana'\n",
    "tupla_frutas = tuple(lista_frutas)\n",
    "print(\"Tupla modificada siendo una lista:\", tupla_frutas)"
   ]
  },
  {
   "cell_type": "markdown",
   "metadata": {},
   "source": [
    "## Conjuntos\n",
    "Las conjuntos son **listas desordenadas** de __elementos únicos__. Esto quiere decir que no se puede acceder a los elementos por índices ni se permiten elementos duplicados. \n",
    "\n",
    "Se pueden crear conjuntos encerrando los elementos entre corchetes `{ }`. También se puede usar la función `set()` para definir conjuntos vacíos. En este caso no se puede declarar un conjunto vacío utilizando los corchetes vacíos."
   ]
  },
  {
   "cell_type": "code",
   "execution_count": 6,
   "metadata": {},
   "outputs": [
    {
     "name": "stdout",
     "output_type": "stream",
     "text": [
      "set()\n",
      "{'elemento2', 'elemento3', 'elemento1'}\n"
     ]
    }
   ],
   "source": [
    "empty_set = set()\n",
    "conjunto = {'elemento1', 'elemento2', 'elemento3'}\n",
    "print(empty_set, conjunto, sep=\"\\n\")"
   ]
  },
  {
   "cell_type": "markdown",
   "metadata": {},
   "source": []
  },
  {
   "cell_type": "code",
   "execution_count": null,
   "metadata": {},
   "outputs": [],
   "source": []
  }
 ],
 "metadata": {
  "kernelspec": {
   "display_name": "base",
   "language": "python",
   "name": "python3"
  },
  "language_info": {
   "codemirror_mode": {
    "name": "ipython",
    "version": 3
   },
   "file_extension": ".py",
   "mimetype": "text/x-python",
   "name": "python",
   "nbconvert_exporter": "python",
   "pygments_lexer": "ipython3",
   "version": "3.11.3"
  }
 },
 "nbformat": 4,
 "nbformat_minor": 2
}
